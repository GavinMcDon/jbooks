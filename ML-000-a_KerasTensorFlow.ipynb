{
 "cells": [
  {
   "cell_type": "markdown",
   "metadata": {},
   "source": [
    "# TensorFlow and Keras\n",
    "\n",
    "## An Introduction\n",
    " \n",
    "\n",
    "Install:\n",
    "  + conda install -c conda-forge pydot \n",
    "  \n",
    "  Install the Graphviz package.\n",
    "\n",
    "Reference: \n",
    "+ https://www.tensorflow.org/guide/keras/overview\n",
    "+ https://en.wikipedia.org/wiki/Tensor\n",
    "+ https://www.kdnuggets.com/2018/05/wtf-tensor.html"
   ]
  },
  {
   "cell_type": "code",
   "execution_count": 1,
   "metadata": {},
   "outputs": [],
   "source": [
    "# Python 3.7.3\n",
    "############################################\n",
    "# INCLUDES\n",
    "############################################\n",
    "#libraries specific to this example\n",
    "import tensorflow as tf\n",
    "from tensorflow import keras\n",
    "from tensorflow.keras import layers\n",
    "\n",
    "#a set of libraries that perhaps should always be in Python source\n",
    "import os \n",
    "import datetime\n",
    "import sys\n",
    "import gc\n",
    "import getopt\n",
    "import inspect\n",
    "import math\n",
    "import warnings\n",
    "import types\n",
    "\n",
    "#Data Science Libraries\n",
    "import numpy as np\n",
    "import pandas as pd\n",
    "import scipy as sp\n",
    "import scipy.ndimage\n",
    "\n",
    "#Plotting libraries\n",
    "import matplotlib as matplt\n",
    "import matplotlib.pyplot as plt\n",
    "\n",
    "#a darn useful library for creating paths and one I recommend you load to your environment\n",
    "from pathlib import Path\n",
    "\n",
    "# can type in the python console `help(name of function)` to get the documentation\n",
    "from pydoc import help                          \n",
    "\n",
    "#Import a custom library, in this case a fairly useful logging framework\n",
    "debug_lib_location = Path(\"./\")\n",
    "sys.path.append(str(debug_lib_location))\n",
    "import debug\n",
    "\n",
    "warnings.filterwarnings('ignore')               # don't print out warnings\n",
    "\n",
    "\n",
    "root_location=\".\" + os.sep + \"data\";"
   ]
  },
  {
   "cell_type": "code",
   "execution_count": 2,
   "metadata": {},
   "outputs": [],
   "source": [
    "############################################\n",
    "#JUPYTER NOTEBOOK OUTPUT CONTROL / FORMATTING\n",
    "############################################\n",
    "#set floating point to 4 places to things don't run loose\n",
    "pd.options.display.float_format = '{:,.4f}'.format\n",
    "np.set_printoptions(precision=4)"
   ]
  },
  {
   "cell_type": "markdown",
   "metadata": {},
   "source": [
    "# Variable declaration"
   ]
  },
  {
   "cell_type": "code",
   "execution_count": 3,
   "metadata": {},
   "outputs": [],
   "source": [
    "############################################\n",
    "# GLOBAL VARIABLES\n",
    "############################################\n",
    "DEBUG = 1                            #General ledger output so you know what's happening.\n",
    "DEBUG_DATA = 1                       #Extremely verbose output, change to zero (0) to supress the volume of output.\n",
    "\n",
    "# CODE CONSTRAINTS\n",
    "VERSION_NAME    = \"Keras\"\n",
    "VERSION_ACRONYM = \"KERAS\"\n",
    "VERSION_MAJOR   = 0\n",
    "VERSION_MINOR   = 0\n",
    "VERSION_RELEASE = \"0.a\"\n",
    "VERSION_TITLE   = VERSION_NAME + \" (\" + VERSION_ACRONYM + \") \" + str(VERSION_MAJOR) + \".\" + str(VERSION_MINOR) + \".\" + str(VERSION_RELEASE) + \" generated SEED.\"\n",
    "\n",
    "ENCODING  =\"utf-8\"\n",
    "############################################\n",
    "# GLOBAL CONSTANTS\n",
    "############################################\n",
    "TEMPERATURE=\"Temp(C)\"\n",
    "SALINITY=\"Sal(PSU)\"    \n",
    "\n",
    "############################################\n",
    "# APPLICATION VARIABLES\n",
    "############################################\n",
    "\n",
    "############################################\n",
    "# GLOBAL CONFIGURATION\n",
    "############################################\n",
    "os.environ['PYTHONIOENCODING']=ENCODING\n"
   ]
  },
  {
   "cell_type": "markdown",
   "metadata": {},
   "source": [
    "## Function Declaration"
   ]
  },
  {
   "cell_type": "code",
   "execution_count": 4,
   "metadata": {},
   "outputs": [],
   "source": [
    "############################################\n",
    "# WARNING / ERROR Management\n",
    "############################################\n",
    "def fxn():\n",
    "    warnings.warn(\"deprecated\", DeprecationWarning)\n",
    "\n",
    "with warnings.catch_warnings():\n",
    "    warnings.simplefilter(\"ignore\")\n",
    "    fxn()\n",
    "\n",
    "\n",
    "############################################\n",
    "# FUNCTIONS\n",
    "############################################\n",
    "\n",
    "def prototype(incMonth):\n",
    "\n",
    "    debug.msg_info(\"Entering {}.{}\".format(__name__, inspect.stack()[0][3]))\n",
    "    debug.msg_info(\"The month you passed in was \" + str(incMonth))\n",
    "    debug.msg_info(\"Exiting {}.{}\".format(__name__, inspect.stack()[0][3]))\n",
    "    return 1\n",
    "\n",
    "def lib_diagnostics():\n",
    "    debug.msg_debug(\"System version    #:{:>12}\".format(sys.version))\n",
    "    try:\n",
    "        netcdf4_version_info = nc.getlibversion().split(\" \")\n",
    "        debug.msg_debug(\"netCDF4 version   #:{:>12}\".format(netcdf4_version_info[0]))\n",
    "    except:\n",
    "        print(\"NetCDF4 lib not present.\")\n",
    "    debug.msg_debug(\"Matplotlib version#:{:>12}\".format(matplt.__version__))\n",
    "    debug.msg_debug(\"Numpy version     #:{:>12}\".format(np.__version__))\n",
    "    debug.msg_debug(\"Pandas version    #:{:>12}\".format(pd.__version__))\n",
    "    debug.msg_debug(\"SciPy version     #:{:>12}\".format(sp.__version__))\n",
    "    debug.msg_debug(\"TensorFlow version#:{:>12}\".format(tf.__version__))\n",
    "    return\n",
    "\n",
    "\n",
    "def get_full_version():\n",
    "\n",
    "    resultant = str(VERSION_NAME) + \"  v\" + str(VERSION_MAJOR) + \".\" + str(VERSION_MINOR) + \".\" + str(VERSION_RELEASE)\n",
    "    return resultant\n",
    "\n",
    "def get_version():\n",
    "\n",
    "    resultant = str(VERSION_MAJOR) + \".\" + str(VERSION_MINOR) + \".\" + str(VERSION_RELEASE)\n",
    "    return resultant\n",
    "\n",
    "def printversion():\n",
    "\n",
    "    print(get_full_version())\n",
    "\n",
    "def printusage():\n",
    "\n",
    "    print(\"\")\n",
    "    printversion()\n",
    "    print(\"  -v, --version    prints the version of this software package.\")\n",
    "    print(\"\")\n",
    "    print(\"  * - indicates required argument.\")\n",
    "\n",
    "def show_columns_plain(inc_ary):\n",
    "    new_ary = []\n",
    "    for col in inc_ary:\n",
    "        new_ary.append(np.char.lower(col))\n",
    "    new_ary.sort\n",
    "    myOutputString = \" \"\n",
    "    for col in new_ary:\n",
    "        myOutputString = myOutputString + \" \" + str(col)\n",
    "    return myOutputString\n",
    "\n",
    "def show_columns_true(inc_ary):\n",
    "    new_ary = []\n",
    "    for col in inc_ary:\n",
    "        new_ary.append(col)\n",
    "    new_ary.sort\n",
    "    myOutputString = \" \"\n",
    "    for col in new_ary:\n",
    "        myOutputString = myOutputString + \" \" + str(col)\n",
    "    return myOutputString\n",
    "\n",
    "###\n",
    "# valid string:\n",
    "#  We don't want the following:\n",
    "#   - at the start of the file name (might be construed as a switch)\n",
    "#  $, &, |, ;, <, >, `, !, *, \", \\ (to start with)\n",
    "###\n",
    "def validstring(testsubject):\n",
    "\n",
    "    if testsubject[0] == \"-\":\n",
    "        return 0\n",
    "    elif \"$\" in testsubject or \"&\" in testsubject or \"|\" in testsubject:\n",
    "        return 0\n",
    "    elif \";\" in testsubject or \"`\" in testsubject or \"!\" in testsubject:\n",
    "        return 0\n",
    "    elif \"*\" in testsubject or '\"' in testsubject or \"\\\\\" in testsubject:\n",
    "        return 0\n",
    "    else:\n",
    "        return 1"
   ]
  },
  {
   "cell_type": "code",
   "execution_count": 5,
   "metadata": {},
   "outputs": [],
   "source": [
    "# %load ./libs.py\n",
    "#Title:     Displays the libraries in current use.\n",
    "#Objective: Invocation is intended as function calls within another program.\n",
    "#Assumptions:\n",
    "#           1. Should be stored in standardized location such as:\n",
    "#                      /p/home/{user_name}/usr/PYTHONLIB\n",
    "#           2. Developer loads the module (Jupyter Lab).\n",
    "#Pre-Requisites:\n",
    "#           1. Python v3.*\n",
    "#           2. Jupyter Lab / Notebook (%load libs.py)\n",
    "#Usage:\n",
    "#       %load libs.py\n",
    "#       find_loaded_modules().HTML\n",
    "#\n",
    "#Version History:\n",
    "# ------------------------------------------------------------------------\n",
    "# Version   Date       Modification                              Author\n",
    "# ------------------------------------------------------------------------\n",
    "# 1.0       2020/04/29 Inception                                 Radiance\n",
    "# ------------------------------------------------------------------------\n",
    "# ------------------------------------------------------------------------\n",
    "\n",
    "\n",
    "#######################################################################\n",
    "#LIBRARIES\n",
    "#######################################################################\n",
    "import os\n",
    "import types\n",
    "\n",
    "def module_version(mod):\n",
    "    '''Return version string for module *mod*, or nothing if\n",
    "    it doesn't have a \"version\" or \"__version__\" attribute.'''\n",
    "    version = []\n",
    "    if hasattr(mod, '__dict__'):\n",
    "        keys = []\n",
    "        for key in mod.__dict__.keys():\n",
    "            if key.lower() == 'version' or key.lower() == '__version__':\n",
    "                v = mod.__dict__[key]\n",
    "                if (str):\n",
    "                    if isinstance(v, str):\n",
    "                        version.append(v)\n",
    "                else:\n",
    "                    version.append(\"No version\")\n",
    "        if keys:\n",
    "            print (mod, keys)\n",
    "    if version:\n",
    "        return ', '.join(version)\n",
    "    else:\n",
    "        return ''\n",
    "\n",
    "def find_loaded_modules(only_versioned_modules=True):\n",
    "\n",
    "    def list_of_lists_to_HTML(lists, header_row=None):\n",
    "        '''Convert a list of a list of strings to a HTML table.'''\n",
    "        s = '<table>'\n",
    "        if header_row:\n",
    "            s += '\\n\\t<tr>\\n\\t\\t'\n",
    "            s += ''.join(['<th>%s</th>' % item for item in header_row])\n",
    "            s += '\\n\\t</tr>'\n",
    "        for inner_list in lists:\n",
    "            s += '\\n\\t<tr>\\n\\t\\t'\n",
    "            s += ''.join(['<td>%s</td>' % item for item in inner_list])\n",
    "            s += '\\n\\t</tr>'\n",
    "        s += '\\n</table>'\n",
    "        return s\n",
    "    \n",
    "    class LoadedModules(list):\n",
    "        '''Very simple wrapper for a list of lists of strings, with an attribute\n",
    "        for display in IPython Notebooks.'''\n",
    "        def __init__(self, *args, **kwargs):\n",
    "            list.__init__(self, *args, **kwargs)\n",
    "            \n",
    "        @property\n",
    "        def HTML(self):\n",
    "            from IPython.display import HTML\n",
    "            return HTML(\n",
    "                    list_of_lists_to_HTML(\n",
    "                            self, header_row=['Name', 'Version']))\n",
    "                    \n",
    "    objs = LoadedModules()\n",
    "    for i, mod in enumerate(globals().values()):\n",
    "        if isinstance(mod, types.ModuleType):\n",
    "            if hasattr(mod, '__name__'):\n",
    "                name = mod.__name__\n",
    "            else:\n",
    "                name = ''\n",
    "            \n",
    "            version = module_version(mod)\n",
    "            \n",
    "            objs.append([mod.__name__, version])\n",
    "    objs.sort(key=lambda r: r[0])\n",
    "    return objs\n"
   ]
  },
  {
   "cell_type": "code",
   "execution_count": 6,
   "metadata": {},
   "outputs": [
    {
     "data": {
      "text/html": [
       "<table>\n",
       "\t<tr>\n",
       "\t\t<th>Name</th><th>Version</th>\n",
       "\t</tr>\n",
       "\t<tr>\n",
       "\t\t<td>builtins</td><td></td>\n",
       "\t</tr>\n",
       "\t<tr>\n",
       "\t\t<td>builtins</td><td></td>\n",
       "\t</tr>\n",
       "\t<tr>\n",
       "\t\t<td>datetime</td><td></td>\n",
       "\t</tr>\n",
       "\t<tr>\n",
       "\t\t<td>debug</td><td></td>\n",
       "\t</tr>\n",
       "\t<tr>\n",
       "\t\t<td>gc</td><td></td>\n",
       "\t</tr>\n",
       "\t<tr>\n",
       "\t\t<td>getopt</td><td></td>\n",
       "\t</tr>\n",
       "\t<tr>\n",
       "\t\t<td>inspect</td><td></td>\n",
       "\t</tr>\n",
       "\t<tr>\n",
       "\t\t<td>math</td><td></td>\n",
       "\t</tr>\n",
       "\t<tr>\n",
       "\t\t<td>matplotlib</td><td>3.4.2</td>\n",
       "\t</tr>\n",
       "\t<tr>\n",
       "\t\t<td>matplotlib.pyplot</td><td></td>\n",
       "\t</tr>\n",
       "\t<tr>\n",
       "\t\t<td>numpy</td><td>1.21.1</td>\n",
       "\t</tr>\n",
       "\t<tr>\n",
       "\t\t<td>os</td><td></td>\n",
       "\t</tr>\n",
       "\t<tr>\n",
       "\t\t<td>pandas</td><td>1.3.1</td>\n",
       "\t</tr>\n",
       "\t<tr>\n",
       "\t\t<td>scipy</td><td>1.7.1</td>\n",
       "\t</tr>\n",
       "\t<tr>\n",
       "\t\t<td>scipy</td><td>1.7.1</td>\n",
       "\t</tr>\n",
       "\t<tr>\n",
       "\t\t<td>sys</td><td>3.7.10 | packaged by conda-forge | (default, Feb 19 2021, 16:07:37) \n",
       "[GCC 9.3.0]</td>\n",
       "\t</tr>\n",
       "\t<tr>\n",
       "\t\t<td>tensorflow</td><td>2.1.0</td>\n",
       "\t</tr>\n",
       "\t<tr>\n",
       "\t\t<td>tensorflow_core.keras.layers</td><td></td>\n",
       "\t</tr>\n",
       "\t<tr>\n",
       "\t\t<td>tensorflow_core.python.keras.api._v2.keras</td><td>2.2.4-tf</td>\n",
       "\t</tr>\n",
       "\t<tr>\n",
       "\t\t<td>types</td><td></td>\n",
       "\t</tr>\n",
       "\t<tr>\n",
       "\t\t<td>warnings</td><td></td>\n",
       "\t</tr>\n",
       "</table>"
      ],
      "text/plain": [
       "<IPython.core.display.HTML object>"
      ]
     },
     "execution_count": 6,
     "metadata": {},
     "output_type": "execute_result"
    }
   ],
   "source": [
    "find_loaded_modules().HTML"
   ]
  },
  {
   "cell_type": "markdown",
   "metadata": {},
   "source": [
    "## Tensor Example in Python (data structures)"
   ]
  },
  {
   "cell_type": "code",
   "execution_count": 7,
   "metadata": {},
   "outputs": [
    {
     "name": "stdout",
     "output_type": "stream",
     "text": [
      "42\n",
      "A scalar is of rank 0\n",
      " \n",
      " \n",
      "[1 1 2 3 5 8]\n",
      "A vector is of rank 1\n",
      " \n",
      " \n",
      "[[1 4 7]\n",
      " [2 5 8]\n",
      " [3 6 9]]\n",
      "A matrix is of rank 2\n",
      " \n",
      " \n",
      "[[[  1   4   7]\n",
      "  [  2   5   8]\n",
      "  [  3   6   9]]\n",
      "\n",
      " [[ 10  40  70]\n",
      "  [ 20  50  80]\n",
      "  [ 30  60  90]]\n",
      "\n",
      " [[100 400 700]\n",
      "  [200 500 800]\n",
      "  [300 600 900]]]\n",
      "This tensor is of rank 3\n"
     ]
    }
   ],
   "source": [
    "####################################\n",
    "#Array\n",
    "####################################\n",
    "x = np.array(42)\n",
    "print(x)\n",
    "print('A scalar is of rank %d' %(x.ndim))\n",
    "print(\" \")\n",
    "print(\" \")\n",
    "####################################\n",
    "#Vector\n",
    "####################################\n",
    "x = np.array([1, 1, 2, 3, 5, 8])\n",
    "print(x)\n",
    "print('A vector is of rank %d' %(x.ndim))\n",
    "print(\" \")\n",
    "print(\" \")\n",
    "####################################\n",
    "#Matrix\n",
    "####################################\n",
    "x = np.array([[1, 4, 7],\n",
    "              [2, 5, 8],\n",
    "              [3, 6, 9]])\n",
    "print(x)\n",
    "print('A matrix is of rank %d' %(x.ndim))\n",
    "print(\" \")\n",
    "print(\" \")\n",
    "####################################\n",
    "#3D Tensor\n",
    "####################################\n",
    "x = np.array([[[1, 4, 7],\n",
    "               [2, 5, 8],\n",
    "               [3, 6, 9]],\n",
    "              [[10, 40, 70],\n",
    "               [20, 50, 80],\n",
    "               [30, 60, 90]],\n",
    "              [[100, 400, 700],\n",
    "               [200, 500, 800],\n",
    "               [300, 600, 900]]])\n",
    "print(x)\n",
    "print('This tensor is of rank %d' %(x.ndim))"
   ]
  },
  {
   "cell_type": "markdown",
   "metadata": {},
   "source": [
    "## Build a simple model\n",
    "### Sequential model\n",
    "\n",
    "In Keras, you assemble layers to build models. A model is (usually) a graph of layers. The most common type of model is a stack of layers: the tf.keras.Sequential model.\n",
    "\n",
    "To build a simple, fully-connected network (i.e. multi-layer perceptron):"
   ]
  },
  {
   "cell_type": "code",
   "execution_count": 8,
   "metadata": {},
   "outputs": [],
   "source": [
    "model = tf.keras.Sequential()\n",
    "# Adds a densely-connected layer with 64 neurons / units to the model:\n",
    "model.add(layers.Dense(64, activation='relu'))\n",
    "# Add another:\n",
    "model.add(layers.Dense(64, activation='relu'))\n",
    "# Add an output layer with 10 output neurons / units:\n",
    "model.add(layers.Dense(10))"
   ]
  },
  {
   "cell_type": "markdown",
   "metadata": {},
   "source": [
    "## Configure the layers\n",
    "\n",
    "There are many tf.keras.layers available. Most of them share some common constructor arguments:\n",
    "\n",
    "    activation: Set the activation function for the layer. This parameter is specified by the name of a built-in function or as a callable object. By default, no activation is applied. The activation function is what \"activates\" moving the probabilities forward to the next neuron.  Some sample activation functions are:\n",
    "    \n",
    "    + Linear\n",
    "    + ELU\n",
    "    + ReLU\n",
    "    + LeakyReLU\n",
    "    + Sigmoid\n",
    "    + Tanh\n",
    "    + Softmax\n",
    "    \n",
    "    kernel_initializer and bias_initializer: The initialization schemes that create the layer's weights (kernel and bias). This parameter is a name or a callable object. The kernel defaults to the \"Glorot uniform\" initializer, and the bias defaults to zeros.\n",
    "    kernel_regularizer and bias_regularizer: The regularization schemes that apply the layer's weights (kernel and bias), such as L1 or L2 regularization. By default, no regularization is applied.\n",
    "\n",
    "The following instantiates tf.keras.layers.Dense layers using constructor arguments:"
   ]
  },
  {
   "cell_type": "code",
   "execution_count": 9,
   "metadata": {},
   "outputs": [
    {
     "data": {
      "text/plain": [
       "<tensorflow.python.keras.layers.core.Dense at 0x7f6b253e6990>"
      ]
     },
     "execution_count": 9,
     "metadata": {},
     "output_type": "execute_result"
    }
   ],
   "source": [
    "# Create a relu layer:\n",
    "# -- a recent invention which stands for Rectified Linear Units. The formula is deceptively simple: max(0,z). Despite its name and appearance, it’s not linear and provides the same benefits as Sigmoid but with better performance.\n",
    "layers.Dense(64, activation='relu')\n",
    "# Or, using the API\n",
    "layers.Dense(64, activation=tf.nn.relu)\n",
    "\n",
    "# A linear layer with L1 regularization of factor 0.01 applied to the kernel matrix:\n",
    "layers.Dense(64, kernel_regularizer=tf.keras.regularizers.l1(0.01))\n",
    "\n",
    "# A linear layer with L2 regularization of factor 0.01 applied to the bias vector:\n",
    "layers.Dense(64, bias_regularizer=tf.keras.regularizers.l2(0.01))\n",
    "\n",
    "# A linear layer with a kernel initialized to a random orthogonal matrix:\n",
    "layers.Dense(64, kernel_initializer='orthogonal')\n",
    "\n",
    "# A linear layer with a bias vector initialized to 2.0s:\n",
    "layers.Dense(64, bias_initializer=tf.keras.initializers.Constant(2.0))\n"
   ]
  },
  {
   "cell_type": "markdown",
   "metadata": {},
   "source": [
    "## Train and evaluate\n",
    "### Set up training\n",
    "\n",
    "After the model is constructed, configure its learning process by calling the compile method.\n",
    "\n",
    "tf.keras.Model.compile takes three important arguments:\n",
    "\n",
    "    + optimizer: This object specifies the training procedure. Pass it optimizer instances from the tf.keras.optimizers module, such as tf.keras.optimizers.Adam or tf.keras.optimizers.SGD. If you just want to use the default parameters, you can also specify optimizers via strings, such as 'adam' or 'sgd'.\n",
    "    + loss: The function to minimize during optimization. Common choices include mean square error (mse), categorical_crossentropy, and binary_crossentropy. Loss functions are specified by name or by passing a callable object from the tf.keras.losses module.\n",
    "    + metrics: Used to monitor training. These are string names or callables from the tf.keras.metrics module.\n",
    "\n",
    "Additionally, to make sure the model trains and evaluates eagerly, you can make sure to pass run_eagerly=True as a parameter to compile.\n"
   ]
  },
  {
   "cell_type": "code",
   "execution_count": 10,
   "metadata": {},
   "outputs": [],
   "source": [
    "model = tf.keras.Sequential([\n",
    "# Adds a densely-connected layer with 64 units to the model:\n",
    "layers.Dense(64, activation='relu', input_shape=(32,)),\n",
    "# Add another:\n",
    "layers.Dense(64, activation='relu'),\n",
    "# Add an output layer with 10 output units:\n",
    "layers.Dense(10)])\n",
    "\n",
    "model.compile(optimizer=tf.keras.optimizers.Adam(0.01),\n",
    "              loss=tf.keras.losses.CategoricalCrossentropy(from_logits=True),\n",
    "              metrics=['accuracy'])\n",
    "\n",
    "# Configure a model for mean-squared error regression.\n",
    "#model.compile(optimizer=tf.keras.optimizers.Adam(0.01),\n",
    "#              loss='mse',       # mean squared error\n",
    "#              metrics=['mae'])  # mean absolute error\n",
    "\n",
    "# Configure a model for categorical classification.\n",
    "#model.compile(optimizer=tf.keras.optimizers.RMSprop(0.01),\n",
    "#              loss=tf.keras.losses.CategoricalCrossentropy(from_logits=True),\n",
    "#              metrics=['accuracy'])"
   ]
  },
  {
   "cell_type": "markdown",
   "metadata": {},
   "source": [
    "# Train from tf.data datasets\n",
    "\n",
    "The model is \"fit\" to the training data using the fit method.\n",
    "\n",
    "A History object. Its History.history attribute is a record of training loss values and metrics values at successive epochs, as well as validation loss values and validation metrics values (if applicable)."
   ]
  },
  {
   "cell_type": "code",
   "execution_count": 11,
   "metadata": {},
   "outputs": [
    {
     "name": "stdout",
     "output_type": "stream",
     "text": [
      "Train on 1000 samples, validate on 100 samples\n",
      "Epoch 1/10\n",
      "1000/1000 [==============================] - 1s 500us/sample - loss: 35.4364 - accuracy: 0.1050 - val_loss: 74.2673 - val_accuracy: 0.1800\n",
      "Epoch 2/10\n",
      "1000/1000 [==============================] - 0s 68us/sample - loss: 176.0420 - accuracy: 0.1010 - val_loss: 328.7157 - val_accuracy: 0.1400\n",
      "Epoch 3/10\n",
      "1000/1000 [==============================] - 0s 58us/sample - loss: 721.8529 - accuracy: 0.1080 - val_loss: 1328.1795 - val_accuracy: 0.0200\n",
      "Epoch 4/10\n",
      "1000/1000 [==============================] - 0s 53us/sample - loss: 1955.1812 - accuracy: 0.1030 - val_loss: 2473.2173 - val_accuracy: 0.1300\n",
      "Epoch 5/10\n",
      "1000/1000 [==============================] - 0s 50us/sample - loss: 3791.5802 - accuracy: 0.0880 - val_loss: 4244.3621 - val_accuracy: 0.0200\n",
      "Epoch 6/10\n",
      "1000/1000 [==============================] - 0s 52us/sample - loss: 8204.4174 - accuracy: 0.1050 - val_loss: 8522.7638 - val_accuracy: 0.1600\n",
      "Epoch 7/10\n",
      "1000/1000 [==============================] - 0s 53us/sample - loss: 8005.4212 - accuracy: 0.1090 - val_loss: 17209.2605 - val_accuracy: 0.0700\n",
      "Epoch 8/10\n",
      "1000/1000 [==============================] - 0s 51us/sample - loss: 17812.3006 - accuracy: 0.1150 - val_loss: 19686.6256 - val_accuracy: 0.1400\n",
      "Epoch 9/10\n",
      "1000/1000 [==============================] - 0s 54us/sample - loss: 20416.1402 - accuracy: 0.0940 - val_loss: 25518.8002 - val_accuracy: 0.1400\n",
      "Epoch 10/10\n",
      "1000/1000 [==============================] - 0s 51us/sample - loss: 26378.5161 - accuracy: 0.1010 - val_loss: 40493.5625 - val_accuracy: 0.1400\n"
     ]
    }
   ],
   "source": [
    "data = np.random.random((1000, 32))\n",
    "labels = np.random.random((1000, 10))\n",
    "\n",
    "val_data = np.random.random((100, 32))\n",
    "val_labels = np.random.random((100, 10))\n",
    "\n",
    "model_history=model.fit(data, labels, epochs=10, batch_size=32,\n",
    "                        validation_data=(val_data, val_labels))\n"
   ]
  },
  {
   "cell_type": "code",
   "execution_count": 12,
   "metadata": {},
   "outputs": [
    {
     "name": "stdout",
     "output_type": "stream",
     "text": [
      "\n",
      "history dict: {'loss': [35.43642385864258, 176.04200927734374, 721.852916015625, 1955.18119140625, 3791.58021875, 8204.417375, 8005.421234375, 17812.3006171875, 20416.14021875, 26378.51609375], 'accuracy': [0.105, 0.101, 0.108, 0.103, 0.088, 0.105, 0.109, 0.115, 0.094, 0.101], 'val_loss': [74.26731750488281, 328.7156774902344, 1328.179453125, 2473.217265625, 4244.3620703125, 8522.763828125, 17209.260546875, 19686.625625, 25518.80015625, 40493.5625], 'val_accuracy': [0.18, 0.14, 0.02, 0.13, 0.02, 0.16, 0.07, 0.14, 0.14, 0.14]}\n"
     ]
    }
   ],
   "source": [
    "print('\\nhistory dict:', model_history.history)"
   ]
  },
  {
   "cell_type": "code",
   "execution_count": 13,
   "metadata": {},
   "outputs": [
    {
     "data": {
      "image/png": "[encoded data removed]",
      "text/plain": [
       "<Figure size 432x288 with 1 Axes>"
      ]
     },
     "metadata": {
      "needs_background": "light"
     },
     "output_type": "display_data"
    },
    {
     "data": {
      "image/png": "[encoded data removed]",
      "text/plain": [
       "<Figure size 432x288 with 1 Axes>"
      ]
     },
     "metadata": {
      "needs_background": "light"
     },
     "output_type": "display_data"
    }
   ],
   "source": [
    "# Plot training & validation accuracy values\n",
    "plt.plot(model_history.history['accuracy'])\n",
    "plt.plot(model_history.history['val_accuracy'])\n",
    "plt.title('Model accuracy')\n",
    "plt.ylabel('Accuracy')\n",
    "plt.xlabel('Epoch')\n",
    "plt.legend(['Train', 'Test'], loc='upper left')\n",
    "plt.show()\n",
    "\n",
    "# Plot training & validation loss values\n",
    "plt.plot(model_history.history['loss'])\n",
    "plt.plot(model_history.history['val_loss'])\n",
    "plt.title('Model loss')\n",
    "plt.ylabel('Loss')\n",
    "plt.xlabel('Epoch')\n",
    "plt.legend(['Train', 'Test'], loc='upper left')\n",
    "plt.show()"
   ]
  },
  {
   "cell_type": "code",
   "execution_count": 14,
   "metadata": {},
   "outputs": [
    {
     "name": "stdout",
     "output_type": "stream",
     "text": [
      "Train for 32 steps\n",
      "Epoch 1/10\n",
      "32/32 [==============================] - 0s 7ms/step - loss: 32324.4342 - accuracy: 0.0970\n",
      "Epoch 2/10\n",
      "32/32 [==============================] - 0s 2ms/step - loss: 35083.8855 - accuracy: 0.0930\n",
      "Epoch 3/10\n",
      "32/32 [==============================] - 0s 2ms/step - loss: 49195.1735 - accuracy: 0.0950\n",
      "Epoch 4/10\n",
      "32/32 [==============================] - 0s 2ms/step - loss: 47897.1073 - accuracy: 0.1100\n",
      "Epoch 5/10\n",
      "32/32 [==============================] - 0s 2ms/step - loss: 68369.6433 - accuracy: 0.0910\n",
      "Epoch 6/10\n",
      "32/32 [==============================] - 0s 2ms/step - loss: 55712.5929 - accuracy: 0.1100\n",
      "Epoch 7/10\n",
      "32/32 [==============================] - 0s 2ms/step - loss: 83868.5235 - accuracy: 0.1160\n",
      "Epoch 8/10\n",
      "32/32 [==============================] - 0s 2ms/step - loss: 82611.4858 - accuracy: 0.0830\n",
      "Epoch 9/10\n",
      "32/32 [==============================] - 0s 2ms/step - loss: 101364.2294 - accuracy: 0.1090\n",
      "Epoch 10/10\n",
      "32/32 [==============================] - 0s 2ms/step - loss: 103413.1669 - accuracy: 0.1100\n"
     ]
    }
   ],
   "source": [
    "#alternatively\n",
    "# Instantiates a toy dataset instance:\n",
    "dataset = tf.data.Dataset.from_tensor_slices((data, labels))\n",
    "\n",
    "dataset = dataset.batch(32)\n",
    "\n",
    "#Since the Dataset yields batches of data, this snippet does not require a batch_size.\n",
    "History=model.fit(dataset, epochs=10)\n"
   ]
  },
  {
   "cell_type": "markdown",
   "metadata": {},
   "source": [
    "## Evaluate\n",
    "The tf.keras.Model.evaluate and tf.keras.Model.predict methods can use NumPy data and a tf.data.Dataset.\n",
    "\n",
    "Returns the loss value & metrics values for the model in test mode.\n",
    "\n",
    "Computation is done in batches.  Scalar test loss (if the model has a single output and no metrics) or list of scalars (if the model has multiple outputs and/or metrics). The attribute model.metrics_names will give you the display labels for the scalar outputs.\n",
    "\n",
    "Here's how to evaluate the inference-mode loss and metrics for the data provided:"
   ]
  },
  {
   "cell_type": "code",
   "execution_count": 15,
   "metadata": {},
   "outputs": [
    {
     "name": "stdout",
     "output_type": "stream",
     "text": [
      "1000/1000 [==============================] - 0s 28us/sample - loss: 132415.4265 - accuracy: 0.1020\n",
      "32/32 [==============================] - 0s 3ms/step - loss: 132800.5217 - accuracy: 0.1020\n",
      "test loss, test acc: [132800.52172851562, 0.102]\n",
      "\n",
      "# Generate predictions for 3 samples\n",
      "predictions shape: (3, 10)\n"
     ]
    }
   ],
   "source": [
    "# With Numpy arrays\n",
    "data = np.random.random((1000, 32))\n",
    "labels = np.random.random((1000, 10))\n",
    "\n",
    "model.evaluate(data, labels, batch_size=32)\n",
    "\n",
    "# With a Dataset\n",
    "dataset = tf.data.Dataset.from_tensor_slices((data, labels))\n",
    "dataset = dataset.batch(32)\n",
    "\n",
    "results=model.evaluate(dataset)\n",
    "\n",
    "print('test loss, test acc:', results)\n",
    "\n",
    "# Generate predictions (probabilities -- the output of the last layer)\n",
    "# on new data using `predict`\n",
    "print('\\n# Generate predictions for 3 samples')\n",
    "predictions = model.predict(data[:3])\n",
    "print('predictions shape:', predictions.shape)"
   ]
  },
  {
   "cell_type": "code",
   "execution_count": 16,
   "metadata": {},
   "outputs": [
    {
     "data": {
      "text/plain": [
       "['loss', 'accuracy']"
      ]
     },
     "execution_count": 16,
     "metadata": {},
     "output_type": "execute_result"
    }
   ],
   "source": [
    "model.metrics_names"
   ]
  },
  {
   "cell_type": "markdown",
   "metadata": {},
   "source": [
    "## Prediction\n",
    "\n",
    "Generates output predictions for the input samples.\n",
    "\n",
    "Computation is done in batches.  Returns a Numpy array(s) of predictions."
   ]
  },
  {
   "cell_type": "code",
   "execution_count": 17,
   "metadata": {},
   "outputs": [
    {
     "name": "stdout",
     "output_type": "stream",
     "text": [
      "(1000, 10)\n"
     ]
    }
   ],
   "source": [
    "result = model.predict(data, batch_size=32)\n",
    "print(result.shape)"
   ]
  },
  {
   "cell_type": "code",
   "execution_count": 18,
   "metadata": {},
   "outputs": [
    {
     "name": "stdout",
     "output_type": "stream",
     "text": [
      "[0.943  0.3707 0.9322 0.8449 0.8159 0.1471 0.9918 0.3955 0.4285 0.0418\n",
      " 0.1532 0.7112 0.4929 0.6262 0.2774 0.3692 0.8788 0.5608 0.4245 0.5011\n",
      " 0.6021 0.9617 0.5802 0.5104 0.4817 0.2082 0.1756 0.1005 0.7123 0.2671\n",
      " 0.2685 0.0182]\n",
      "[0.0967 0.3712 0.6109 0.3768 0.2325 0.1415 0.4221 0.2649 0.2348 0.7954]\n",
      "[31954170. 31893762. 31966256. 31960614. 31943820. 31930256. 31954746.\n",
      " 31966524. 31911300. 31922956.]\n"
     ]
    }
   ],
   "source": [
    "print(data[0])\n",
    "print(labels[0])\n",
    "print(result[0,:])"
   ]
  },
  {
   "cell_type": "markdown",
   "metadata": {},
   "source": [
    "## What do we do with the result?\n",
    "\n",
    "No idea, it's a horrible example other than to show you how Keras is setup and initial model building."
   ]
  }
 ],
 "metadata": {
  "kernelspec": {
   "display_name": "Python 3",
   "language": "python",
   "name": "python3"
  },
  "language_info": {
   "codemirror_mode": {
    "name": "ipython",
    "version": 3
   },
   "file_extension": ".py",
   "mimetype": "text/x-python",
   "name": "python",
   "nbconvert_exporter": "python",
   "pygments_lexer": "ipython3",
   "version": "3.7.10"
  }
 },
 "nbformat": 4,
 "nbformat_minor": 4
}
