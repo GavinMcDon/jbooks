{
 "cells": [
  {
   "cell_type": "markdown",
   "metadata": {},
   "source": [
    "# Jupyter Notebook with SkLearn and Linear Regression \n",
    "## This notebook represents the \"basics\" with Data Science work"
   ]
  },
  {
   "cell_type": "markdown",
   "metadata": {},
   "source": [
    "# Includes and Libraries"
   ]
  },
  {
   "cell_type": "code",
   "execution_count": 1,
   "metadata": {},
   "outputs": [],
   "source": [
    "############################################\n",
    "# INCLUDES\n",
    "############################################\n",
    "#libraries specific to this example\n",
    "import numpy as np\n",
    "import pandas as pd\n",
    "import scipy as sp\n",
    "from sklearn.linear_model import LinearRegression\n",
    "import matplotlib as matplt\n",
    "import matplotlib.pyplot as plt\n",
    "\n",
    "#a set of libraries that perhaps should always be in Python source\n",
    "import os \n",
    "import datetime\n",
    "import sys\n",
    "import gc\n",
    "import getopt\n",
    "import inspect\n",
    "import math\n",
    "import warnings\n",
    "\n",
    "#a darn useful library for creating paths and one I recommend you load to your environment\n",
    "from pathlib import Path\n",
    "\n",
    "\n",
    "#Import a custom library, in this case a fairly useful logging framework\n",
    "debug_lib_location = Path(\"./\")\n",
    "sys.path.append(str(debug_lib_location))\n",
    "import debug\n",
    "\n",
    "root_location=\".\"+os.sep+\"data\";"
   ]
  },
  {
   "cell_type": "code",
   "execution_count": 2,
   "metadata": {},
   "outputs": [],
   "source": [
    "############################################\n",
    "#JUPYTER NOTEBOOK OUTPUT CONTROL / FORMATTING\n",
    "############################################\n",
    "#set floating point to 4 places to things don't run loose\n",
    "pd.options.display.float_format = '{:,.4f}'.format\n",
    "np.set_printoptions(precision=4)"
   ]
  },
  {
   "cell_type": "markdown",
   "metadata": {},
   "source": [
    "# Variable declaration"
   ]
  },
  {
   "cell_type": "code",
   "execution_count": 3,
   "metadata": {},
   "outputs": [],
   "source": [
    "############################################\n",
    "# GLOBAL VARIABLES\n",
    "############################################\n",
    "DEBUG = 1\n",
    "DEBUG_DATA = 0\n",
    "\n",
    "# CODE CONSTRAINTS\n",
    "VERSION_NAME    = \"SKLearn\"\n",
    "VERSION_MAJOR   = 0\n",
    "VERSION_MINOR   = 0\n",
    "VERSION_RELEASE = 1\n",
    "\n",
    "#used for values outside standard ASCII, just do it, you'll need it\n",
    "ENCODING  =\"utf-8\"\n",
    "\n",
    "############################################\n",
    "# GLOBAL CONSTANTS\n",
    "############################################\n",
    "TEMPERATURE=\"Temp(C)\"\n",
    "SALINITY=\"Sal(PSU)\"\n",
    "\n",
    "############################################\n",
    "# APPLICATION VARIABLES\n",
    "############################################\n",
    "\n",
    "############################################\n",
    "# GLOBAL CONFIGURATION\n",
    "############################################\n",
    "os.environ['PYTHONIOENCODING']=ENCODING\n"
   ]
  },
  {
   "cell_type": "markdown",
   "metadata": {},
   "source": [
    "# Example of Defining a Function"
   ]
  },
  {
   "cell_type": "code",
   "execution_count": 4,
   "metadata": {},
   "outputs": [],
   "source": [
    "def lib_diagnostics():\n",
    "    debug.msg_debug(\"System version    #:{:>12}\".format(sys.version))\n",
    "    debug.msg_debug(\"Matplotlib version#:{:>12}\".format(matplt.__version__))\n",
    "    debug.msg_debug(\"Numpy version     #:{:>12}\".format(np.__version__))\n",
    "    debug.msg_debug(\"Pandas version    #:{:>12}\".format(pd.__version__))\n",
    "    debug.msg_debug(\"SciPy version     #:{:>12}\".format(sp.__version__))\n",
    "\n",
    "    return"
   ]
  },
  {
   "cell_type": "markdown",
   "metadata": {},
   "source": [
    "# Library Invocation\n",
    "### Note that it's also useful to use this code so that you carry around a list of version dependencies and know how you did something (version)"
   ]
  },
  {
   "cell_type": "code",
   "execution_count": 5,
   "metadata": {},
   "outputs": [
    {
     "name": "stdout",
     "output_type": "stream",
     "text": [
      "[2022-09-12 15:44:29 Central Daylight Time]   DEBUG: System version    #:3.7.10 (default, Feb 26 2021, 13:06:18) [MSC v.1916 64 bit (AMD64)] \n",
      "[2022-09-12 15:44:29 Central Daylight Time]   DEBUG: Matplotlib version#:       3.3.4 \n",
      "[2022-09-12 15:44:29 Central Daylight Time]   DEBUG: Numpy version     #:      1.19.2 \n",
      "[2022-09-12 15:44:29 Central Daylight Time]   DEBUG: Pandas version    #:       1.2.3 \n",
      "[2022-09-12 15:44:29 Central Daylight Time]   DEBUG: SciPy version     #:       1.6.2 \n"
     ]
    }
   ],
   "source": [
    "lib_diagnostics()"
   ]
  },
  {
   "cell_type": "markdown",
   "metadata": {},
   "source": [
    "# Data Read\n",
    "### Using pandas read in a data file and establish a log for output."
   ]
  },
  {
   "cell_type": "code",
   "execution_count": 6,
   "metadata": {},
   "outputs": [],
   "source": [
    "#READ DATA IN\n",
    "filename=os.sep + \"mooring_data.txt\"\n",
    "data=pd.read_csv(root_location+filename, delimiter='^', engine='python')\n",
    "\n",
    "log_file = \".\"+os.sep+\"data\"+os.sep+\"feature_1_batch_1.log\""
   ]
  },
  {
   "cell_type": "code",
   "execution_count": 7,
   "metadata": {},
   "outputs": [
    {
     "name": "stdout",
     "output_type": "stream",
     "text": [
      "Index([' Time(ms)', 'Depth(m)', 'Pres(dbar)', 'Temp(C)', 'Cond(S/m)',\n",
      "       'Sal(PSU)', 'a650__', 'a676__', 'a715__', 'c510__', 'c532__', 'c555__',\n",
      "       'a412__', 'a440__', 'a488__', 'c650__', 'c676__', 'c715__', 'a510__',\n",
      "       'a532__', 'a555__', 'c412__', 'c440__', 'c488__', 'Beta(470)',\n",
      "       'BetaP(470)', 'bbP(470)', 'bb(470)', 'Beta(532)', 'BetaP(532)',\n",
      "       'bbP(532)', 'bb(532)', 'Beta(650)', 'BetaP(650)', 'bbP(650)', 'bb(650)',\n",
      "       'CHL(ug/l)', 'PE(ppb)', 'CDOM(ppb)'],\n",
      "      dtype='object')\n"
     ]
    }
   ],
   "source": [
    "#what does the data domain look like?\n",
    "print(data.columns)"
   ]
  },
  {
   "cell_type": "code",
   "execution_count": 8,
   "metadata": {},
   "outputs": [
    {
     "name": "stdout",
     "output_type": "stream",
     "text": [
      "<class 'pandas.core.frame.DataFrame'>\n",
      "RangeIndex: 54225 entries, 0 to 54224\n",
      "Data columns (total 39 columns):\n",
      " #   Column      Non-Null Count  Dtype  \n",
      "---  ------      --------------  -----  \n",
      " 0    Time(ms)   54225 non-null  int64  \n",
      " 1   Depth(m)    54225 non-null  float64\n",
      " 2   Pres(dbar)  54225 non-null  float64\n",
      " 3   Temp(C)     54225 non-null  float64\n",
      " 4   Cond(S/m)   54225 non-null  float64\n",
      " 5   Sal(PSU)    54225 non-null  float64\n",
      " 6   a650__      54225 non-null  float64\n",
      " 7   a676__      54225 non-null  float64\n",
      " 8   a715__      54225 non-null  float64\n",
      " 9   c510__      54221 non-null  float64\n",
      " 10  c532__      54224 non-null  float64\n",
      " 11  c555__      54225 non-null  float64\n",
      " 12  a412__      54191 non-null  float64\n",
      " 13  a440__      54196 non-null  float64\n",
      " 14  a488__      54213 non-null  float64\n",
      " 15  c650__      54225 non-null  float64\n",
      " 16  c676__      54225 non-null  float64\n",
      " 17  c715__      54225 non-null  float64\n",
      " 18  a510__      54221 non-null  float64\n",
      " 19  a532__      54224 non-null  float64\n",
      " 20  a555__      54225 non-null  float64\n",
      " 21  c412__      54191 non-null  float64\n",
      " 22  c440__      54196 non-null  float64\n",
      " 23  c488__      54213 non-null  float64\n",
      " 24  Beta(470)   54225 non-null  float64\n",
      " 25  BetaP(470)  54225 non-null  float64\n",
      " 26  bbP(470)    54225 non-null  float64\n",
      " 27  bb(470)     54225 non-null  float64\n",
      " 28  Beta(532)   54225 non-null  float64\n",
      " 29  BetaP(532)  54225 non-null  float64\n",
      " 30  bbP(532)    54225 non-null  float64\n",
      " 31  bb(532)     54225 non-null  float64\n",
      " 32  Beta(650)   54225 non-null  float64\n",
      " 33  BetaP(650)  54225 non-null  float64\n",
      " 34  bbP(650)    54225 non-null  float64\n",
      " 35  bb(650)     54225 non-null  float64\n",
      " 36  CHL(ug/l)   54225 non-null  float64\n",
      " 37  PE(ppb)     54225 non-null  float64\n",
      " 38  CDOM(ppb)   54225 non-null  float64\n",
      "dtypes: float64(38), int64(1)\n",
      "memory usage: 16.1 MB\n"
     ]
    }
   ],
   "source": [
    "#learn pandas\n",
    "data.info()"
   ]
  },
  {
   "cell_type": "code",
   "execution_count": 9,
   "metadata": {},
   "outputs": [
    {
     "data": {
      "text/html": [
       "<div>\n",
       "<style scoped>\n",
       "    .dataframe tbody tr th:only-of-type {\n",
       "        vertical-align: middle;\n",
       "    }\n",
       "\n",
       "    .dataframe tbody tr th {\n",
       "        vertical-align: top;\n",
       "    }\n",
       "\n",
       "    .dataframe thead th {\n",
       "        text-align: right;\n",
       "    }\n",
       "</style>\n",
       "<table border=\"1\" class=\"dataframe\">\n",
       "  <thead>\n",
       "    <tr style=\"text-align: right;\">\n",
       "      <th></th>\n",
       "      <th>Time(ms)</th>\n",
       "      <th>Depth(m)</th>\n",
       "      <th>Pres(dbar)</th>\n",
       "      <th>Temp(C)</th>\n",
       "      <th>Cond(S/m)</th>\n",
       "      <th>Sal(PSU)</th>\n",
       "      <th>a650__</th>\n",
       "      <th>a676__</th>\n",
       "      <th>a715__</th>\n",
       "      <th>c510__</th>\n",
       "      <th>...</th>\n",
       "      <th>BetaP(532)</th>\n",
       "      <th>bbP(532)</th>\n",
       "      <th>bb(532)</th>\n",
       "      <th>Beta(650)</th>\n",
       "      <th>BetaP(650)</th>\n",
       "      <th>bbP(650)</th>\n",
       "      <th>bb(650)</th>\n",
       "      <th>CHL(ug/l)</th>\n",
       "      <th>PE(ppb)</th>\n",
       "      <th>CDOM(ppb)</th>\n",
       "    </tr>\n",
       "  </thead>\n",
       "  <tbody>\n",
       "    <tr>\n",
       "      <th>count</th>\n",
       "      <td>54,225.0000</td>\n",
       "      <td>54,225.0000</td>\n",
       "      <td>54,225.0000</td>\n",
       "      <td>54,225.0000</td>\n",
       "      <td>54,225.0000</td>\n",
       "      <td>54,225.0000</td>\n",
       "      <td>54,225.0000</td>\n",
       "      <td>54,225.0000</td>\n",
       "      <td>54,225.0000</td>\n",
       "      <td>54,221.0000</td>\n",
       "      <td>...</td>\n",
       "      <td>54,225.0000</td>\n",
       "      <td>54,225.0000</td>\n",
       "      <td>54,225.0000</td>\n",
       "      <td>54,225.0000</td>\n",
       "      <td>54,225.0000</td>\n",
       "      <td>54,225.0000</td>\n",
       "      <td>54,225.0000</td>\n",
       "      <td>54,225.0000</td>\n",
       "      <td>54,225.0000</td>\n",
       "      <td>54,225.0000</td>\n",
       "    </tr>\n",
       "    <tr>\n",
       "      <th>mean</th>\n",
       "      <td>142,272,472.1344</td>\n",
       "      <td>2.4052</td>\n",
       "      <td>2.4217</td>\n",
       "      <td>20.4734</td>\n",
       "      <td>3.3244</td>\n",
       "      <td>23.0135</td>\n",
       "      <td>0.8114</td>\n",
       "      <td>0.9437</td>\n",
       "      <td>1.3253</td>\n",
       "      <td>9.5783</td>\n",
       "      <td>...</td>\n",
       "      <td>0.0196</td>\n",
       "      <td>0.1354</td>\n",
       "      <td>0.1366</td>\n",
       "      <td>0.0104</td>\n",
       "      <td>0.0104</td>\n",
       "      <td>0.0717</td>\n",
       "      <td>0.0722</td>\n",
       "      <td>0.0559</td>\n",
       "      <td>9.7436</td>\n",
       "      <td>15.9809</td>\n",
       "    </tr>\n",
       "    <tr>\n",
       "      <th>std</th>\n",
       "      <td>82,600,499.9928</td>\n",
       "      <td>0.2680</td>\n",
       "      <td>0.2698</td>\n",
       "      <td>1.0591</td>\n",
       "      <td>0.4264</td>\n",
       "      <td>2.9027</td>\n",
       "      <td>0.3246</td>\n",
       "      <td>0.3143</td>\n",
       "      <td>0.2478</td>\n",
       "      <td>6.6257</td>\n",
       "      <td>...</td>\n",
       "      <td>0.0146</td>\n",
       "      <td>0.1012</td>\n",
       "      <td>0.1012</td>\n",
       "      <td>0.0034</td>\n",
       "      <td>0.0034</td>\n",
       "      <td>0.0234</td>\n",
       "      <td>0.0234</td>\n",
       "      <td>0.0470</td>\n",
       "      <td>2.3775</td>\n",
       "      <td>3.8851</td>\n",
       "    </tr>\n",
       "    <tr>\n",
       "      <th>min</th>\n",
       "      <td>2,040.0000</td>\n",
       "      <td>0.2290</td>\n",
       "      <td>0.2310</td>\n",
       "      <td>11.7240</td>\n",
       "      <td>0.0078</td>\n",
       "      <td>0.0504</td>\n",
       "      <td>0.4563</td>\n",
       "      <td>0.5952</td>\n",
       "      <td>0.8372</td>\n",
       "      <td>1.4566</td>\n",
       "      <td>...</td>\n",
       "      <td>-0.0002</td>\n",
       "      <td>-0.0011</td>\n",
       "      <td>0.0001</td>\n",
       "      <td>-0.0000</td>\n",
       "      <td>-0.0001</td>\n",
       "      <td>-0.0007</td>\n",
       "      <td>-0.0003</td>\n",
       "      <td>-0.2990</td>\n",
       "      <td>0.1311</td>\n",
       "      <td>1.2500</td>\n",
       "    </tr>\n",
       "    <tr>\n",
       "      <th>25%</th>\n",
       "      <td>70,246,260.0000</td>\n",
       "      <td>2.3610</td>\n",
       "      <td>2.3770</td>\n",
       "      <td>20.2524</td>\n",
       "      <td>3.1963</td>\n",
       "      <td>22.3201</td>\n",
       "      <td>0.5177</td>\n",
       "      <td>0.6567</td>\n",
       "      <td>1.1140</td>\n",
       "      <td>3.7241</td>\n",
       "      <td>...</td>\n",
       "      <td>0.0070</td>\n",
       "      <td>0.0481</td>\n",
       "      <td>0.0492</td>\n",
       "      <td>0.0067</td>\n",
       "      <td>0.0067</td>\n",
       "      <td>0.0461</td>\n",
       "      <td>0.0466</td>\n",
       "      <td>0.0260</td>\n",
       "      <td>8.0845</td>\n",
       "      <td>13.0000</td>\n",
       "    </tr>\n",
       "    <tr>\n",
       "      <th>50%</th>\n",
       "      <td>142,231,130.0000</td>\n",
       "      <td>2.4360</td>\n",
       "      <td>2.4530</td>\n",
       "      <td>20.6635</td>\n",
       "      <td>3.3494</td>\n",
       "      <td>23.1836</td>\n",
       "      <td>0.7607</td>\n",
       "      <td>0.9061</td>\n",
       "      <td>1.2581</td>\n",
       "      <td>7.6110</td>\n",
       "      <td>...</td>\n",
       "      <td>0.0159</td>\n",
       "      <td>0.1097</td>\n",
       "      <td>0.1108</td>\n",
       "      <td>0.0134</td>\n",
       "      <td>0.0133</td>\n",
       "      <td>0.0919</td>\n",
       "      <td>0.0924</td>\n",
       "      <td>0.0520</td>\n",
       "      <td>9.5703</td>\n",
       "      <td>15.2500</td>\n",
       "    </tr>\n",
       "    <tr>\n",
       "      <th>75%</th>\n",
       "      <td>214,214,980.0000</td>\n",
       "      <td>2.5050</td>\n",
       "      <td>2.5220</td>\n",
       "      <td>21.0876</td>\n",
       "      <td>3.5465</td>\n",
       "      <td>24.3282</td>\n",
       "      <td>0.9888</td>\n",
       "      <td>1.1141</td>\n",
       "      <td>1.4475</td>\n",
       "      <td>13.3235</td>\n",
       "      <td>...</td>\n",
       "      <td>0.0255</td>\n",
       "      <td>0.1762</td>\n",
       "      <td>0.1773</td>\n",
       "      <td>0.0134</td>\n",
       "      <td>0.0133</td>\n",
       "      <td>0.0919</td>\n",
       "      <td>0.0924</td>\n",
       "      <td>0.0910</td>\n",
       "      <td>11.7553</td>\n",
       "      <td>18.5000</td>\n",
       "    </tr>\n",
       "    <tr>\n",
       "      <th>max</th>\n",
       "      <td>284,457,140.0000</td>\n",
       "      <td>2.8280</td>\n",
       "      <td>2.8470</td>\n",
       "      <td>21.3571</td>\n",
       "      <td>4.0005</td>\n",
       "      <td>28.3290</td>\n",
       "      <td>2.8148</td>\n",
       "      <td>2.7860</td>\n",
       "      <td>2.7880</td>\n",
       "      <td>38.2055</td>\n",
       "      <td>...</td>\n",
       "      <td>0.0575</td>\n",
       "      <td>0.3977</td>\n",
       "      <td>0.3988</td>\n",
       "      <td>0.0134</td>\n",
       "      <td>0.0133</td>\n",
       "      <td>0.0919</td>\n",
       "      <td>0.0924</td>\n",
       "      <td>0.3900</td>\n",
       "      <td>15.4261</td>\n",
       "      <td>29.0000</td>\n",
       "    </tr>\n",
       "  </tbody>\n",
       "</table>\n",
       "<p>8 rows × 39 columns</p>\n",
       "</div>"
      ],
      "text/plain": [
       "              Time(ms)    Depth(m)  Pres(dbar)     Temp(C)   Cond(S/m)  \\\n",
       "count      54,225.0000 54,225.0000 54,225.0000 54,225.0000 54,225.0000   \n",
       "mean  142,272,472.1344      2.4052      2.4217     20.4734      3.3244   \n",
       "std    82,600,499.9928      0.2680      0.2698      1.0591      0.4264   \n",
       "min         2,040.0000      0.2290      0.2310     11.7240      0.0078   \n",
       "25%    70,246,260.0000      2.3610      2.3770     20.2524      3.1963   \n",
       "50%   142,231,130.0000      2.4360      2.4530     20.6635      3.3494   \n",
       "75%   214,214,980.0000      2.5050      2.5220     21.0876      3.5465   \n",
       "max   284,457,140.0000      2.8280      2.8470     21.3571      4.0005   \n",
       "\n",
       "         Sal(PSU)      a650__      a676__      a715__      c510__  ...  \\\n",
       "count 54,225.0000 54,225.0000 54,225.0000 54,225.0000 54,221.0000  ...   \n",
       "mean      23.0135      0.8114      0.9437      1.3253      9.5783  ...   \n",
       "std        2.9027      0.3246      0.3143      0.2478      6.6257  ...   \n",
       "min        0.0504      0.4563      0.5952      0.8372      1.4566  ...   \n",
       "25%       22.3201      0.5177      0.6567      1.1140      3.7241  ...   \n",
       "50%       23.1836      0.7607      0.9061      1.2581      7.6110  ...   \n",
       "75%       24.3282      0.9888      1.1141      1.4475     13.3235  ...   \n",
       "max       28.3290      2.8148      2.7860      2.7880     38.2055  ...   \n",
       "\n",
       "       BetaP(532)    bbP(532)     bb(532)   Beta(650)  BetaP(650)    bbP(650)  \\\n",
       "count 54,225.0000 54,225.0000 54,225.0000 54,225.0000 54,225.0000 54,225.0000   \n",
       "mean       0.0196      0.1354      0.1366      0.0104      0.0104      0.0717   \n",
       "std        0.0146      0.1012      0.1012      0.0034      0.0034      0.0234   \n",
       "min       -0.0002     -0.0011      0.0001     -0.0000     -0.0001     -0.0007   \n",
       "25%        0.0070      0.0481      0.0492      0.0067      0.0067      0.0461   \n",
       "50%        0.0159      0.1097      0.1108      0.0134      0.0133      0.0919   \n",
       "75%        0.0255      0.1762      0.1773      0.0134      0.0133      0.0919   \n",
       "max        0.0575      0.3977      0.3988      0.0134      0.0133      0.0919   \n",
       "\n",
       "          bb(650)   CHL(ug/l)     PE(ppb)   CDOM(ppb)  \n",
       "count 54,225.0000 54,225.0000 54,225.0000 54,225.0000  \n",
       "mean       0.0722      0.0559      9.7436     15.9809  \n",
       "std        0.0234      0.0470      2.3775      3.8851  \n",
       "min       -0.0003     -0.2990      0.1311      1.2500  \n",
       "25%        0.0466      0.0260      8.0845     13.0000  \n",
       "50%        0.0924      0.0520      9.5703     15.2500  \n",
       "75%        0.0924      0.0910     11.7553     18.5000  \n",
       "max        0.0924      0.3900     15.4261     29.0000  \n",
       "\n",
       "[8 rows x 39 columns]"
      ]
     },
     "execution_count": 9,
     "metadata": {},
     "output_type": "execute_result"
    }
   ],
   "source": [
    "#learn MORE pandas\n",
    "data.describe()"
   ]
  },
  {
   "cell_type": "markdown",
   "metadata": {},
   "source": [
    "# Prep the data"
   ]
  },
  {
   "cell_type": "code",
   "execution_count": 10,
   "metadata": {},
   "outputs": [
    {
     "name": "stdout",
     "output_type": "stream",
     "text": [
      "[2022-09-12 15:44:31 Central Daylight Time]    INFO: Data scrub and prep \n",
      "[2022-09-12 15:44:31 Central Daylight Time]   DEBUG: XS array from Temp(C) is 54225 \n",
      "[2022-09-12 15:44:31 Central Daylight Time]   DEBUG: YS array from Sal(PSU) is 54225 \n",
      "[2022-09-12 15:44:31 Central Daylight Time]   DEBUG:  \n",
      "[2022-09-12 15:44:31 Central Daylight Time]   DEBUG: Performing Y mask cleaning \n",
      "[2022-09-12 15:44:31 Central Daylight Time]   DEBUG:  \n",
      "[2022-09-12 15:44:31 Central Daylight Time]   DEBUG: all_xs (> 1) array from Temp(C) is 53550 \n",
      "[2022-09-12 15:44:31 Central Daylight Time]   DEBUG: all_ys (> 1) array from Sal(PSU) is 53550 \n"
     ]
    }
   ],
   "source": [
    "#PURGE DATA\n",
    "debug.msg_info(\"Data scrub and prep\")\n",
    "#load teperature (referenced by name) for all values (y, x); (all rows, column=Temp)\n",
    "#into a single dimensional array that is Numpy based (means you got lots of free powerful tools)\n",
    "xs=data.loc[:,TEMPERATURE].values\n",
    "debug.msg_debug(\"XS array from \" + str(TEMPERATURE) + \" is \" + str(xs.size))\n",
    "\n",
    "ys=data.loc[:,SALINITY].values\n",
    "debug.msg_debug(\"YS array from \" + SALINITY + \" is \" + str(ys.size))\n",
    "\n",
    "#machine learning doesn't like negative numbers, there are multiple ways of doing this\n",
    "#pd.DataFrame().query() or np.where() are some options\n",
    "#LEARN PANDAS!!!!\n",
    "debug.msg_debug(\"\")\n",
    "debug.msg_debug(\"Performing Y mask cleaning\")\n",
    "y_mask=np.where(ys < 1)\n",
    "debug.msg_debug(\"\")\n",
    "\n",
    "#clear out the values that should be scrubbed.  Again, any technique to clean the data is viable.\n",
    "all_xs = np.delete(xs, y_mask)\n",
    "debug.msg_debug(\"all_xs (> 1) array from \" + TEMPERATURE + \" is \" + str(all_xs.size))\n",
    "all_ys = np.delete(ys, y_mask)\n",
    "debug.msg_debug(\"all_ys (> 1) array from \" + SALINITY + \" is \" + str(all_ys.size))"
   ]
  },
  {
   "cell_type": "code",
   "execution_count": 11,
   "metadata": {},
   "outputs": [
    {
     "data": {
      "text/plain": [
       "array([20.2413, 20.2413, 20.2413, ..., 18.7201, 18.7201, 18.7201])"
      ]
     },
     "execution_count": 11,
     "metadata": {},
     "output_type": "execute_result"
    }
   ],
   "source": [
    "#example of all_xs output (temperature)\n",
    "all_xs"
   ]
  },
  {
   "cell_type": "code",
   "execution_count": 12,
   "metadata": {},
   "outputs": [
    {
     "name": "stdout",
     "output_type": "stream",
     "text": [
      "[2022-09-12 15:44:31 Central Daylight Time]   DEBUG: all_xs (transposed) array from Temp(C) is 53550 \n",
      "[2022-09-12 15:44:31 Central Daylight Time]   DEBUG: all_ys (transposed) array from Sal(PSU) is 53550 \n"
     ]
    }
   ],
   "source": [
    "#transpose the data, the API expects it\n",
    "all_xs = np.transpose([all_xs])\n",
    "debug.msg_debug(\"all_xs (transposed) array from \" +  TEMPERATURE + \" is \" + str(all_xs.size))\n",
    "\n",
    "all_ys = np.transpose([all_ys])\n",
    "debug.msg_debug(\"all_ys (transposed) array from \" +  SALINITY + \" is \" + str(all_ys.size))\n"
   ]
  },
  {
   "cell_type": "code",
   "execution_count": 13,
   "metadata": {},
   "outputs": [
    {
     "data": {
      "text/plain": [
       "array([[20.2413],\n",
       "       [20.2413],\n",
       "       [20.2413],\n",
       "       ...,\n",
       "       [18.7201],\n",
       "       [18.7201],\n",
       "       [18.7201]])"
      ]
     },
     "execution_count": 13,
     "metadata": {},
     "output_type": "execute_result"
    }
   ],
   "source": [
    "#example of all_xs output now (tafter transpose)\n",
    "all_xs"
   ]
  },
  {
   "cell_type": "markdown",
   "metadata": {},
   "source": [
    "# Statistics\n",
    "### Lots of statistics at your fingertips with Numpy\n",
    "### Also useful as it helps with quick operations for other functions (plotting, data smoothing, etc.)"
   ]
  },
  {
   "cell_type": "code",
   "execution_count": 14,
   "metadata": {},
   "outputs": [],
   "source": [
    "#STATISTICS\n",
    "x_mean=data[TEMPERATURE].apply(np.mean)\n",
    "x_std=data[TEMPERATURE].apply(np.std)\n",
    "x_mean_max=np.max(x_mean)\n",
    "x_std_max=np.max(x_std)\n",
    "x_range_limit=x_mean_max + (x_std_max * 5)\n",
    "\n",
    "y_mean=data[SALINITY].apply(np.mean)\n",
    "y_std=data[SALINITY].apply(np.std)\n",
    "y_mean_max=np.max(y_mean)\n",
    "y_std_max=np.max(y_std)\n",
    "y_range_limit=y_mean_max + (y_std_max * 5)"
   ]
  },
  {
   "cell_type": "markdown",
   "metadata": {},
   "source": [
    "# Plots"
   ]
  },
  {
   "cell_type": "code",
   "execution_count": 15,
   "metadata": {},
   "outputs": [
    {
     "data": {
      "text/plain": [
       "<matplotlib.legend.Legend at 0x28dbecef288>"
      ]
     },
     "execution_count": 15,
     "metadata": {},
     "output_type": "execute_result"
    },
    {
     "data": {
      "image/png": "[encoded data removed]",
      "text/plain": [
       "<Figure size 1440x720 with 1 Axes>"
      ]
     },
     "metadata": {
      "needs_background": "light"
     },
     "output_type": "display_data"
    }
   ],
   "source": [
    "#show the image inline\n",
    "%matplotlib inline\n",
    "PLT_X_SIZE=20\n",
    "PLT_Y_SIZE=10\n",
    "PLT_LGD_X_OFFSET=1\n",
    "PLT_LGD_Y_OFFSET=0.5\n",
    "\n",
    "#establish the initial figure dimensions and configuration (purposely made large 20x10 inches)\n",
    "fig = plt.figure(1,figsize=(PLT_X_SIZE, PLT_Y_SIZE))\n",
    "\n",
    "#this is where you could have multiple plots side by side\n",
    "axes = plt.subplot(111)\n",
    "axes.set_title('X, Y Plot')\n",
    "axes.set_ylabel(SALINITY)\n",
    "axes.set_xlabel(TEMPERATURE)\n",
    "\n",
    "labels=axes.get_xticklabels()\n",
    "plt.setp(labels,rotation=45,horizontalalignment='right')\n",
    "\n",
    "axes.scatter(all_xs, all_ys, label='x vs. y')\n",
    "axes.legend(loc='center left', bbox_to_anchor=(PLT_LGD_X_OFFSET,PLT_LGD_Y_OFFSET))\n"
   ]
  },
  {
   "cell_type": "markdown",
   "metadata": {},
   "source": [
    "# Linear Regression (SKlearn)"
   ]
  },
  {
   "cell_type": "code",
   "execution_count": 16,
   "metadata": {},
   "outputs": [],
   "source": [
    "#instantiate the model\n",
    "lm = LinearRegression()\n",
    "\n",
    "#fit values with the clean data\n",
    "lm.fit(all_xs, all_ys)\n",
    "\n",
    "#run a prediction given the calculation (yeah...that easy)\n",
    "new_y=lm.predict(all_xs)"
   ]
  },
  {
   "cell_type": "code",
   "execution_count": 17,
   "metadata": {},
   "outputs": [
    {
     "name": "stdout",
     "output_type": "stream",
     "text": [
      "[2022-09-12 15:44:33 Central Daylight Time]   DEBUG:              Intercept:[-6.4635] \n",
      "[2022-09-12 15:44:33 Central Daylight Time]   DEBUG: Number of Coefficients:1 \n"
     ]
    }
   ],
   "source": [
    "debug.msg_debug(\"             Intercept:\" + str(lm.intercept_))\n",
    "debug.msg_debug(\"Number of Coefficients:\" + str(len(lm.coef_)))"
   ]
  },
  {
   "cell_type": "code",
   "execution_count": 18,
   "metadata": {},
   "outputs": [
    {
     "data": {
      "text/plain": [
       "<matplotlib.legend.Legend at 0x28db64c8788>"
      ]
     },
     "execution_count": 18,
     "metadata": {},
     "output_type": "execute_result"
    },
    {
     "data": {
      "image/png": "[encoded data removed]",
      "text/plain": [
       "<Figure size 1440x720 with 1 Axes>"
      ]
     },
     "metadata": {
      "needs_background": "light"
     },
     "output_type": "display_data"
    }
   ],
   "source": [
    "#PLOT DATA (QUICK LOOK)\n",
    "import matplotlib\n",
    "import matplotlib.pyplot as plt\n",
    "%matplotlib inline\n",
    "PLT_X_SIZE=20\n",
    "PLT_Y_SIZE=10\n",
    "PLT_LGD_X_OFFSET=1\n",
    "PLT_LGD_Y_OFFSET=0.5\n",
    "\n",
    "fig = plt.figure(1,figsize=(PLT_X_SIZE, PLT_Y_SIZE))\n",
    "\n",
    "axes = plt.subplot(111)\n",
    "axes.set_title('Y vs New Y Plot')\n",
    "axes.set_ylabel(SALINITY)\n",
    "axes.set_xlabel('Time')\n",
    "\n",
    "labels=axes.get_xticklabels()\n",
    "plt.setp(labels,rotation=45,horizontalalignment='right')\n",
    "\n",
    "axes.scatter(range(0,all_ys.size),all_ys, label='old Y')\n",
    "axes.scatter(range(0,new_y.size),new_y, label='new Y')\n",
    "axes.legend(loc='center left', bbox_to_anchor=(PLT_LGD_X_OFFSET,PLT_LGD_Y_OFFSET))\n"
   ]
  },
  {
   "cell_type": "code",
   "execution_count": 19,
   "metadata": {},
   "outputs": [],
   "source": [
    "#newY is the prediction across the oldY values."
   ]
  }
 ],
 "metadata": {
  "kernelspec": {
   "display_name": "Python 3",
   "language": "python",
   "name": "python3"
  },
  "language_info": {
   "codemirror_mode": {
    "name": "ipython",
    "version": 3
   },
   "file_extension": ".py",
   "mimetype": "text/x-python",
   "name": "python",
   "nbconvert_exporter": "python",
   "pygments_lexer": "ipython3",
   "version": "3.7.10"
  }
 },
 "nbformat": 4,
 "nbformat_minor": 4
}
