{
 "cells": [
  {
   "cell_type": "markdown",
   "metadata": {},
   "source": [
    "# Basic classification: Classify images of clothing\n",
    "\n",
    "Classification is the process of predicting the class of given data points. Classes are sometimes called as targets/ labels or categories. Classification predictive modeling is the task of approximating a mapping function (f) from input variables (X) to discrete output variables (y).\n",
    "\n",
    "For example, spam detection in email service providers can be identified as a classification problem. This is s binary classification since there are only 2 classes as spam and not spam. A classifier utilizes some training data to understand how given input variables relate to the class. In this case, known spam and non-spam emails have to be used as the training data. When the classifier is trained accurately, it can be used to detect an unknown email.\n",
    "\n",
    "Classification belongs to the category of supervised learning where the targets also provided with the input data. There are many applications in classification in many domains such as in credit approval, medical diagnosis, target marketing etc.\n",
    "\n",
    "Reference: https://www.tensorflow.org/tutorials/keras/classification\n",
    "\n",
    "Reference: https://towardsdatascience.com/machine-learning-classifiers-a5cc4e1b0623"
   ]
  },
  {
   "cell_type": "markdown",
   "metadata": {},
   "source": [
    "### *Note*\n",
    "\n",
    "Ensure you have all required libraries, that's why they're listed below.\n",
    "\n",
    "Example used TensorFlow '2.1.0'\n"
   ]
  },
  {
   "cell_type": "code",
   "execution_count": 1,
   "metadata": {},
   "outputs": [],
   "source": [
    "############################################\n",
    "# INCLUDES\n",
    "############################################\n",
    "#libraries specific to this example\n",
    "## Imports\n",
    "import tensorflow as tf\n",
    "from tensorflow import keras\n",
    "\n",
    "import glob\n",
    "import imageio\n",
    "import matplotlib as matplt\n",
    "import matplotlib.pyplot as plt\n",
    "import numpy as np\n",
    "import os\n",
    "import PIL\n",
    "import time\n",
    "\n",
    "from IPython import display\n",
    "\n",
    "#a set of libraries that perhaps should always be in Python source\n",
    "import os \n",
    "import datetime\n",
    "import sys\n",
    "import gc\n",
    "import getopt\n",
    "import inspect\n",
    "import math\n",
    "import warnings\n",
    "\n",
    "#a darn useful library for creating paths and one I recommend you load to your environment\n",
    "from pathlib import Path\n",
    "\n",
    "from pydoc import help                          # can type in the python console `help(name of function)` to get the documentation\n",
    "\n",
    "#Import a custom library, in this case a fairly useful logging framework\n",
    "debug_lib_location = Path(\"./\")\n",
    "sys.path.append(str(debug_lib_location))\n",
    "import debug\n",
    "\n",
    "warnings.filterwarnings('ignore')               # don't print out warnings\n",
    "\n",
    "\n",
    "root_location=\".\" + os.sep + \"data\";"
   ]
  },
  {
   "cell_type": "markdown",
   "metadata": {},
   "source": [
    "# Variable declaration"
   ]
  },
  {
   "cell_type": "code",
   "execution_count": 2,
   "metadata": {},
   "outputs": [],
   "source": [
    "############################################\n",
    "# GLOBAL VARIABLES\n",
    "############################################\n",
    "DEBUG = 1\n",
    "DEBUG_DATA = 0\n",
    "\n",
    "# CODE CONSTRAINTS\n",
    "VERSION_NAME    = \"MLGAN\"\n",
    "VERSION_MAJOR   = 0\n",
    "VERSION_MINOR   = 0\n",
    "VERSION_RELEASE = 1\n",
    "\n",
    "#used for values outside standard ASCII, just do it, you'll need it\n",
    "ENCODING  =\"utf-8\"\n",
    "\n",
    "############################################\n",
    "# GLOBAL CONSTANTS\n",
    "############################################\n",
    "BUFFER_SIZE = 60000\n",
    "BATCH_SIZE = 256\n",
    "\n",
    "############################################\n",
    "# APPLICATION VARIABLES\n",
    "############################################\n",
    "\n",
    "############################################\n",
    "# GLOBAL CONFIGURATION\n",
    "############################################\n",
    "os.environ['PYTHONIOENCODING']=ENCODING\n"
   ]
  },
  {
   "cell_type": "markdown",
   "metadata": {},
   "source": [
    "# Example of Defining a Function"
   ]
  },
  {
   "cell_type": "code",
   "execution_count": 3,
   "metadata": {},
   "outputs": [],
   "source": [
    "def lib_diagnostics():\n",
    "    debug.msg_debug(\"System version    #:{:>12}\".format(sys.version))\n",
    "    debug.msg_debug(\"Matplotlib version#:{:>12}\".format(matplt.__version__))\n",
    "    debug.msg_debug(\"Numpy version     #:{:>12}\".format(np.__version__))\n",
    "    debug.msg_debug(\"TensorFlow version#:{:>12}\".format(tf.__version__))\n",
    "\n",
    "\n",
    "    return"
   ]
  },
  {
   "cell_type": "markdown",
   "metadata": {},
   "source": [
    "# Library Invocation\n",
    "### Note that it's also useful to use this code so that you carry around a list of version dependencies and know how you did something (version)"
   ]
  },
  {
   "cell_type": "code",
   "execution_count": 4,
   "metadata": {},
   "outputs": [
    {
     "name": "stdout",
     "output_type": "stream",
     "text": [
      "[2022-09-12 15:44:49 Central Daylight Time]   DEBUG: System version    #:3.7.10 (default, Feb 26 2021, 13:06:18) [MSC v.1916 64 bit (AMD64)] \n",
      "[2022-09-12 15:44:49 Central Daylight Time]   DEBUG: Matplotlib version#:       3.3.4 \n",
      "[2022-09-12 15:44:49 Central Daylight Time]   DEBUG: Numpy version     #:      1.19.2 \n",
      "[2022-09-12 15:44:49 Central Daylight Time]   DEBUG: TensorFlow version#:       2.1.0 \n"
     ]
    }
   ],
   "source": [
    "lib_diagnostics()"
   ]
  },
  {
   "cell_type": "markdown",
   "metadata": {},
   "source": [
    "## Load and prepare the dataset\n",
    "\n",
    "You will use the MNIST dataset to obtain data.\n",
    "\n",
    "*Note*:\n",
    "MNIST database (Modified National Institute of Standards and Technology database) is a large database of handwritten digits that is commonly used for training various image processing systems.  Reference: https://en.wikipedia.org/wiki/MNIST_database\n",
    "\n",
    "This example uses the Fashion MNIST: https://github.com/zalandoresearch/fashion-mnist\n",
    "\n",
    "Fashion MNIST is intended as a drop-in replacement for the classic MNIST dataset—often used as the \"Hello, World\" of machine learning programs for computer vision. The MNIST dataset contains images of handwritten digits (0, 1, 2, etc.) in a format identical to that of the articles of clothing you'll use here.\n",
    "\n",
    "This guide uses Fashion MNIST for variety, and because it's a slightly more challenging problem than regular MNIST. Both datasets are relatively small and are used to verify that an algorithm works as expected. They're good starting points to test and debug code.\n",
    "\n",
    "Here, 60,000 images are used to train the network and 10,000 images to evaluate how accurately the network learned to classify images. You can access the Fashion MNIST directly from TensorFlow. "
   ]
  },
  {
   "cell_type": "code",
   "execution_count": 5,
   "metadata": {},
   "outputs": [
    {
     "name": "stdout",
     "output_type": "stream",
     "text": [
      "Downloading data from https://storage.googleapis.com/tensorflow/tf-keras-datasets/train-labels-idx1-ubyte.gz\n",
      "32768/29515 [=================================] - 0s 1us/step\n",
      "Downloading data from https://storage.googleapis.com/tensorflow/tf-keras-datasets/train-images-idx3-ubyte.gz\n",
      "26427392/26421880 [==============================] - 7s 0us/step\n",
      "Downloading data from https://storage.googleapis.com/tensorflow/tf-keras-datasets/t10k-labels-idx1-ubyte.gz\n",
      "8192/5148 [===============================================] - 0s 0s/step\n",
      "Downloading data from https://storage.googleapis.com/tensorflow/tf-keras-datasets/t10k-images-idx3-ubyte.gz\n",
      "4423680/4422102 [==============================] - 1s 0us/step\n"
     ]
    }
   ],
   "source": [
    "#create reference to dataset\n",
    "fashion_mnist = keras.datasets.fashion_mnist\n",
    "\n",
    "#load the data and split into train/test datasets\n",
    "(train_images, train_labels), (test_images, test_labels) = fashion_mnist.load_data()\n"
   ]
  },
  {
   "cell_type": "code",
   "execution_count": 6,
   "metadata": {},
   "outputs": [
    {
     "name": "stdout",
     "output_type": "stream",
     "text": [
      "[2022-09-12 15:44:59 Central Daylight Time]   DEBUG: Train images  shape is (60000, 28, 28). \n",
      "[2022-09-12 15:44:59 Central Daylight Time]   DEBUG: Train labels  shape is (60000,). \n",
      "[2022-09-12 15:44:59 Central Daylight Time]   DEBUG: Train labels sample structure is [9 0 0 ... 3 0 5] \n",
      "[2022-09-12 15:44:59 Central Daylight Time]   DEBUG:  \n",
      "[2022-09-12 15:44:59 Central Daylight Time]   DEBUG: Test images  shape is (10000, 28, 28). \n",
      "[2022-09-12 15:44:59 Central Daylight Time]   DEBUG: Test labels  shape is (10000,). \n",
      "[2022-09-12 15:44:59 Central Daylight Time]   DEBUG: Test labels sample structure is [9 2 1 ... 8 1 5] \n"
     ]
    }
   ],
   "source": [
    "#Train variable details\n",
    "debug.msg_debug(\"{} shape is {}.\".format(\"Train images \", train_images.shape) )\n",
    "debug.msg_debug(\"{} shape is {}.\".format(\"Train labels \", train_labels.shape) )\n",
    "debug.msg_debug(\"{} sample structure is {}\".format(\"Train labels\", train_labels))\n",
    "\n",
    "debug.msg_debug(\"\")\n",
    "#Test variable details\n",
    "debug.msg_debug(\"{} shape is {}.\".format(\"Test images \", test_images.shape) )\n",
    "debug.msg_debug(\"{} shape is {}.\".format(\"Test labels \", test_labels.shape) )\n",
    "debug.msg_debug(\"{} sample structure is {}\".format(\"Test labels\", test_labels))"
   ]
  },
  {
   "cell_type": "markdown",
   "metadata": {},
   "source": [
    "### Dataset Definition\n",
    "\n",
    "The images are 28x28 NumPy arrays, with pixel values ranging from 0 to 255. The labels are an array of integers, ranging from 0 to 9. These correspond to the class of clothing the image represents:\n",
    "\n",
    "Label \tClass\n",
    "\n",
    "+ 0 \tT-shirt/top\n",
    "+ 1 \tTrouser\n",
    "+ 2 \tPullover\n",
    "+ 3 \tDress\n",
    "+ 4 \tCoat\n",
    "+ 5 \tSandal\n",
    "+ 6 \tShirt\n",
    "+ 7 \tSneaker\n",
    "+ 8 \tBag\n",
    "+ 9 \tAnkle boot\n",
    "\n",
    "Each image is mapped to a single label. Since the class names are not included with the dataset, store them here to use later when plotting the images:"
   ]
  },
  {
   "cell_type": "code",
   "execution_count": 7,
   "metadata": {},
   "outputs": [],
   "source": [
    "#associate \"human legible\" labels to the actual dataset\n",
    "class_names = ['T-shirt/top', 'Trouser', 'Pullover', 'Dress', 'Coat', 'Sandal', 'Shirt', 'Sneaker', 'Bag', 'Ankle boot']\n"
   ]
  },
  {
   "cell_type": "markdown",
   "metadata": {},
   "source": [
    "## Preprocess the data\n",
    "\n",
    "The data must be preprocessed before training the network. If you inspect the first image in the training set, you will see that the pixel values fall in the range of 0 to 255:"
   ]
  },
  {
   "cell_type": "code",
   "execution_count": 8,
   "metadata": {},
   "outputs": [
    {
     "data": {
      "image/png": "[encoded data removed]",
      "text/plain": [
       "<Figure size 432x288 with 2 Axes>"
      ]
     },
     "metadata": {
      "needs_background": "light"
     },
     "output_type": "display_data"
    }
   ],
   "source": [
    "plt.figure()\n",
    "\n",
    "#show the first image from the training dataset\n",
    "plt.imshow(train_images[1])\n",
    "plt.colorbar()\n",
    "plt.grid(False)\n",
    "plt.show()"
   ]
  },
  {
   "cell_type": "markdown",
   "metadata": {},
   "source": [
    "Scale these values to a range of 0 to 1 before feeding them to the neural network model. To do so, divide the values by 255. It's important that the training set and the testing set be preprocessed in the same way:"
   ]
  },
  {
   "cell_type": "code",
   "execution_count": 9,
   "metadata": {},
   "outputs": [],
   "source": [
    "train_images = train_images / 255.0\n",
    "\n",
    "test_images = test_images / 255.0"
   ]
  },
  {
   "cell_type": "markdown",
   "metadata": {},
   "source": [
    "## Show Sample Data\n",
    "Show the first 25 images from the training dataset and display the classification name with each."
   ]
  },
  {
   "cell_type": "code",
   "execution_count": 10,
   "metadata": {},
   "outputs": [
    {
     "data": {
      "image/png": "[encoded data removed]",
      "text/plain": [
       "<Figure size 720x720 with 25 Axes>"
      ]
     },
     "metadata": {},
     "output_type": "display_data"
    }
   ],
   "source": [
    "plt.figure(figsize=(10,10))\n",
    "for i in range(25):\n",
    "    plt.subplot(5,5,i+1)\n",
    "    plt.xticks([])\n",
    "    plt.yticks([])\n",
    "    plt.grid(False)\n",
    "    plt.imshow(train_images[i], cmap=plt.cm.binary)\n",
    "    plt.xlabel(class_names[train_labels[i]])\n",
    "plt.show()\n"
   ]
  },
  {
   "cell_type": "markdown",
   "metadata": {},
   "source": [
    "## Build the model\n",
    "\n",
    "Building the neural network requires configuring the layers of the model, then compiling the model.\n",
    "\n",
    "### Set up the layers\n",
    "\n",
    "The basic building block of a neural network is the layer. Layers extract representations from the data fed into them. \n",
    "\n",
    "Most of deep learning consists of chaining together simple layers. Most layers, such as tf.keras.layers.Dense, have parameters that are learned during training.\n",
    "\n",
    "Rectified linear unit (ReLU), is an activation function which means, this is how the neuron determines if it's going to fire (weighting of probabilities). See: https://en.wikipedia.org/wiki/Rectifier_(neural_networks) The short version is that ReLU is considered an excellent tool and using a vanishing gradient to determine probabilities always making sure any value less than zero is set to 0."
   ]
  },
  {
   "cell_type": "code",
   "execution_count": 11,
   "metadata": {},
   "outputs": [],
   "source": [
    "#capture the function calls return into a variable, this encapsulate a complex object that defines the entire neural model\n",
    "model = keras.Sequential([\n",
    "    #one-D array are preferred for all processing\n",
    "    #The first layer in this network, tf.keras.layers.Flatten, transforms the format of the images from a two-dimensional array \n",
    "    #(of 28 by 28 pixels) to a one-dimensional array (of 28 * 28 = 784 pixels). Think of this layer as unstacking rows of pixels \n",
    "    #in the image and lining them up. This layer has no parameters to learn; it only reformats the data.\n",
    "    keras.layers.Flatten(input_shape=(28, 28)),\n",
    "    \n",
    "    #first layer is 128 neurons and a ReLU activation function.\n",
    "    keras.layers.Dense(128, activation='relu'),\n",
    "    \n",
    "    #output layer defined\n",
    "    keras.layers.Dense(10)\n",
    "])"
   ]
  },
  {
   "cell_type": "markdown",
   "metadata": {},
   "source": [
    "## Compile the model\n",
    "\n",
    "Before the model is ready for training, it needs a few more settings. These are added during the model's compile step:\n",
    "\n",
    "    Loss function —This measures how accurate the model is during training. You want to minimize this function to \"steer\" the model in the right direction.\n",
    "\n",
    "    Optimizer —This is how the model is updated based on the data it sees and its loss function.\n",
    "\n",
    "    Metrics —Used to monitor the training and testing steps. The following example uses accuracy, the fraction of the images that are correctly classified.\n"
   ]
  },
  {
   "cell_type": "code",
   "execution_count": 12,
   "metadata": {},
   "outputs": [],
   "source": [
    "model.compile(optimizer='adam',\n",
    "              #v2.1 accepts this activation method but previous versions DO NOT\n",
    "              loss=tf.keras.losses.SparseCategoricalCrossentropy(from_logits=True),\n",
    "              metrics=['accuracy'])\n"
   ]
  },
  {
   "cell_type": "markdown",
   "metadata": {},
   "source": [
    "## Train the model\n",
    "\n",
    "### Training the neural network model requires the following steps:\n",
    "\n",
    "    1. Feed the training data to the model. In this example, the training data is in the train_images and train_labels arrays.\n",
    "    2. The model learns to associate images and labels.\n",
    "    3. You ask the model to make predictions about a test set—in this example, the test_images array.\n",
    "    4. Verify that the predictions match the labels from the test_labels array."
   ]
  },
  {
   "cell_type": "markdown",
   "metadata": {},
   "source": [
    "## Feed the model\n",
    "\n",
    "To start training, call the model.fit method—so called because it \"fits\" the model to the training data.\n",
    "\n",
    "What's an \"epoch\"?\n",
    "\n",
    "In terms of artificial neural networks, an epoch refers to one cycle through the full training dataset. Usually, training a neural network takes more than a few epochs. In other words, if we feed a neural network the training data for more than one epoch in different patterns, we hope for a better generalization when given a new \"unseen\" input (test data). An epoch is often mixed up with an iteration. Iterations is the number of batches or steps through partitioned packets of the training data, needed to complete one epoch.  \n",
    "\n",
    "Since one epoch is too big to feed to the computer at once we divide it in several smaller batches. For this example no batch sizes are defined, defaults are used.  Based on documentation with respect to default batches:\n",
    "\n",
    "batch_size: Integer or None. Number of samples per gradient update. If unspecified, batch_size will default to 32. Do not specify the batch_size if your data is in the form of symbolic tensors, dataset, generators, or keras.utils.Sequence instances (since they generate batches)."
   ]
  },
  {
   "cell_type": "code",
   "execution_count": 13,
   "metadata": {},
   "outputs": [
    {
     "name": "stdout",
     "output_type": "stream",
     "text": [
      "Train on 60000 samples\n",
      "Epoch 1/10\n",
      "60000/60000 [==============================] - 3s 49us/sample - loss: 0.4954 - accuracy: 0.8256\n",
      "Epoch 2/10\n",
      "60000/60000 [==============================] - 2s 37us/sample - loss: 0.3715 - accuracy: 0.8661\n",
      "Epoch 3/10\n",
      "60000/60000 [==============================] - 2s 40us/sample - loss: 0.3353 - accuracy: 0.8762\n",
      "Epoch 4/10\n",
      "60000/60000 [==============================] - 3s 42us/sample - loss: 0.3135 - accuracy: 0.8851\n",
      "Epoch 5/10\n",
      "60000/60000 [==============================] - 2s 39us/sample - loss: 0.2930 - accuracy: 0.8924\n",
      "Epoch 6/10\n",
      "60000/60000 [==============================] - 2s 36us/sample - loss: 0.2799 - accuracy: 0.8978\n",
      "Epoch 7/10\n",
      "60000/60000 [==============================] - 3s 52us/sample - loss: 0.2669 - accuracy: 0.9018\n",
      "Epoch 8/10\n",
      "60000/60000 [==============================] - 2s 37us/sample - loss: 0.2570 - accuracy: 0.9043\n",
      "Epoch 9/10\n",
      "60000/60000 [==============================] - 3s 49us/sample - loss: 0.2475 - accuracy: 0.9079\n",
      "Epoch 10/10\n",
      "60000/60000 [==============================] - 3s 46us/sample - loss: 0.2379 - accuracy: 0.9111\n"
     ]
    },
    {
     "data": {
      "text/plain": [
       "<tensorflow.python.keras.callbacks.History at 0x212529b7cc8>"
      ]
     },
     "execution_count": 13,
     "metadata": {},
     "output_type": "execute_result"
    }
   ],
   "source": [
    "#given the images and labels begin learning from the train_* dataset for 10 \"iterations\".\n",
    "model.fit(train_images, train_labels, epochs=10)"
   ]
  },
  {
   "cell_type": "markdown",
   "metadata": {},
   "source": [
    "Notice each epoc completion demonstrates an accuracy improvement.  You can add a *patience* function to drop out when your training reaches an optimal level to avoid overfitting."
   ]
  },
  {
   "cell_type": "markdown",
   "metadata": {},
   "source": [
    "## Evaluate accuracy\n",
    "\n",
    "Now we see how well the model performs.  The `evaluate()` function performs a prediction by taking the test_* inputs and and performing a diff between actual data and predicted data."
   ]
  },
  {
   "cell_type": "code",
   "execution_count": 14,
   "metadata": {},
   "outputs": [
    {
     "name": "stdout",
     "output_type": "stream",
     "text": [
      "10000/10000 - 1s - loss: 0.3331 - accuracy: 0.8823\n",
      "\n",
      "Test accuracy: 0.8823\n"
     ]
    }
   ],
   "source": [
    "test_loss, test_acc = model.evaluate(test_images,  test_labels, verbose=2)\n",
    "\n",
    "print('\\nTest accuracy:', test_acc)"
   ]
  },
  {
   "cell_type": "markdown",
   "metadata": {},
   "source": [
    "As previously discussed overfitting is a concern.  Notes from the demonstration code:\n",
    "\n",
    "It turns out that the accuracy on the test dataset is a little less than the accuracy on the training dataset. This gap between training accuracy and test accuracy represents overfitting. Overfitting happens when a machine learning model performs worse on new, previously unseen inputs than it does on the training data. An overfitted model \"memorizes\" the noise and details in the training dataset to a point where it negatively impacts the performance of the model on the new data. For more information, see the following:\n",
    "\n",
    "1.  Demonstration of overfitting - https://www.tensorflow.org/tutorials/keras/overfit_and_underfit#demonstrate_overfitting\n",
    "2.  Strategies to prevent overfitting - https://www.tensorflow.org/tutorials/keras/overfit_and_underfit#strategies_to_prevent_overfitting"
   ]
  },
  {
   "cell_type": "markdown",
   "metadata": {},
   "source": [
    "## Make Predictions\n",
    "\n",
    "With the model trained, you can use it to make predictions about some images. The model's linear outputs, logits. Attach a softmax layer to convert the logits to probabilities, which are easier to interpret. \n",
    "\n",
    "### Logits\n",
    "\n",
    "The vector of raw (non-normalized) predictions that a classification model generates, which is ordinarily then passed to a normalization function. If the model is solving a multi-class classification problem, logits typically become an input to the softmax function. The softmax function then generates a vector of (normalized) probabilities with one value for each possible class.\n",
    "\n",
    "In addition, logits sometimes refer to the element-wise inverse of the sigmoid function. For more information, see tf.nn.sigmoid_cross_entropy_with_logits."
   ]
  },
  {
   "cell_type": "code",
   "execution_count": 15,
   "metadata": {},
   "outputs": [],
   "source": [
    "#define another model designed to help identify classes\n",
    "probability_model = tf.keras.Sequential([model, \n",
    "                                         tf.keras.layers.Softmax()])\n"
   ]
  },
  {
   "cell_type": "code",
   "execution_count": 16,
   "metadata": {},
   "outputs": [],
   "source": [
    "#given the test images what labels have precipitated out?\n",
    "predictions = probability_model.predict(test_images)"
   ]
  },
  {
   "cell_type": "code",
   "execution_count": 17,
   "metadata": {},
   "outputs": [
    {
     "data": {
      "text/plain": [
       "array([[3.4925961e-08, 1.6158065e-08, 5.3955691e-08, ..., 4.0159808e-03,\n",
       "        1.1027443e-08, 9.9370366e-01],\n",
       "       [2.5303420e-05, 4.3557880e-14, 9.9852753e-01, ..., 2.8280964e-21,\n",
       "        1.1061134e-10, 1.3175297e-17],\n",
       "       [8.0427942e-10, 1.0000000e+00, 5.6086199e-14, ..., 1.2237545e-22,\n",
       "        9.8228304e-16, 3.7931882e-21],\n",
       "       ...,\n",
       "       [7.3945870e-05, 1.5474195e-09, 1.5228221e-05, ..., 4.2318465e-10,\n",
       "        9.9957603e-01, 5.4450494e-12],\n",
       "       [3.2019447e-08, 9.9997079e-01, 7.5427870e-10, ..., 2.3202615e-15,\n",
       "        4.2772899e-10, 1.2828050e-12],\n",
       "       [6.8534137e-06, 7.7194440e-10, 2.4042286e-06, ..., 5.1090639e-04,\n",
       "        9.9166537e-06, 1.7441745e-06]], dtype=float32)"
      ]
     },
     "execution_count": 17,
     "metadata": {},
     "output_type": "execute_result"
    }
   ],
   "source": [
    "#let's see what the predictions resulting data structure looks like on the inside.\n",
    "predictions"
   ]
  },
  {
   "cell_type": "markdown",
   "metadata": {},
   "source": [
    "A prediction is an array of 10 numbers. They represent the model's \"confidence\" that the image corresponds to each of the 10 different articles of clothing. You can see which label has the highest confidence value:"
   ]
  },
  {
   "cell_type": "code",
   "execution_count": 18,
   "metadata": {},
   "outputs": [
    {
     "data": {
      "text/plain": [
       "array([3.4925961e-08, 1.6158065e-08, 5.3955691e-08, 1.7913280e-11,\n",
       "       3.0988892e-07, 2.2799082e-03, 2.5057469e-09, 4.0159808e-03,\n",
       "       1.1027443e-08, 9.9370366e-01], dtype=float32)"
      ]
     },
     "execution_count": 18,
     "metadata": {},
     "output_type": "execute_result"
    }
   ],
   "source": [
    "predictions[0]"
   ]
  },
  {
   "cell_type": "code",
   "execution_count": 19,
   "metadata": {},
   "outputs": [
    {
     "data": {
      "text/plain": [
       "9"
      ]
     },
     "execution_count": 19,
     "metadata": {},
     "output_type": "execute_result"
    }
   ],
   "source": [
    "#numpy magic, obtain the highest value\n",
    "np.argmax(predictions[0])"
   ]
  },
  {
   "cell_type": "markdown",
   "metadata": {},
   "source": [
    "So, the model is most confident that this image is an ankle boot, or class_names[9]. Examining the test label shows that this classification is correct:"
   ]
  },
  {
   "cell_type": "code",
   "execution_count": 20,
   "metadata": {},
   "outputs": [
    {
     "data": {
      "text/plain": [
       "9"
      ]
     },
     "execution_count": 20,
     "metadata": {},
     "output_type": "execute_result"
    }
   ],
   "source": [
    "test_labels[0]"
   ]
  },
  {
   "cell_type": "code",
   "execution_count": 21,
   "metadata": {},
   "outputs": [
    {
     "name": "stdout",
     "output_type": "stream",
     "text": [
      "Label 9 relates to a Ankle boot.\n"
     ]
    }
   ],
   "source": [
    "print(\"Label 9 relates to a {}.\".format(class_names[np.argmax(predictions[0])]))"
   ]
  },
  {
   "cell_type": "markdown",
   "metadata": {},
   "source": [
    "Graph this to look at the full set of 10 class predictions."
   ]
  },
  {
   "cell_type": "code",
   "execution_count": 22,
   "metadata": {},
   "outputs": [],
   "source": [
    "#functions defined to show the item and relevance of the prediction\n",
    "\n",
    "def plot_image(i, predictions_array, true_label, img):\n",
    "  predictions_array, true_label, img = predictions_array, true_label[i], img[i]\n",
    "  plt.grid(False)\n",
    "  plt.xticks([])\n",
    "  plt.yticks([])\n",
    "\n",
    "  plt.imshow(img, cmap=plt.cm.binary)\n",
    "\n",
    "  predicted_label = np.argmax(predictions_array)\n",
    "  if predicted_label == true_label:\n",
    "    color = 'blue'\n",
    "  else:\n",
    "    color = 'red'\n",
    "\n",
    "  plt.xlabel(\"{} {:2.0f}% ({})\".format(class_names[predicted_label],\n",
    "                                100*np.max(predictions_array),\n",
    "                                class_names[true_label]),\n",
    "                                color=color)\n",
    "\n",
    "def plot_value_array(i, predictions_array, true_label):\n",
    "  predictions_array, true_label = predictions_array, true_label[i]\n",
    "  plt.grid(False)\n",
    "  plt.xticks(range(10))\n",
    "  plt.yticks([])\n",
    "  thisplot = plt.bar(range(10), predictions_array, color=\"#777777\")\n",
    "  plt.ylim([0, 1])\n",
    "  predicted_label = np.argmax(predictions_array)\n",
    "\n",
    "  thisplot[predicted_label].set_color('red')\n",
    "  thisplot[true_label].set_color('blue')\n"
   ]
  },
  {
   "cell_type": "markdown",
   "metadata": {},
   "source": [
    "Let's plot several images with their predictions. Note that the model can be wrong even when very confident."
   ]
  },
  {
   "cell_type": "code",
   "execution_count": 23,
   "metadata": {},
   "outputs": [
    {
     "data": {
      "image/png": "[encoded data removed]",
      "text/plain": [
       "<Figure size 864x720 with 30 Axes>"
      ]
     },
     "metadata": {
      "needs_background": "light"
     },
     "output_type": "display_data"
    }
   ],
   "source": [
    "# Plot the first X test images, their predicted labels, and the true labels.\n",
    "# Color correct predictions in blue and incorrect predictions in red.\n",
    "num_rows = 5\n",
    "num_cols = 3\n",
    "num_images = num_rows*num_cols\n",
    "plt.figure(figsize=(2*2*num_cols, 2*num_rows))\n",
    "for i in range(num_images):\n",
    "  plt.subplot(num_rows, 2*num_cols, 2*i+1)\n",
    "  plot_image(i, predictions[i], test_labels, test_images)\n",
    "  plt.subplot(num_rows, 2*num_cols, 2*i+2)\n",
    "  plot_value_array(i, predictions[i], test_labels)\n",
    "plt.tight_layout()\n",
    "plt.show()\n"
   ]
  },
  {
   "cell_type": "markdown",
   "metadata": {},
   "source": [
    "## Use the trained model\n",
    "\n",
    "Use the trained model to make a prediction about a single image.  We will generate a random number selected out of the domain of values.\n",
    "\n",
    "### *Note*\n",
    "tf.keras models are optimized to make predictions on a batch, or collection, of examples at once. Accordingly, even though you're using a single image, you need to add it to a list:\n"
   ]
  },
  {
   "cell_type": "code",
   "execution_count": 24,
   "metadata": {},
   "outputs": [],
   "source": [
    "# seed the pseudorandom number generator\n",
    "from random import seed\n",
    "from random import random\n",
    "\n",
    "# seed random number generator\n",
    "seed(1)\n",
    "\n",
    "#lowest array position\n",
    "min=0\n",
    "#highest array position (note that the returned shape is 1000x28x28)\n",
    "max=test_images.shape[0]-1\n",
    "\n",
    "#generate a random value\n",
    "value = random()\n",
    "\n",
    "#scale that value to the range we have available\n",
    "scaled_value = min + (value * (max - min))\n",
    "scaled_value = int(scaled_value)"
   ]
  },
  {
   "cell_type": "code",
   "execution_count": 25,
   "metadata": {},
   "outputs": [],
   "source": [
    "\n",
    "#take the an image from the test dataset, normally a 28x28 matrix\n",
    "img = test_images[scaled_value]\n",
    "\n",
    "# Add the image to a batch where it's the only member, now a 1x28x28 matrix.\n",
    "img = (np.expand_dims(img,0))"
   ]
  },
  {
   "cell_type": "code",
   "execution_count": 26,
   "metadata": {},
   "outputs": [
    {
     "name": "stdout",
     "output_type": "stream",
     "text": [
      "[[5.9449078e-05 2.6198936e-06 5.3426290e-01 3.9458382e-06 4.1600820e-01\n",
      "  3.0020915e-09 4.9648564e-02 7.0354871e-13 1.4296818e-05 2.5017597e-11]]\n"
     ]
    }
   ],
   "source": [
    "#predict the correct label for this image\n",
    "predictions_single = probability_model.predict(img)\n",
    "\n",
    "print(predictions_single)"
   ]
  },
  {
   "cell_type": "code",
   "execution_count": 27,
   "metadata": {},
   "outputs": [
    {
     "data": {
      "image/png": "[encoded data removed]",
      "text/plain": [
       "<Figure size 432x288 with 1 Axes>"
      ]
     },
     "metadata": {
      "needs_background": "light"
     },
     "output_type": "display_data"
    }
   ],
   "source": [
    "plot_value_array(1, predictions_single[0], test_labels)\n",
    "_ = plt.xticks(range(10), class_names, rotation=45)"
   ]
  },
  {
   "cell_type": "code",
   "execution_count": 28,
   "metadata": {},
   "outputs": [
    {
     "data": {
      "text/plain": [
       "2"
      ]
     },
     "execution_count": 28,
     "metadata": {},
     "output_type": "execute_result"
    }
   ],
   "source": [
    "#keras.Model.predict returns a list of lists—one list for each image in the batch of data. Grab the predictions for our (only) image in the batch\n",
    "np.argmax(predictions_single[0])"
   ]
  },
  {
   "cell_type": "markdown",
   "metadata": {},
   "source": [
    "## Which means ..."
   ]
  },
  {
   "cell_type": "code",
   "execution_count": 29,
   "metadata": {},
   "outputs": [
    {
     "name": "stdout",
     "output_type": "stream",
     "text": [
      "Prediction is label 2 which is a Pullover.\n",
      "Reality suggests label 4 which is a Coat.\n"
     ]
    }
   ],
   "source": [
    "print(\"Prediction is label {} which is a {}.\".format(np.argmax(predictions_single[0]),class_names[np.argmax(predictions_single[0])]))\n",
    "print(\"Reality suggests label {} which is a {}.\".format(test_labels[scaled_value],class_names[test_labels[scaled_value]] ))"
   ]
  },
  {
   "cell_type": "code",
   "execution_count": 30,
   "metadata": {},
   "outputs": [
    {
     "data": {
      "image/png": "[encoded data removed]",
      "text/plain": [
       "<Figure size 72x72 with 1 Axes>"
      ]
     },
     "metadata": {},
     "output_type": "display_data"
    }
   ],
   "source": [
    "plt.figure(figsize=(1,1))\n",
    "plot_image(scaled_value,np.argmax(predictions_single[0]), test_labels, test_images)\n",
    "plt.tight_layout()\n",
    "plt.show()\n"
   ]
  },
  {
   "cell_type": "code",
   "execution_count": 31,
   "metadata": {},
   "outputs": [
    {
     "name": "stdout",
     "output_type": "stream",
     "text": [
      "[[1.09745685e-07 9.95236098e-12 2.05872584e-06 1.21178512e-09\n",
      "  5.60668347e-08 9.99983430e-01 8.05888476e-08 1.42380577e-05\n",
      "  6.78103405e-08 2.40085800e-08]]\n",
      "Prediction is label 5 which is a Sandal.\n",
      "Reality suggests label 5 which is a Sandal.\n"
     ]
    },
    {
     "data": {
      "image/png": "[encoded data removed]",
      "text/plain": [
       "<Figure size 432x288 with 1 Axes>"
      ]
     },
     "metadata": {
      "needs_background": "light"
     },
     "output_type": "display_data"
    },
    {
     "data": {
      "image/png": "[encoded data removed]",
      "text/plain": [
       "<Figure size 72x72 with 1 Axes>"
      ]
     },
     "metadata": {},
     "output_type": "display_data"
    }
   ],
   "source": [
    "#let's try another one\n",
    "#generate a random value\n",
    "value = random()\n",
    "\n",
    "#scale that value to the range we have available\n",
    "scaled_value = min + (value * (max - min))\n",
    "scaled_value = int(scaled_value)\n",
    "#take the an image from the test dataset, normally a 28x28 matrix\n",
    "img = test_images[scaled_value]\n",
    "\n",
    "# Add the image to a batch where it's the only member, now a 1x28x28 matrix.\n",
    "img = (np.expand_dims(img,0))\n",
    "#predict the correct label for this image\n",
    "predictions_single = probability_model.predict(img)\n",
    "\n",
    "print(predictions_single)\n",
    "plot_value_array(1, predictions_single[0], test_labels)\n",
    "_ = plt.xticks(range(10), class_names, rotation=45)\n",
    "np.argmax(predictions_single[0])\n",
    "print(\"Prediction is label {} which is a {}.\".format(np.argmax(predictions_single[0]),class_names[np.argmax(predictions_single[0])]))\n",
    "print(\"Reality suggests label {} which is a {}.\".format(test_labels[scaled_value],class_names[test_labels[scaled_value]] ))\n",
    "plt.figure(figsize=(1,1))\n",
    "plot_image(scaled_value,np.argmax(predictions_single[0]), test_labels, test_images)\n",
    "plt.tight_layout()\n",
    "plt.show()"
   ]
  }
 ],
 "metadata": {
  "kernelspec": {
   "display_name": "Python 3",
   "language": "python",
   "name": "python3"
  },
  "language_info": {
   "codemirror_mode": {
    "name": "ipython",
    "version": 3
   },
   "file_extension": ".py",
   "mimetype": "text/x-python",
   "name": "python",
   "nbconvert_exporter": "python",
   "pygments_lexer": "ipython3",
   "version": "3.7.10"
  }
 },
 "nbformat": 4,
 "nbformat_minor": 4
}
