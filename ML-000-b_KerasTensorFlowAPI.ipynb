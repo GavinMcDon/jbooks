{
 "cells": [
  {
   "cell_type": "markdown",
   "metadata": {},
   "source": [
    "# TensorFlow & Multivariate Analysis\n",
    "\n",
    "## Using the ACS Flo-thru data, model a predicted output."
   ]
  },
  {
   "cell_type": "code",
   "execution_count": 1,
   "metadata": {},
   "outputs": [],
   "source": [
    "# Python 3.7.3\n",
    "############################################\n",
    "# INCLUDES\n",
    "############################################\n",
    "#libraries specific to this example\n",
    "import tensorflow as tf\n",
    "from tensorflow import keras\n",
    "from tensorflow.keras import layers\n",
    "from tensorflow.keras.backend import clear_session\n",
    "from tensorflow.keras.models import Sequential\n",
    "from tensorflow.keras.layers import Dense\n",
    "from tensorflow.keras.callbacks import EarlyStopping, ModelCheckpoint\n",
    "from sklearn.preprocessing import MinMaxScaler\n",
    "from sklearn.model_selection import train_test_split\n",
    "# seed the pseudorandom number generator\n",
    "from random import seed\n",
    "from random import random\n",
    "from random import randint\n",
    "\n",
    "#a set of libraries that perhaps should always be in Python source\n",
    "import os \n",
    "import datetime\n",
    "import sys\n",
    "import gc\n",
    "import getopt\n",
    "import inspect\n",
    "import math\n",
    "import warnings\n",
    "import types\n",
    "\n",
    "#Data Science Libraries\n",
    "import numpy as np\n",
    "import pandas as pd\n",
    "import scipy as sp\n",
    "import scipy.ndimage\n",
    "\n",
    "#Plotting libraries\n",
    "import matplotlib as matplt\n",
    "import matplotlib.pyplot as plt\n",
    "\n",
    "#a darn useful library for creating paths and one I recommend you load to your environment\n",
    "from pathlib import Path\n",
    "\n",
    "# can type in the python console `help(name of function)` to get the documentation\n",
    "from pydoc import help                          \n",
    "\n",
    "#Import a custom library, in this case a fairly useful logging framework\n",
    "debug_lib_location = Path(\"./\")\n",
    "sys.path.append(str(debug_lib_location))\n",
    "import debug\n",
    "\n",
    "warnings.filterwarnings('ignore')               # don't print out warnings\n",
    "\n",
    "\n",
    "root_location=\".\" + os.sep + \"data\";"
   ]
  },
  {
   "cell_type": "code",
   "execution_count": 2,
   "metadata": {},
   "outputs": [],
   "source": [
    "############################################\n",
    "#JUPYTER NOTEBOOK OUTPUT CONTROL / FORMATTING\n",
    "############################################\n",
    "#set floating point to 4 places to things don't run loose\n",
    "pd.options.display.float_format = '{:,.4f}'.format\n",
    "np.set_printoptions(precision=4)"
   ]
  },
  {
   "cell_type": "markdown",
   "metadata": {},
   "source": [
    "# Variable declaration"
   ]
  },
  {
   "cell_type": "code",
   "execution_count": 3,
   "metadata": {},
   "outputs": [],
   "source": [
    "############################################\n",
    "# GLOBAL VARIABLES\n",
    "############################################\n",
    "DEBUG = 1                            #General ledger output so you know what's happening.\n",
    "DEBUG_DATA = 1                       #Extremely verbose output, change to zero (0) to supress the volume of output.\n",
    "\n",
    "# CODE CONSTRAINTS\n",
    "VERSION_NAME    = \"MachineLearning\"\n",
    "VERSION_ACRONYM = \"ML-ACS\"\n",
    "VERSION_MAJOR   = 0\n",
    "VERSION_MINOR   = 0\n",
    "VERSION_RELEASE = \"0b\"\n",
    "VERSION_TITLE   = VERSION_NAME + \" (\" + VERSION_ACRONYM + \") \" + str(VERSION_MAJOR) + \".\" + str(VERSION_MINOR) + \".\" + str(VERSION_RELEASE) + \" generated SEED.\"\n",
    "\n",
    "ENCODING  =\"utf-8\"\n",
    "############################################\n",
    "# GLOBAL CONSTANTS\n",
    "############################################\n",
    "TEST_DISTRIBUTION_PERCENT=0.2\n",
    "# Model constants\n",
    "MDL_DIMS                 = 1                 #vars used as inputs\n",
    "#MDL_1ST_LYR_NEURONS      = 8096              #number of neurons used to process the inputs\n",
    "MDL_1ST_LYR_NEURONS      = 1024\n",
    "MDL_1ST_LYR_ACTIVATION   = tf.nn.relu        #('relu') activation function used to adjust probabilities going forward to the next neuron\n",
    "MDL_LOSS                 ='mse'              #loss function (mean standard error)\n",
    "#MDL_OPTIMIZER            ='adam'             #optimizer\n",
    "MDL_OPTIMIZER            = tf.keras.optimizers.Adam(0.01)\n",
    "MDL_METRICS              ='accuracy'         #metrics to gather during execution of the neural model\n",
    "\n",
    "MDL_DENSE_NEURONS        = 35                #number of output vars\n",
    "MDL_DENSE_ACTIVATION     = tf.nn.sigmoid     #('sigmoid') activation function used to make the final determination in the output layer\n",
    "\n",
    "MDL_EPOCS                = 100               #number of times the training set will be iterated against\n",
    "MDL_BATCH_SZ             = 100               #number of records to process as the training commences\n",
    "\n",
    "############################################\n",
    "# APPLICATION VARIABLES\n",
    "############################################\n",
    "\n",
    "############################################\n",
    "# GLOBAL CONFIGURATION\n",
    "############################################\n",
    "os.environ['PYTHONIOENCODING']=ENCODING\n"
   ]
  },
  {
   "cell_type": "markdown",
   "metadata": {},
   "source": [
    "## General Function Declaration"
   ]
  },
  {
   "cell_type": "code",
   "execution_count": 4,
   "metadata": {},
   "outputs": [],
   "source": [
    "############################################\n",
    "# WARNING / ERROR Management\n",
    "############################################\n",
    "def fxn():\n",
    "    warnings.warn(\"deprecated\", DeprecationWarning)\n",
    "\n",
    "with warnings.catch_warnings():\n",
    "    warnings.simplefilter(\"ignore\")\n",
    "    fxn()\n",
    "\n",
    "\n",
    "############################################\n",
    "# FUNCTIONS\n",
    "############################################\n",
    "\n",
    "def prototype(incMonth):\n",
    "\n",
    "    debug.msg_info(\"Entering {}.{}\".format(__name__, inspect.stack()[0][3]))\n",
    "    debug.msg_info(\"The month you passed in was \" + str(incMonth))\n",
    "    debug.msg_info(\"Exiting {}.{}\".format(__name__, inspect.stack()[0][3]))\n",
    "    return 1\n",
    "\n",
    "def lib_diagnostics():\n",
    "    debug.msg_debug(\"System version    #:{:>12}\".format(sys.version))\n",
    "    try:\n",
    "        netcdf4_version_info = nc.getlibversion().split(\" \")\n",
    "        debug.msg_debug(\"netCDF4 version   #:{:>12}\".format(netcdf4_version_info[0]))\n",
    "    except:\n",
    "        print(\"NetCDF4 lib not present.\")\n",
    "    debug.msg_debug(\"Matplotlib version#:{:>12}\".format(matplt.__version__))\n",
    "    debug.msg_debug(\"Numpy version     #:{:>12}\".format(np.__version__))\n",
    "    debug.msg_debug(\"Pandas version    #:{:>12}\".format(pd.__version__))\n",
    "    debug.msg_debug(\"SciPy version     #:{:>12}\".format(sp.__version__))\n",
    "    debug.msg_debug(\"TensorFlow version#:{:>12}\".format(tf.__version__))\n",
    "    return\n",
    "\n",
    "def get_full_version():\n",
    "\n",
    "    resultant = str(VERSION_NAME) + \"  v\" + str(VERSION_MAJOR) + \".\" + str(VERSION_MINOR) + \".\" + str(VERSION_RELEASE)\n",
    "    return resultant\n",
    "\n",
    "def get_version():\n",
    "\n",
    "    resultant = str(VERSION_MAJOR) + \".\" + str(VERSION_MINOR) + \".\" + str(VERSION_RELEASE)\n",
    "    return resultant\n",
    "\n",
    "def printversion():\n",
    "\n",
    "    print(get_full_version())\n",
    "\n",
    "def printusage():\n",
    "\n",
    "    print(\"\")\n",
    "    printversion()\n",
    "    print(\"  -v, --version    prints the version of this software package.\")\n",
    "    print(\"\")\n",
    "    print(\"  * - indicates required argument.\")\n",
    "\n",
    "######################################################################\n",
    "#Support routines to see columns in DataFrames\n",
    "######################################################################\n",
    "def show_columns_plain(inc_ary):\n",
    "    new_ary = []\n",
    "    for col in inc_ary:\n",
    "        new_ary.append(np.char.lower(col))\n",
    "    new_ary.sort\n",
    "    myOutputString = \" \"\n",
    "    for col in new_ary:\n",
    "        myOutputString = myOutputString + \" \" + str(col)\n",
    "    return myOutputString\n",
    "\n",
    "def show_columns_true(inc_ary):\n",
    "    new_ary = []\n",
    "    for col in inc_ary:\n",
    "        new_ary.append(col)\n",
    "    new_ary.sort\n",
    "    myOutputString = \" \"\n",
    "    for col in new_ary:\n",
    "        myOutputString = myOutputString + \" \" + str(col)\n",
    "    return myOutputString\n",
    "\n",
    "######################################################################\n",
    "#Input Validation\n",
    "######################################################################\n",
    "# valid string:\n",
    "#  We don't want the following:\n",
    "#   - at the start of the file name (might be construed as a switch)\n",
    "#  $, &, |, ;, <, >, `, !, *, \", \\ (to start with)\n",
    "###\n",
    "def validstring(testsubject):\n",
    "\n",
    "    if testsubject[0] == \"-\":\n",
    "        return 0\n",
    "    elif \"$\" in testsubject or \"&\" in testsubject or \"|\" in testsubject:\n",
    "        return 0\n",
    "    elif \";\" in testsubject or \"`\" in testsubject or \"!\" in testsubject:\n",
    "        return 0\n",
    "    elif \"*\" in testsubject or '\"' in testsubject or \"\\\\\" in testsubject:\n",
    "        return 0\n",
    "    else:\n",
    "        return 1\n",
    "    \n",
    "######################################################################\n",
    "#Machine Learning - Save the model when the patience function fires\n",
    "######################################################################\n",
    "def save_model(model, model_title):\n",
    "    \"\"\"save current model to two files: one for architecture configuration,\n",
    "       and the other for the weights\"\"\"\n",
    "\n",
    "    # serialize model to JSON\n",
    "    model_title = str(model_title)\n",
    "    model_json = model.to_json()\n",
    "    with open(model_title + \".json\", \"w\") as json_file:\n",
    "        json_file.write(model_json)\n",
    "\n",
    "    # serialize weights to HDF5\n",
    "    # When saving a model's weights, tf.keras defaults to the checkpoint format.\n",
    "    # Pass save_format='h5' to use HDF5 (or pass a filename that ends in .h5).\n",
    "    model.save_weights(model_title + \".h5\")\n",
    "    print(\"Saved model \" + model_title + \" to disk\")\n",
    "\n",
    "    return\n",
    "\n",
    "def load_model(path, file_label):\n",
    "    # load json and create model\n",
    "    json_file = open(os.path.join(path, file_label+'.json'), 'r')\n",
    "    loaded_model_json = json_file.read()\n",
    "    json_file.close()\n",
    "    loaded_model = model_from_json(loaded_model_json)\n",
    "\n",
    "    # load weights into new model\n",
    "    loaded_model.load_weights(os.path.join(path, file_label+'.h5'))\n",
    "    print(\"Loaded model from disk\")\n",
    "\n",
    "    return loaded_model\n",
    "    "
   ]
  },
  {
   "cell_type": "code",
   "execution_count": 5,
   "metadata": {},
   "outputs": [],
   "source": [
    "# %load ./libs.py\n",
    "#Title:     Displays the libraries in current use.\n",
    "#Objective: Invocation is intended as function calls within another program.\n",
    "#Assumptions:\n",
    "#           1. Should be stored in standardized location such as:\n",
    "#                      /p/home/{user_name}/usr/PYTHONLIB\n",
    "#           2. Developer loads the module (Jupyter Lab).\n",
    "#Pre-Requisites:\n",
    "#           1. Python v3.*\n",
    "#           2. Jupyter Lab / Notebook (%load libs.py)\n",
    "#Usage:\n",
    "#       %load libs.py\n",
    "#       find_loaded_modules().HTML\n",
    "#\n",
    "#Version History:\n",
    "# ------------------------------------------------------------------------\n",
    "# Version   Date       Modification                              Author\n",
    "# ------------------------------------------------------------------------\n",
    "# 1.0       2020/04/29 Inception                                 Radiance\n",
    "# ------------------------------------------------------------------------\n",
    "# ------------------------------------------------------------------------\n",
    "\n",
    "\n",
    "#######################################################################\n",
    "#LIBRARIES\n",
    "#######################################################################\n",
    "import os\n",
    "import types\n",
    "\n",
    "def module_version(mod):\n",
    "    '''Return version string for module *mod*, or nothing if\n",
    "    it doesn't have a \"version\" or \"__version__\" attribute.'''\n",
    "    version = []\n",
    "    if hasattr(mod, '__dict__'):\n",
    "        keys = []\n",
    "        for key in mod.__dict__.keys():\n",
    "            if key.lower() == 'version' or key.lower() == '__version__':\n",
    "                v = mod.__dict__[key]\n",
    "                if (str):\n",
    "                    if isinstance(v, str):\n",
    "                        version.append(v)\n",
    "                else:\n",
    "                    version.append(\"No version\")\n",
    "        if keys:\n",
    "            print (mod, keys)\n",
    "    if version:\n",
    "        return ', '.join(version)\n",
    "    else:\n",
    "        return ''\n",
    "\n",
    "def find_loaded_modules(only_versioned_modules=True):\n",
    "\n",
    "    def list_of_lists_to_HTML(lists, header_row=None):\n",
    "        '''Convert a list of a list of strings to a HTML table.'''\n",
    "        s = '<table>'\n",
    "        if header_row:\n",
    "            s += '\\n\\t<tr>\\n\\t\\t'\n",
    "            s += ''.join(['<th>%s</th>' % item for item in header_row])\n",
    "            s += '\\n\\t</tr>'\n",
    "        for inner_list in lists:\n",
    "            s += '\\n\\t<tr>\\n\\t\\t'\n",
    "            s += ''.join(['<td>%s</td>' % item for item in inner_list])\n",
    "            s += '\\n\\t</tr>'\n",
    "        s += '\\n</table>'\n",
    "        return s\n",
    "    \n",
    "    class LoadedModules(list):\n",
    "        '''Very simple wrapper for a list of lists of strings, with an attribute\n",
    "        for display in IPython Notebooks.'''\n",
    "        def __init__(self, *args, **kwargs):\n",
    "            list.__init__(self, *args, **kwargs)\n",
    "            \n",
    "        @property\n",
    "        def HTML(self):\n",
    "            from IPython.display import HTML\n",
    "            return HTML(\n",
    "                    list_of_lists_to_HTML(\n",
    "                            self, header_row=['Name', 'Version']))\n",
    "                    \n",
    "    objs = LoadedModules()\n",
    "    for i, mod in enumerate(globals().values()):\n",
    "        if isinstance(mod, types.ModuleType):\n",
    "            if hasattr(mod, '__name__'):\n",
    "                name = mod.__name__\n",
    "            else:\n",
    "                name = ''\n",
    "            \n",
    "            version = module_version(mod)\n",
    "            \n",
    "            objs.append([mod.__name__, version])\n",
    "    objs.sort(key=lambda r: r[0])\n",
    "    return objs\n"
   ]
  },
  {
   "cell_type": "code",
   "execution_count": 6,
   "metadata": {},
   "outputs": [
    {
     "data": {
      "text/html": [
       "<table>\n",
       "\t<tr>\n",
       "\t\t<th>Name</th><th>Version</th>\n",
       "\t</tr>\n",
       "\t<tr>\n",
       "\t\t<td>builtins</td><td></td>\n",
       "\t</tr>\n",
       "\t<tr>\n",
       "\t\t<td>builtins</td><td></td>\n",
       "\t</tr>\n",
       "\t<tr>\n",
       "\t\t<td>datetime</td><td></td>\n",
       "\t</tr>\n",
       "\t<tr>\n",
       "\t\t<td>debug</td><td></td>\n",
       "\t</tr>\n",
       "\t<tr>\n",
       "\t\t<td>gc</td><td></td>\n",
       "\t</tr>\n",
       "\t<tr>\n",
       "\t\t<td>getopt</td><td></td>\n",
       "\t</tr>\n",
       "\t<tr>\n",
       "\t\t<td>inspect</td><td></td>\n",
       "\t</tr>\n",
       "\t<tr>\n",
       "\t\t<td>math</td><td></td>\n",
       "\t</tr>\n",
       "\t<tr>\n",
       "\t\t<td>matplotlib</td><td>3.4.2</td>\n",
       "\t</tr>\n",
       "\t<tr>\n",
       "\t\t<td>matplotlib.pyplot</td><td></td>\n",
       "\t</tr>\n",
       "\t<tr>\n",
       "\t\t<td>numpy</td><td>1.21.1</td>\n",
       "\t</tr>\n",
       "\t<tr>\n",
       "\t\t<td>os</td><td></td>\n",
       "\t</tr>\n",
       "\t<tr>\n",
       "\t\t<td>pandas</td><td>1.3.1</td>\n",
       "\t</tr>\n",
       "\t<tr>\n",
       "\t\t<td>scipy</td><td>1.7.1</td>\n",
       "\t</tr>\n",
       "\t<tr>\n",
       "\t\t<td>scipy</td><td>1.7.1</td>\n",
       "\t</tr>\n",
       "\t<tr>\n",
       "\t\t<td>sys</td><td>3.7.10 | packaged by conda-forge | (default, Feb 19 2021, 16:07:37) \n",
       "[GCC 9.3.0]</td>\n",
       "\t</tr>\n",
       "\t<tr>\n",
       "\t\t<td>tensorflow</td><td>2.1.0</td>\n",
       "\t</tr>\n",
       "\t<tr>\n",
       "\t\t<td>tensorflow_core.keras.layers</td><td></td>\n",
       "\t</tr>\n",
       "\t<tr>\n",
       "\t\t<td>tensorflow_core.python.keras.api._v2.keras</td><td>2.2.4-tf</td>\n",
       "\t</tr>\n",
       "\t<tr>\n",
       "\t\t<td>types</td><td></td>\n",
       "\t</tr>\n",
       "\t<tr>\n",
       "\t\t<td>warnings</td><td></td>\n",
       "\t</tr>\n",
       "</table>"
      ],
      "text/plain": [
       "<IPython.core.display.HTML object>"
      ]
     },
     "execution_count": 6,
     "metadata": {},
     "output_type": "execute_result"
    }
   ],
   "source": [
    "find_loaded_modules().HTML"
   ]
  },
  {
   "cell_type": "markdown",
   "metadata": {},
   "source": [
    "## Random Numbers\n",
    "\n",
    "The source of randomness that we inject into our programs and algorithms is a mathematical trick called a pseudorandom number generator.\n",
    "\n",
    "A random number generator is a system that generates random numbers from a true source of randomness. Often something physical, such as a Geiger counter, where the results are turned into random numbers. We do not need true randomness in machine learning. Instead we can use pseudorandomness. Pseudorandomness is a sample of numbers that look close to random, but were generated using a deterministic process.\n",
    "\n",
    "Shuffling data and initializing coefficients with random values use pseudorandom number generators. These little programs are often a function that you can call that will return a random number. Called again, they will return a new random number. Wrapper functions are often also available and allow you to get your randomness as an integer, floating point, within a specific distribution, within a specific range, and so on.\n",
    "\n",
    "The numbers are generated in a sequence. The sequence is deterministic and is seeded with an initial number. If you do not explicitly seed the pseudorandom number generator, then it may use the current system time in seconds or milliseconds as the seed.\n",
    "\n",
    "The value of the seed does not matter. Choose anything you wish. What does matter is that the same seeding of the process will result in the same sequence of random numbers."
   ]
  },
  {
   "cell_type": "code",
   "execution_count": 7,
   "metadata": {},
   "outputs": [],
   "source": [
    "# seed random number generator\n",
    "seed(1)"
   ]
  },
  {
   "cell_type": "markdown",
   "metadata": {},
   "source": [
    "# Step 1 -  Data Preparation"
   ]
  },
  {
   "cell_type": "code",
   "execution_count": 8,
   "metadata": {},
   "outputs": [
    {
     "name": "stdout",
     "output_type": "stream",
     "text": [
      "[2022-09-12 13:28:42 CDT]   DEBUG: ################################################################ \n",
      "[2022-09-12 13:28:42 CDT]   DEBUG:  Data Preparation \n",
      "[2022-09-12 13:28:42 CDT]   DEBUG: ################################################################ \n",
      "[2022-09-12 13:28:42 CDT]   DEBUG:  \n",
      "[2022-09-12 13:28:42 CDT]   DEBUG:  ...specify file locations. \n",
      "[2022-09-12 13:28:42 CDT]   DEBUG:  ...establish meta-data. \n",
      "[2022-09-12 13:28:42 CDT]   DEBUG:  ...read data start \n",
      "[2022-09-12 13:28:44 CDT]   DEBUG:  ...read data finish \n"
     ]
    }
   ],
   "source": [
    "debug.msg_debug(\"################################################################\")\n",
    "debug.msg_debug(\" Data Preparation\")\n",
    "debug.msg_debug(\"################################################################\")\n",
    "debug.msg_debug(\"\")\n",
    "\n",
    "#######################################################################\n",
    "#File locations\n",
    "#######################################################################\n",
    "debug.msg_debug(\" ...specify file locations.\")\n",
    "root_location=\".\" + os.sep + \"data\";\n",
    "filename=root_location + os.sep + \"mooring_data.txt\"\n",
    "\n",
    "#######################################################################\n",
    "#Data Structure Setup\n",
    "#######################################################################\n",
    "debug.msg_debug(\" ...establish meta-data.\")\n",
    "ACS_FILE=\"ACS.txt\"\n",
    "ACS_HEADER=[\" Time(ms)\",\"Depth(m)\",\"Pres(dbar)\",\"Temp(C)\",\"Cond(S/m)\",\"Sal(PSU)\",\"a650__\",\"a676__\",\"a715__\",\"c510__\",\"c532__\",\"c555__\",\"a412__\",\"a440__\",\"a488__\",\"c650__\",\"c676__\",\"c715__\",\"a510__\",\"a532__\",\"a555__\",\"c412__\",\"c440__\",\"c488__\",\"Beta(470)\",\"BetaP(470)\",\"bbP(470)\",\"bb(470)\",\"Beta(532)\",\"BetaP(532)\",\"bbP(532)\",\"bb(532)\",\"Beta(650)\",\"BetaP(650)\",\"bbP(650)\",\"bb(650)\",\"CHL(ug/l)\",\"PE(ppb)\",\"CDOM(ppb)\"]\n",
    "ACS_HEADER_COUNT=len(ACS_HEADER)\n",
    "ACS_DOMAIN=ACS_HEADER[9:]\n",
    "ACS_DROP_DOMAIN=[\" Time(ms)\",\"Depth(m)\",\"Pres(dbar)\"]\n",
    "ACS_SCALED_DOMAIN=[\"Temp(C)\",\"Cond(S/m)\",\"Sal(PSU)\",\"a650__\",\"a676__\",\"a715__\",\"c510__\",\"c532__\",\"c555__\",\"a412__\",\"a440__\",\"a488__\",\"c650__\",\"c676__\",\"c715__\",\"a510__\",\"a532__\",\"a555__\",\"c412__\",\"c440__\",\"c488__\",\"Beta(470)\",\"BetaP(470)\",\"bbP(470)\",\"bb(470)\",\"Beta(532)\",\"BetaP(532)\",\"bbP(532)\",\"bb(532)\",\"Beta(650)\",\"BetaP(650)\",\"bbP(650)\",\"bb(650)\",\"CHL(ug/l)\",\"PE(ppb)\",\"CDOM(ppb)\"]\n",
    "ACS_INPUT_DOMAIN=[\"Temp(C)\",\"Cond(S/m)\",\"Sal(PSU)\",\"a650__\",\"a676__\",\"a715__\",\"c510__\",\"c532__\",\"c555__\",\"a412__\",\"a440__\",\"a488__\",\"c650__\",\"c676__\",\"c715__\",\"a510__\",\"a532__\",\"a555__\",\"c412__\",\"c440__\",\"c488__\",\"Beta(470)\",\"BetaP(470)\",\"bbP(470)\",\"bb(470)\",\"Beta(532)\",\"BetaP(532)\",\"bbP(532)\",\"bb(532)\",\"Beta(650)\",\"BetaP(650)\",\"bbP(650)\",\"bb(650)\",\"CHL(ug/l)\",\"PE(ppb)\"]\n",
    "ACS_OUTPUT_DOMAIN=[\"CDOM(ppb)\"]\n",
    "\n",
    "#######################################################################\n",
    "#READ\n",
    "#######################################################################\n",
    "#there are an insane number of options, but generally if you have well structured data it's 'magic'\n",
    "#Reference:http://pandas.pydata.org/pandas-docs/stable/reference/api/pandas.read_csv.html#pandas.read_csv\n",
    "#changed \\t delimiter to ^ which made parsing the columns far easier\n",
    "#straight from the WAP output with the delimiter modified\n",
    "debug.msg_debug(\" ...read data start\")\n",
    "mooring=pd.read_csv(filename, delimiter='^')\n",
    "debug.msg_debug(\" ...read data finish\")"
   ]
  },
  {
   "cell_type": "code",
   "execution_count": 9,
   "metadata": {},
   "outputs": [
    {
     "name": "stdout",
     "output_type": "stream",
     "text": [
      "################################################################\n",
      " Pandas.Dataframe Information\n",
      "################################################################\n",
      "<class 'pandas.core.frame.DataFrame'>\n",
      "RangeIndex: 54225 entries, 0 to 54224\n",
      "Data columns (total 36 columns):\n",
      " #   Column      Non-Null Count  Dtype  \n",
      "---  ------      --------------  -----  \n",
      " 0   Temp(C)     54225 non-null  float64\n",
      " 1   Cond(S/m)   54225 non-null  float64\n",
      " 2   Sal(PSU)    54225 non-null  float64\n",
      " 3   a650__      54225 non-null  float64\n",
      " 4   a676__      54225 non-null  float64\n",
      " 5   a715__      54225 non-null  float64\n",
      " 6   c510__      54221 non-null  float64\n",
      " 7   c532__      54224 non-null  float64\n",
      " 8   c555__      54225 non-null  float64\n",
      " 9   a412__      54191 non-null  float64\n",
      " 10  a440__      54196 non-null  float64\n",
      " 11  a488__      54213 non-null  float64\n",
      " 12  c650__      54225 non-null  float64\n",
      " 13  c676__      54225 non-null  float64\n",
      " 14  c715__      54225 non-null  float64\n",
      " 15  a510__      54221 non-null  float64\n",
      " 16  a532__      54224 non-null  float64\n",
      " 17  a555__      54225 non-null  float64\n",
      " 18  c412__      54191 non-null  float64\n",
      " 19  c440__      54196 non-null  float64\n",
      " 20  c488__      54213 non-null  float64\n",
      " 21  Beta(470)   54225 non-null  float64\n",
      " 22  BetaP(470)  54225 non-null  float64\n",
      " 23  bbP(470)    54225 non-null  float64\n",
      " 24  bb(470)     54225 non-null  float64\n",
      " 25  Beta(532)   54225 non-null  float64\n",
      " 26  BetaP(532)  54225 non-null  float64\n",
      " 27  bbP(532)    54225 non-null  float64\n",
      " 28  bb(532)     54225 non-null  float64\n",
      " 29  Beta(650)   54225 non-null  float64\n",
      " 30  BetaP(650)  54225 non-null  float64\n",
      " 31  bbP(650)    54225 non-null  float64\n",
      " 32  bb(650)     54225 non-null  float64\n",
      " 33  CHL(ug/l)   54225 non-null  float64\n",
      " 34  PE(ppb)     54225 non-null  float64\n",
      " 35  CDOM(ppb)   54225 non-null  float64\n",
      "dtypes: float64(36)\n",
      "memory usage: 14.9 MB\n",
      "None\n",
      "\n",
      "################################################################\n",
      " Pandas.Dataframe head (first 10 rows)\n",
      "################################################################\n",
      "   Temp(C)  Cond(S/m)  Sal(PSU)  a650__  a676__  a715__  c510__  c532__  \\\n",
      "0  20.2413     3.0704   21.2229  0.4937  0.6243  1.1033  3.5300  3.3201   \n",
      "1  20.2413     3.0704   21.2229  0.4980  0.6304  1.1030  3.5090  3.2850   \n",
      "2  20.2413     3.0704   21.2229  0.4928  0.6280  1.1028  3.5117  3.2873   \n",
      "3  20.2413     3.0704   21.2229  0.4971  0.6335  1.1029  3.4770  3.2759   \n",
      "4  20.2413     3.0704   21.2229  0.4967  0.6282  1.1030  3.4634  3.2572   \n",
      "\n",
      "   c555__  a412__  ...  BetaP(532)  bbP(532)  bb(532)  Beta(650)  BetaP(650)  \\\n",
      "0  3.1844  1.4887  ...      0.0063    0.0434   0.0446     0.0056      0.0056   \n",
      "1  3.1376  1.4929  ...      0.0063    0.0434   0.0446     0.0056      0.0056   \n",
      "2  3.1304  1.4931  ...      0.0063    0.0434   0.0446     0.0056      0.0056   \n",
      "3  3.1041  1.4878  ...      0.0063    0.0434   0.0446     0.0056      0.0056   \n",
      "4  3.1007  1.4938  ...      0.0063    0.0434   0.0446     0.0056      0.0056   \n",
      "\n",
      "   bbP(650)  bb(650)  CHL(ug/l)  PE(ppb)  CDOM(ppb)  \n",
      "0    0.0384   0.0389     0.0260   6.5550    14.2500  \n",
      "1    0.0384   0.0389     0.0260   6.5550    14.2500  \n",
      "2    0.0384   0.0389     0.0260   6.5550    14.2500  \n",
      "3    0.0384   0.0389     0.0260   6.5550    14.2500  \n",
      "4    0.0384   0.0389     0.0260   6.5550    14.2500  \n",
      "\n",
      "[5 rows x 36 columns]\n",
      "\n",
      "################################################################\n",
      " Remaining columns\n",
      "################################################################\n"
     ]
    },
    {
     "data": {
      "text/plain": [
       "'  temp(c) cond(s/m) sal(psu) a650__ a676__ a715__ c510__ c532__ c555__ a412__ a440__ a488__ c650__ c676__ c715__ a510__ a532__ a555__ c412__ c440__ c488__ beta(470) betap(470) bbp(470) bb(470) beta(532) betap(532) bbp(532) bb(532) beta(650) betap(650) bbp(650) bb(650) chl(ug/l) pe(ppb) cdom(ppb)'"
      ]
     },
     "execution_count": 9,
     "metadata": {},
     "output_type": "execute_result"
    }
   ],
   "source": [
    "#######################################################################\n",
    "#REDUCE dataset to make it more manageable and remove uncessary values\n",
    "#######################################################################\n",
    "df = mooring.drop(columns=ACS_DROP_DOMAIN, inplace=False)\n",
    "\n",
    "print(\"################################################################\")\n",
    "print(\" Pandas.Dataframe Information\")\n",
    "print(\"################################################################\")\n",
    "print(df.info())\n",
    "print(\"\")\n",
    "\n",
    "print(\"################################################################\")\n",
    "print(\" Pandas.Dataframe head (first 10 rows)\")\n",
    "print(\"################################################################\")\n",
    "print(df.head())\n",
    "print(\"\")\n",
    "\n",
    "print(\"################################################################\")\n",
    "print(\" Remaining columns\")\n",
    "print(\"################################################################\")\n",
    "show_columns_plain(df.columns)"
   ]
  },
  {
   "cell_type": "markdown",
   "metadata": {},
   "source": [
    "# Step 1 Continued...Scaling data\n",
    "## Scale all the data between 1 and 0\n",
    "\n",
    "Deep learning neural networks learn how to map inputs to outputs from examples in a training dataset.\n",
    "\n",
    "The weights of the model are initialized to small random values and updated via an optimization algorithm in response to estimates of error on the training dataset.\n",
    "\n",
    "Given the use of small weights in the model and the use of error between predictions and expected values, the scale of inputs and outputs used to train the model are an important factor. Unscaled input variables can result in a slow or unstable learning process, whereas unscaled target variables on regression problems can result in exploding gradients causing the learning process to fail.\n",
    "\n",
    "Data preparation involves using techniques such as the normalization and standardization to rescale input and output variables prior to training a neural network model.\n",
    "\n",
    "\"One of the most common forms of pre-processing consists of a simple linear rescaling of the input variables.\"\n",
    "\n",
    "### ***Very Important!***\n",
    "\n",
    "**The output variable is the variable predicted by the network.**\n",
    "\n",
    "**You must ensure that the scale of your output variable matches the scale of the activation function (transfer function) on the output layer of your network.**\n",
    "\n",
    "Reference: https://machinelearningmastery.com/how-to-improve-neural-network-stability-and-modeling-performance-with-data-scaling/"
   ]
  },
  {
   "cell_type": "code",
   "execution_count": 10,
   "metadata": {},
   "outputs": [
    {
     "name": "stdout",
     "output_type": "stream",
     "text": [
      "[2022-09-12 13:28:44 CDT]   DEBUG: ################################################################ \n",
      "[2022-09-12 13:28:44 CDT]   DEBUG:  Scale your dataset (normalize it) \n",
      "[2022-09-12 13:28:44 CDT]   DEBUG: ################################################################ \n",
      "[2022-09-12 13:28:44 CDT]   DEBUG:  \n",
      "[2022-09-12 13:28:44 CDT]   DEBUG:  ...instantiating the MinMaxScaler() \n",
      "[2022-09-12 13:28:44 CDT]   DEBUG:  ...backup the original Dataframe \n",
      "[2022-09-12 13:28:44 CDT]   DEBUG:  ...transform the data between 0 - 1, normalize it. \n"
     ]
    }
   ],
   "source": [
    "debug.msg_debug(\"################################################################\")\n",
    "debug.msg_debug(\" Scale your dataset (normalize it)\")\n",
    "debug.msg_debug(\"################################################################\")\n",
    "debug.msg_debug(\"\")\n",
    "#######################################################################\n",
    "#Instantiate the class for scaling operations\n",
    "#You must scale the entire domain of values for inputs and outputs\n",
    "#######################################################################\n",
    "debug.msg_debug(\" ...instantiating the MinMaxScaler()\")\n",
    "scaler = MinMaxScaler()\n",
    "\n",
    "#######################################################################\n",
    "#Store the scaled output\n",
    "#######################################################################\n",
    "scaler_df=[]\n",
    "\n",
    "debug.msg_debug(\" ...backup the original Dataframe\")\n",
    "tmp_df=df\n",
    "#scale data between 1 and 0 to ensure anomalous values are handled (this is not a loss function), you have to inverseScale these values when finished processing.\n",
    "#ensure in the implementation that we scale prior to actually executing real data against a model.\n",
    "\n",
    "#scaling the data like this means that the model will be trained within the constraints of the inputs, mins/maxs are \"baked\" into the neural network\n",
    "#new data coming in will always be forced to be within those mins/maxs which means no specific loss function for min/max values is required.\n",
    "debug.msg_debug(\" ...transform the data between 0 - 1, normalize it.\")\n",
    "tmp_df[ACS_SCALED_DOMAIN] = scaler.fit_transform(df[ACS_SCALED_DOMAIN])\n",
    "\n",
    "#persist the scaled domain of values\n",
    "scaler_df.append(tmp_df)"
   ]
  },
  {
   "cell_type": "markdown",
   "metadata": {},
   "source": [
    "Good practice usage with the MinMaxScaler and other scaling techniques is as follows:\n",
    "\n",
    "   + Fit the scaler using available training data. For normalization, this means the training data will be used to estimate the minimum and maximum observable values. This is done by calling the fit() function.\n",
    "   + Apply the scale to training data. This means you can use the normalized data to train your model. This is done by calling the transform() function.\n",
    "   + Apply the scale to data going forward. This means you can prepare new data in the future on which you want to make predictions.\n"
   ]
  },
  {
   "cell_type": "markdown",
   "metadata": {},
   "source": [
    "# Step 1 Continued...Inputs / Outputs\n",
    "## Prepare the Inputs / Outputs"
   ]
  },
  {
   "cell_type": "code",
   "execution_count": 11,
   "metadata": {},
   "outputs": [
    {
     "name": "stdout",
     "output_type": "stream",
     "text": [
      "[2022-09-12 13:28:44 CDT]   DEBUG: ################################################################ \n",
      "[2022-09-12 13:28:44 CDT]   DEBUG:  Preparing inputs/outputs \n",
      "[2022-09-12 13:28:44 CDT]   DEBUG: ################################################################ \n",
      "[2022-09-12 13:28:44 CDT]   DEBUG:  \n",
      "[2022-09-12 13:28:44 CDT]   DEBUG:  ...copying original scaled dataset for \"x\", the inputs. \n",
      "[2022-09-12 13:28:44 CDT]   DEBUG:  ...dropping columns that are not the input. \n",
      "[2022-09-12 13:28:44 CDT]   DEBUG:  ...copying original scaled dataset for \"y\", the outputs. \n",
      "[2022-09-12 13:28:44 CDT]   DEBUG:  ...dropping columns that are not the output. \n"
     ]
    }
   ],
   "source": [
    "debug.msg_debug(\"################################################################\")\n",
    "debug.msg_debug(\" Preparing inputs/outputs\")\n",
    "debug.msg_debug(\"################################################################\")\n",
    "debug.msg_debug(\"\")\n",
    "#######################################################################\n",
    "#Future storage\n",
    "#######################################################################\n",
    "x=[]\n",
    "y=[]\n",
    "\n",
    "#######################################################################\n",
    "#Previous iterations of Pandas.DataFrame.as_matrix supported an easier mechanism for flattening the output\n",
    "#gotta work with the API\n",
    "#######################################################################\n",
    "debug.msg_debug(\" ...copying original scaled dataset for \\\"x\\\", the inputs.\")\n",
    "x_df=scaler_df[0].copy()\n",
    "#drop all outputs from this copy of the total domain, we only want the inputs in X\n",
    "debug.msg_debug(\" ...dropping columns that are not the input.\")\n",
    "#need to assign to a new data frame, the old one will retain the values no matter what\n",
    "new_x_df=x_df.drop(columns=ACS_OUTPUT_DOMAIN)\n",
    "\n",
    "#######################################################################\n",
    "#Backup scaled Dataframes and store\n",
    "#######################################################################\n",
    "debug.msg_debug(\" ...copying original scaled dataset for \\\"y\\\", the outputs.\")\n",
    "y_df=scaler_df[0].copy()\n",
    "debug.msg_debug(\" ...dropping columns that are not the output.\")\n",
    "new_y_df=y_df.drop(columns=ACS_INPUT_DOMAIN)\n",
    "\n",
    "#Remember those arrays created previously?  They define what goes into the neural network and what is expected out.\n",
    "#Output the data as \"flat\" arrays without the overhead of the Pandas.DataFrame\n",
    "#x.append(x_df.values)\n",
    "#y.append(y_df.values)\n",
    "x.append(new_x_df)\n",
    "y.append(new_y_df)"
   ]
  },
  {
   "cell_type": "markdown",
   "metadata": {},
   "source": [
    "# Step 1 Continued...Train/Test datasets\n",
    "## Establish Training dataset and Test dataset\n",
    "\n",
    "\n",
    "\n",
    "train_test_split is a function in Sklearn model selection for splitting data arrays into two subsets: for training data and for testing data. With this function, you don't need to divide the dataset manually.\n",
    "\n",
    "By default, Sklearn train_test_split will make random partitions for the two subsets. However, you can also specify a random state for the operation.\n",
    "\n",
    "Parameter random_state: The default mode performs a random split using np.random. Alternatively, you can add an integer using an exact number.\n",
    "\n",
    "train_test_split splits arrays or matrices into random train and test subsets. That means that everytime you run it without specifying random_state, you will get a different result, this is expected behavior. \n",
    "\n",
    "On the other hand if you use random_state=some_number, then you can guarantee that the output of Run 1 will be equal to the output of Run 2, i.e. your split will be always the same. It doesn't matter what the actual random_state number is 42, 0, 21, ... The important thing is that everytime you use 42, you will always get the same output the first time you make the split. This is useful if you want reproducible results, for example in the documentation, so that everybody can consistently see the same numbers when they run the examples. In practice I would say, you should set the random_state to some fixed number while you test stuff, but then remove it in production if you really need a random (and not a fixed) split.\n",
    "\n",
    "Reference:\n",
    "\n",
    "+ https://scikit-learn.org/stable/modules/generated/sklearn.model_selection.train_test_split.html\n",
    "+ https://stackoverflow.com/questions/28064634/random-state-pseudo-random-number-in-scikit-learn\n",
    "+ https://machinelearningmastery.com/how-to-generate-random-numbers-in-python/"
   ]
  },
  {
   "cell_type": "code",
   "execution_count": 12,
   "metadata": {},
   "outputs": [
    {
     "name": "stdout",
     "output_type": "stream",
     "text": [
      "[2022-09-12 13:28:44 CDT]   DEBUG: ################################################################ \n",
      "[2022-09-12 13:28:44 CDT]   DEBUG:  Original dataset shape \n",
      "[2022-09-12 13:28:44 CDT]   DEBUG: ################################################################ \n",
      "[2022-09-12 13:28:44 CDT]   DEBUG: x shape: (54225, 35) \n",
      "[2022-09-12 13:28:44 CDT]   DEBUG: y shape: (54225, 1) \n",
      "[2022-09-12 13:28:44 CDT]   DEBUG:  \n",
      "[2022-09-12 13:28:44 CDT]   DEBUG: ...assigning 20% to the test distribution. \n",
      "[2022-09-12 13:28:44 CDT]   DEBUG: ...assigning 17 to the random sampling of data. \n",
      "[2022-09-12 13:28:44 CDT]   DEBUG: ...building train / test datasets using sklearn.train_test_split(). \n",
      "[2022-09-12 13:28:44 CDT]   DEBUG:  \n",
      "[2022-09-12 13:28:44 CDT]   DEBUG: ################################################################ \n",
      "[2022-09-12 13:28:44 CDT]   DEBUG:  Original dataset shape \n",
      "[2022-09-12 13:28:44 CDT]   DEBUG: ################################################################ \n",
      "[2022-09-12 13:28:44 CDT]   DEBUG: x Train: (43380, 35) \n",
      "[2022-09-12 13:28:44 CDT]   DEBUG: x Test: (10845, 35) \n",
      "[2022-09-12 13:28:44 CDT]   DEBUG: ################################################################ \n",
      "[2022-09-12 13:28:44 CDT]   DEBUG: y Train: (43380, 1) \n",
      "[2022-09-12 13:28:44 CDT]   DEBUG: y Test: (10845, 1) \n",
      "[2022-09-12 13:28:44 CDT]   DEBUG:  \n"
     ]
    }
   ],
   "source": [
    "#######################################################################\n",
    "#TEST/TRAIN breakout\n",
    "#x represents the inputs and y represents the outputs, -1 indexing is last element\n",
    "#######################################################################\n",
    "debug.msg_debug(\"################################################################\")\n",
    "debug.msg_debug(\" Original dataset shape\")\n",
    "debug.msg_debug(\"################################################################\")\n",
    "debug.msg_debug('x shape: ' + str(x[-1].shape) )\n",
    "debug.msg_debug('y shape: ' + str(y[-1].shape) )\n",
    "debug.msg_debug(\"\")\n",
    "\n",
    "#######################################################################\n",
    "#test size is 20%, typical distributions are 80/20 but make sure you randomize the distribution\n",
    "#DO NOT take say the first 1k rows of data.\n",
    "#######################################################################\n",
    "test_size=TEST_DISTRIBUTION_PERCENT\n",
    "debug.msg_debug(\"...assigning \" + str(int(test_size * 100)) + \"% to the test distribution.\")\n",
    "\n",
    "#######################################################################\n",
    "#Create a random state variable to support selecting data form training / test purposes.  Note that you want to always \n",
    "#######################################################################\n",
    "random_state = randint(0, 100)\n",
    "debug.msg_debug(\"...assigning \" + str(random_state) + \" to the random sampling of data.\")\n",
    "\n",
    "#######################################################################\n",
    "#just making arrays to help make scaling up easier for the future, truth is an array of numpy's is not required\n",
    "#######################################################################\n",
    "x_train=[]\n",
    "x_test=[]\n",
    "y_train=[]\n",
    "y_test=[]\n",
    "\n",
    "#######################################################################\n",
    "#Use the Sklearn API to break out the data.\n",
    "#######################################################################\n",
    "debug.msg_debug(\"...building train / test datasets using sklearn.train_test_split().\")\n",
    "x_single_train, x_single_test, y_single_train, y_single_test = train_test_split(x[-1], y[-1], test_size=test_size, random_state=random_state)\n",
    "x_train.append(x_single_train)\n",
    "x_test.append(x_single_test)\n",
    "y_train.append(y_single_train)\n",
    "y_test.append(y_single_test)\n",
    "\n",
    "#######################################################################\n",
    "#Inspect the results\n",
    "#######################################################################\n",
    "debug.msg_debug(\"\")\n",
    "debug.msg_debug(\"################################################################\")\n",
    "debug.msg_debug(\" Original dataset shape\")\n",
    "debug.msg_debug(\"################################################################\")\n",
    "debug.msg_debug('x Train: ' + str(x_train[-1].shape) )\n",
    "debug.msg_debug('x Test: ' + str(x_test[-1].shape) )\n",
    "debug.msg_debug(\"################################################################\")\n",
    "debug.msg_debug('y Train: ' + str(y_train[-1].shape) )\n",
    "debug.msg_debug('y Test: ' + str(y_test[-1].shape) )\n",
    "debug.msg_debug(\"\")\n",
    "\n",
    "#does the shape of original X & Y equal the shape (# of vars) of the x/y_train/test arrays?"
   ]
  },
  {
   "cell_type": "markdown",
   "metadata": {},
   "source": [
    "# Step 2 - Build the Model\n",
    "### Sequential model\n",
    "\n",
    "In Keras, you assemble layers to build models. A model is (usually) a graph of layers. The most common type of model is a stack of layers: the tf.keras.Sequential model.\n",
    "\n",
    "There are many tf.keras.layers available. Most of them share some common constructor arguments:\n",
    "\n",
    "    activation: Set the activation function for the layer. This parameter is specified by the name of a built-in function or as a callable object. By default, no activation is applied. The activation function is what \"activates\" moving the probabilities forward to the next neuron.  Some sample activation functions are:\n",
    "    \n",
    "    + Linear\n",
    "    + ELU\n",
    "    + ReLU\n",
    "    + LeakyReLU\n",
    "    + Sigmoid\n",
    "    + Tanh\n",
    "    + Softmax\n",
    "    \n",
    "    kernel_initializer and bias_initializer: The initialization schemes that create the layer's weights (kernel and bias). This parameter is a name or a callable object. The kernel defaults to the \"Glorot uniform\" initializer, and the bias defaults to zeros.\n",
    "    kernel_regularizer and bias_regularizer: The regularization schemes that apply the layer's weights (kernel and bias), such as L1 or L2 regularization. By default, no regularization is applied.\n",
    "\n",
    "\n",
    "To build a simple, fully-connected network (i.e. multi-layer perceptron):"
   ]
  },
  {
   "cell_type": "code",
   "execution_count": 13,
   "metadata": {},
   "outputs": [
    {
     "name": "stdout",
     "output_type": "stream",
     "text": [
      "[2022-09-12 13:28:44 CDT]   DEBUG:  ...clear all previous sessions of model training. \n",
      "[2022-09-12 13:28:44 CDT]   DEBUG:  ...define and store a Sequential, deeply connected model. \n",
      "[2022-09-12 13:28:44 CDT]   DEBUG:  ...add the first (and in this case only) layer. \n",
      "[2022-09-12 13:28:44 CDT]   DEBUG:  ...input dimensions will be your \"inputs\" array which is size: 35 \n",
      "[2022-09-12 13:28:44 CDT]   DEBUG:  ...add the Output layer. \n",
      "[2022-09-12 13:28:44 CDT]   DEBUG:  ...y (outputs) have 1 number of columns, so you'll need that many neurons to \"hold\" the output. \n"
     ]
    }
   ],
   "source": [
    "#######################################################################\n",
    "# BUILD THE MODEL\n",
    "#######################################################################\n",
    "\n",
    "debug.msg_debug(\" ...clear all previous sessions of model training.\")\n",
    "clear_session()\n",
    "\n",
    "#######################################################################\n",
    "# Model storage (for scaling up to larger efforts)\n",
    "#######################################################################\n",
    "models=[]\n",
    "\n",
    "#######################################################################\n",
    "# Create model, Keras Sequential\n",
    "#######################################################################\n",
    "debug.msg_debug(\" ...define and store a Sequential, deeply connected model.\")\n",
    "models.append(tf.keras.Sequential())\n",
    "\n",
    "#######################################################################\n",
    "# Layer 1\n",
    "#######################################################################\n",
    "debug.msg_debug(\" ...add the first (and in this case only) layer.\")\n",
    "debug.msg_debug(\" ...input dimensions will be your \\\"inputs\\\" array which is size: \"+str(x[-1].columns.size))\n",
    "models[-1].add(Dense(MDL_1ST_LYR_NEURONS, input_dim=x[-1].columns.size, activation=MDL_1ST_LYR_ACTIVATION))\n",
    "    \n",
    "#######################################################################\n",
    "# Output Layer\n",
    "# your final layer should have neurons sufficient to capture the outputs you're trying to model, \n",
    "# if you have 3 output vars you'll need 3 neurons for the last dense layer\n",
    "#######################################################################\n",
    "debug.msg_debug(\" ...add the Output layer.\")\n",
    "debug.msg_debug(\" ...y (outputs) have {} number of columns, so you'll need that many neurons to \\\"hold\\\" the output.\".format(y[-1].columns.size))\n",
    "models[-1].add(Dense(y[-1].columns.size, activation=MDL_DENSE_ACTIVATION))"
   ]
  },
  {
   "cell_type": "markdown",
   "metadata": {},
   "source": [
    "## Step 2 Continued...Train and evaluate\n",
    "### Set up training\n",
    "\n",
    "After the model is constructed, configure its learning process by calling the compile method.\n",
    "\n",
    "tf.keras.Model.compile takes three important arguments:\n",
    "\n",
    "    + optimizer: This object specifies the training procedure. Pass it optimizer instances from the tf.keras.optimizers module, such as tf.keras.optimizers.Adam or tf.keras.optimizers.SGD. If you just want to use the default parameters, you can also specify optimizers via strings, such as 'adam' or 'sgd'.\n",
    "    + loss: The function to minimize during optimization. Common choices include mean square error (mse), categorical_crossentropy, and binary_crossentropy. Loss functions are specified by name or by passing a callable object from the tf.keras.losses module.\n",
    "    + metrics: Used to monitor training. These are string names or callables from the tf.keras.metrics module.\n",
    "\n",
    "Additionally, to make sure the model trains and evaluates eagerly, you can make sure to pass run_eagerly=True as a parameter to compile.\n",
    "\n"
   ]
  },
  {
   "cell_type": "code",
   "execution_count": 14,
   "metadata": {},
   "outputs": [
    {
     "name": "stdout",
     "output_type": "stream",
     "text": [
      "[2022-09-12 13:28:44 CDT]   DEBUG:  ...model compilation. \n",
      "[2022-09-12 13:28:44 CDT]   DEBUG:  ...loss function: mse \n",
      "[2022-09-12 13:28:44 CDT]   DEBUG:  .......optimizer: <tensorflow.python.keras.optimizer_v2.adam.Adam object at 0x7f5ea78391d0> \n",
      "[2022-09-12 13:28:44 CDT]   DEBUG:  .........metrics: accuracy \n",
      "[2022-09-12 13:28:45 CDT]   DEBUG:  \n",
      "[2022-09-12 13:28:45 CDT]   DEBUG:  ...look below for a summary of the model's structure. \n",
      "Model: \"sequential\"\n",
      "_________________________________________________________________\n",
      "Layer (type)                 Output Shape              Param #   \n",
      "=================================================================\n",
      "dense (Dense)                (None, 1024)              36864     \n",
      "_________________________________________________________________\n",
      "dense_1 (Dense)              (None, 1)                 1025      \n",
      "=================================================================\n",
      "Total params: 37,889\n",
      "Trainable params: 37,889\n",
      "Non-trainable params: 0\n",
      "_________________________________________________________________\n"
     ]
    }
   ],
   "source": [
    "#######################################################################\n",
    "# COMPILE MODEL\n",
    "#######################################################################\n",
    "\n",
    "# Configure a model for mean-squared error regression.\n",
    "#model.compile(optimizer=tf.keras.optimizers.Adam(0.01),\n",
    "#              loss='mse',       # mean squared error\n",
    "#              metrics=['mae'])  # mean absolute error\n",
    "\n",
    "# Configure a model for categorical classification.\n",
    "#model.compile(optimizer=tf.keras.optimizers.RMSprop(0.01),\n",
    "#              loss=tf.keras.losses.CategoricalCrossentropy(from_logits=True),\n",
    "#              metrics=['accuracy'])\n",
    "\n",
    "debug.msg_debug(' ...model compilation.')\n",
    "debug.msg_debug(' ...loss function: {}'.format(MDL_LOSS))\n",
    "debug.msg_debug(' .......optimizer: {}'.format(MDL_OPTIMIZER))\n",
    "debug.msg_debug(' .........metrics: {}'.format(MDL_METRICS))\n",
    "models[-1].compile(loss=MDL_LOSS, optimizer=MDL_OPTIMIZER, metrics=[MDL_METRICS])\n",
    "debug.msg_debug(\"\")\n",
    "debug.msg_debug(' ...look below for a summary of the model\\'s structure.')\n",
    "models[-1].summary()\n",
    "\n"
   ]
  },
  {
   "cell_type": "markdown",
   "metadata": {},
   "source": [
    "### Functions that help (greatly)"
   ]
  },
  {
   "cell_type": "code",
   "execution_count": 15,
   "metadata": {},
   "outputs": [
    {
     "name": "stdout",
     "output_type": "stream",
     "text": [
      "[2022-09-12 13:28:45 CDT]   DEBUG:  ...saving the current model to JSON. \n",
      "[2022-09-12 13:28:45 CDT]   DEBUG:  ...creating various callbacks. \n"
     ]
    }
   ],
   "source": [
    "#######################################################################\n",
    "# SUPPORT FUNCTIONS\n",
    "# A patience filter means you can stop the model at the most \"optimal\" time and save it (persist for reloading).\n",
    "#######################################################################\n",
    "class PrintDot(keras.callbacks.Callback):\n",
    "    def on_epoch_end(self, epoch, logs):\n",
    "        if epoch % 100 == 0: print('')\n",
    "        print('.', end='')\n",
    "\n",
    "debug.msg_debug(\" ...saving the current model to JSON.\")\n",
    "model_json = models[-1].to_json()\n",
    "model_name=\".\"+os.sep+\"tmp\\ML-000b\"\n",
    "with open(model_name+\".json\", \"w\") as json_file:\n",
    "    json_file.write(model_json)\n",
    "\n",
    "#######################################################################\n",
    "# Create model checkpoint\n",
    "# The patience parameter is the amount of epochs to check for improvement\n",
    "#######################################################################    \n",
    "debug.msg_debug(\" ...creating various callbacks.\")\n",
    "#stop when training is no longer improving\n",
    "early_stop =  tf.keras.callbacks.EarlyStopping(monitor='val_loss', mode='min')\n",
    "#save logs for tensorboard replay\n",
    "tensor_board= tf.keras.callbacks.TensorBoard(\n",
    "     log_dir='.'+os.sep+'logs',\n",
    "     histogram_freq=0,  # How often to log histogram visualizations\n",
    "     embeddings_freq=0,  # How often to log embedding visualizations\n",
    "     update_freq='epoch')  # How often to write logs (default: once per epoch)\n",
    "#save the model when val_loss gets activated\n",
    "model_save_name  = model_name +\".h5\"\n",
    "model_checkpoint = tf.keras.callbacks.ModelCheckpoint(filepath=model_save_name, monitor='val_loss', save_best_only=True)"
   ]
  },
  {
   "cell_type": "markdown",
   "metadata": {},
   "source": [
    "## Tensorboard\n",
    "\n",
    "What is it?\n",
    "\n",
    "A way to log model training progress and visual that progress (after training) in a very UI driven and powerful way.\n",
    "\n",
    "Create a callback that logs the data and then invoke the following:\n",
    "\n",
    "`tensorboard --logdir logs`\n",
    "\n",
    "But `tensorboard` isn't found!  Make sure you invoke `tensorboard` from an Anaconda enabled terminal.  Environment, Open Terminal, tensorboard command.\n",
    "\n",
    "Reference:\n",
    "\n",
    "+ https://www.tensorflow.org/tensorboard/get_started"
   ]
  },
  {
   "cell_type": "markdown",
   "metadata": {},
   "source": [
    "# Step 1 Continued...Actual Training"
   ]
  },
  {
   "cell_type": "code",
   "execution_count": 16,
   "metadata": {},
   "outputs": [
    {
     "name": "stdout",
     "output_type": "stream",
     "text": [
      "Train on 43380 samples, validate on 10845 samples\n",
      "Epoch 1/100\n",
      "  100/43380 [..............................] - ETA: 4:52 - loss: 0.0151 - accuracy: 0.0000e+00WARNING:tensorflow:Method (on_train_batch_end) is slow compared to the batch update (0.200754). Check your callbacks.\n",
      "  200/43380 [..............................] - ETA: 2:57 - loss: 0.0770 - accuracy: 0.0000e+00WARNING:tensorflow:Method (on_train_batch_end) is slow compared to the batch update (0.135800). Check your callbacks.\n",
      "41800/43380 [===========================>..] - ETA: 0s - loss: nan - accuracy: 0.0063\n",
      "43380/43380 [==============================] - 3s 59us/sample - loss: nan - accuracy: 0.0063 - val_loss: nan - val_accuracy: 0.0060\n"
     ]
    }
   ],
   "source": [
    "model_history=models[-1].fit(x_train[-1], y_train[-1], epochs=MDL_EPOCS, batch_size=MDL_BATCH_SZ,\n",
    "                             validation_data = (x_test[-1], y_test[-1]),\n",
    "                             callbacks=[early_stop, \n",
    "                                        PrintDot(), \n",
    "                                        model_checkpoint,\n",
    "                                        tensor_board\n",
    "                                       ]\n",
    "                            )"
   ]
  },
  {
   "cell_type": "code",
   "execution_count": 17,
   "metadata": {},
   "outputs": [
    {
     "name": "stdout",
     "output_type": "stream",
     "text": [
      "\n",
      "history dict: {'loss': [nan], 'accuracy': [0.006316275], 'val_loss': [nan], 'val_accuracy': [0.0059935455]}\n"
     ]
    }
   ],
   "source": [
    "print('\\nhistory dict:', model_history.history)"
   ]
  },
  {
   "cell_type": "markdown",
   "metadata": {},
   "source": [
    "## Step 2 Continued...Look at Model Performance"
   ]
  },
  {
   "cell_type": "code",
   "execution_count": 18,
   "metadata": {},
   "outputs": [
    {
     "data": {
      "image/png": "[encoded data removed]",
      "text/plain": [
       "<Figure size 432x288 with 1 Axes>"
      ]
     },
     "metadata": {
      "needs_background": "light"
     },
     "output_type": "display_data"
    },
    {
     "data": {
      "image/png": "[encoded data removed]",
      "text/plain": [
       "<Figure size 432x288 with 1 Axes>"
      ]
     },
     "metadata": {
      "needs_background": "light"
     },
     "output_type": "display_data"
    }
   ],
   "source": [
    "# Plot training & validation accuracy values\n",
    "plt.plot(model_history.history['accuracy'])\n",
    "plt.plot(model_history.history['val_accuracy'])\n",
    "plt.title('Model accuracy')\n",
    "plt.ylabel('Accuracy')\n",
    "plt.xlabel('Epoch')\n",
    "plt.legend(['Train', 'Test'], loc='upper left')\n",
    "plt.show()\n",
    "\n",
    "# Plot training & validation loss values\n",
    "plt.plot(model_history.history['loss'])\n",
    "plt.plot(model_history.history['val_loss'])\n",
    "plt.title('Model loss')\n",
    "plt.ylabel('Loss')\n",
    "plt.xlabel('Epoch')\n",
    "plt.legend(['Train', 'Test'], loc='upper left')\n",
    "plt.show()"
   ]
  },
  {
   "cell_type": "markdown",
   "metadata": {},
   "source": [
    "## Step 3 - Prediction"
   ]
  },
  {
   "cell_type": "code",
   "execution_count": 19,
   "metadata": {},
   "outputs": [
    {
     "name": "stdout",
     "output_type": "stream",
     "text": [
      "[2022-09-12 13:28:48 CDT]   DEBUG: ################################################################ \n",
      "[2022-09-12 13:28:48 CDT]   DEBUG:  Make a prediction and store the results. \n",
      "[2022-09-12 13:28:48 CDT]   DEBUG: ################################################################ \n",
      "[2022-09-12 13:28:48 CDT]   DEBUG:  \n",
      "[2022-09-12 13:28:48 CDT]   DEBUG:  ...model.predict() \n"
     ]
    }
   ],
   "source": [
    "debug.msg_debug(\"################################################################\")\n",
    "debug.msg_debug(\" Make a prediction and store the results.\")\n",
    "debug.msg_debug(\"################################################################\")\n",
    "debug.msg_debug(\"\")\n",
    "#storage for predicted output\n",
    "y_hat=[]\n",
    "\n",
    "#given the 20% reserved, apply those data points to the model to get a prediction for Y (outputs)\n",
    "debug.msg_debug(\" ...model.predict()\")\n",
    "y_hat.append(models[-1].predict(x_test[-1]))"
   ]
  },
  {
   "cell_type": "code",
   "execution_count": 20,
   "metadata": {},
   "outputs": [
    {
     "name": "stdout",
     "output_type": "stream",
     "text": [
      "[2022-09-12 13:28:49 CDT]   DEBUG:  \n",
      "[2022-09-12 13:28:49 CDT]   DEBUG: ################################################################ \n",
      "[2022-09-12 13:28:49 CDT]   DEBUG:  Data Peek \n",
      "[2022-09-12 13:28:49 CDT]   DEBUG: ################################################################ \n",
      "[2022-09-12 13:28:49 CDT]   DEBUG: ...your y_hat (output prediction) should have the same number of columns as your y_test (output) \n",
      "[2022-09-12 13:28:49 CDT]   DEBUG:           y_hat shape: (10845, 1) \n",
      "[2022-09-12 13:28:49 CDT]   DEBUG:          y_test shape: (10845, 1) \n",
      "[2022-09-12 13:28:49 CDT]   DEBUG:          x_test shape: (10845, 35) \n",
      "[2022-09-12 13:28:49 CDT]   DEBUG: ...your y and x arrays (columns) should equal to the total domain of variables: \n",
      "[2022-09-12 13:28:49 CDT]   DEBUG: variable_domain shape: 36 \n"
     ]
    }
   ],
   "source": [
    "debug.msg_debug(\"\")\n",
    "debug.msg_debug(\"################################################################\")\n",
    "debug.msg_debug(\" Data Peek\")\n",
    "debug.msg_debug(\"################################################################\")\n",
    "debug.msg_debug(\"...your y_hat (output prediction) should have the same number of columns as your y_test (output)\")\n",
    "debug.msg_debug(\"          y_hat shape: \" + str(y_hat[-1].shape))\n",
    "debug.msg_debug(\"         y_test shape: \" + str(y_test[-1].shape))\n",
    "debug.msg_debug(\"         x_test shape: \" + str(x_test[-1].shape))\n",
    "debug.msg_debug(\"...your y and x arrays (columns) should equal to the total domain of variables:\")\n",
    "debug.msg_debug(\"variable_domain shape: \" + str(len(ACS_SCALED_DOMAIN)))"
   ]
  },
  {
   "cell_type": "code",
   "execution_count": 21,
   "metadata": {},
   "outputs": [
    {
     "name": "stdout",
     "output_type": "stream",
     "text": [
      "[2022-09-12 13:28:49 CDT]   DEBUG: ...x_test shape and data \n",
      "[2022-09-12 13:28:49 CDT]   DEBUG: (10845, 35) \n",
      "[2022-09-12 13:28:49 CDT]   DEBUG:        Temp(C)  Cond(S/m)  Sal(PSU)  a650__  a676__  a715__  c510__  c532__  \\\n",
      "14580   0.9657     0.9093    0.8871  0.0313  0.0339  0.1484  0.0761  0.0695   \n",
      "48776   0.8129     0.8153    0.8139  0.1290  0.1434  0.2352  0.2084  0.1983   \n",
      "38845   0.9021     0.9997    0.9997  0.4255  0.4355  0.5040  0.5346  0.5200   \n",
      "41874   0.9117     0.8255    0.8068  0.2109  0.2261  0.3067  0.3055  0.2939   \n",
      "19898   0.9854     0.8970    0.8699  0.0213  0.0262  0.1385  0.0525  0.0474   \n",
      "...        ...        ...       ...     ...     ...     ...     ...     ...   \n",
      "41598   0.9115     0.8267    0.8082  0.2209  0.2389  0.3109  0.3234  0.3116   \n",
      "2793    0.8829     0.7638    0.7455  0.0227  0.0202  0.1392  0.0623  0.0556   \n",
      "17016   0.9786     0.8982    0.8726  0.0218  0.0223  0.1436  0.0575  0.0516   \n",
      "35850   0.9089     0.8283    0.8104  0.5901  0.5985  0.6492  0.8146  0.7964   \n",
      "2239    0.8864     0.7690    0.7505  0.0168  0.0156  0.1354  0.0541  0.0477   \n",
      "\n",
      "       c555__  a412__  ...  Beta(532)  BetaP(532)  bbP(532)  bb(532)  \\\n",
      "14580  0.0661  0.0350  ...     0.1342      0.1342    0.1342   0.1342   \n",
      "48776  0.1916  0.1438  ...     0.2652      0.2652    0.2652   0.2652   \n",
      "38845  0.5142  0.3744  ...     0.8932      0.8932    0.8932   0.8932   \n",
      "41874  0.2859  0.2158  ...     0.4334      0.4334    0.4334   0.4334   \n",
      "19898  0.0447  0.0283  ...     0.1121      0.1121    0.1121   0.1121   \n",
      "...       ...     ...  ...        ...         ...       ...      ...   \n",
      "41598  0.3046  0.2238  ...     0.4230      0.4230    0.4230   0.4230   \n",
      "2793   0.0522  0.0434  ...     0.1126      0.1126    0.1126   0.1126   \n",
      "17016  0.0482  0.0316  ...     0.1150      0.1150    0.1150   0.1150   \n",
      "35850  0.7800  0.5932  ...     1.0000      1.0000    1.0000   1.0000   \n",
      "2239   0.0442  0.0342  ...     0.1136      0.1136    0.1136   0.1136   \n",
      "\n",
      "       Beta(650)  BetaP(650)  bbP(650)  bb(650)  CHL(ug/l)  PE(ppb)  \n",
      "14580     0.5739      0.5739    0.5739   0.5739     0.4340   0.4914  \n",
      "48776     1.0000      1.0000    1.0000   1.0000     0.4528   0.6914  \n",
      "38845     1.0000      1.0000    1.0000   1.0000     0.5660   0.7257  \n",
      "41874     1.0000      1.0000    1.0000   1.0000     0.5472   0.7886  \n",
      "19898     0.4990      0.4990    0.4990   0.4990     0.3962   0.4657  \n",
      "...          ...         ...       ...      ...        ...      ...  \n",
      "41598     1.0000      1.0000    1.0000   1.0000     0.6038   0.8000  \n",
      "2793      0.4386      0.4386    0.4386   0.4386     0.4717   0.4200  \n",
      "17016     0.4709      0.4708    0.4709   0.4709     0.4906   0.4400  \n",
      "35850     1.0000      1.0000    1.0000   1.0000     0.6038   0.9114  \n",
      "2239      0.4481      0.4481    0.4481   0.4481     0.5094   0.4400  \n",
      "\n",
      "[10845 rows x 35 columns] \n",
      "[2022-09-12 13:28:49 CDT]   DEBUG:  \n",
      "[2022-09-12 13:28:49 CDT]   DEBUG: ...y_hat (prediction) shape and data \n",
      "[2022-09-12 13:28:49 CDT]   DEBUG: (10845, 1) \n",
      "[2022-09-12 13:28:49 CDT]   DEBUG: [[nan]\n",
      " [nan]\n",
      " [nan]\n",
      " ...\n",
      " [nan]\n",
      " [nan]\n",
      " [nan]] \n",
      "[2022-09-12 13:28:49 CDT]   DEBUG:  \n",
      "[2022-09-12 13:28:49 CDT]   DEBUG: ...x_test and y_hat arrays should have different columns but the same number of rows (records) \n"
     ]
    }
   ],
   "source": [
    "debug.msg_debug(\"...x_test shape and data\")\n",
    "#a=x_test[-1][:,:]\n",
    "a=x_test[-1]\n",
    "debug.msg_debug(str(a.shape))\n",
    "debug.msg_debug(a)\n",
    "debug.msg_debug(\"\")\n",
    "\n",
    "debug.msg_debug(\"...y_hat (prediction) shape and data\")\n",
    "a=y_hat[-1]\n",
    "debug.msg_debug(str(a.shape))\n",
    "debug.msg_debug(a)\n",
    "debug.msg_debug(\"\")\n",
    "\n",
    "debug.msg_debug(\"...x_test and y_hat arrays should have different columns but the same number of rows (records)\")"
   ]
  },
  {
   "cell_type": "markdown",
   "metadata": {},
   "source": [
    "## But why are the numbers so weird?\n",
    "\n",
    "Remember that you scaled the data between 1 and 0 which means your prediction is scaled at the same level.\n",
    "\n",
    "We now need to set the values back to what they were along with the prediction."
   ]
  },
  {
   "cell_type": "code",
   "execution_count": 22,
   "metadata": {},
   "outputs": [],
   "source": [
    "#######################################################################\n",
    "# Invert the scaling you did previously\n",
    "# inverse the scaling so you get meaningful numbers back from your predicted data\n",
    "#######################################################################   \n",
    "\n",
    "#df = pd.DataFrame(scaler.inverse_transform(np.column_stack((x_test[:,:2], y_hat[:,:2], x_test[:,2], y_hat[:,2:]))),columns=['lat', 'lon', 'SSH', 'Salinity', 'Temperature', 'U3D', 'V3D', 'sphy', 'diatoms', 'mezoo', 'mizoo'])\n",
    "#df_truth = pd.DataFrame(scaler.inverse_transform(np.column_stack((x_test[:,:2], y_test[:,:2], x_test[:,2], y_test[:,2:]))),columns=['lat', 'lon', 'SSH', 'Salinity', 'Temperature', 'U3D', 'V3D', 'sphy', 'diatoms', 'mezoo', 'mizoo'])\n",
    "\n",
    "#break the data out in calculated (predicted) and truth (actual values), this will make comparison wrt accuracy easier\n",
    "df_calc=[]\n",
    "df_truth=[]\n",
    "\n",
    "#Stack the columns side by side between the two datasets, then using the same scaler perform an inverse of the transformation\n",
    "#that set everything between 0 and 1.\n",
    "#df_calc.append (pd.DataFrame(scaler.inverse_transform(np.column_stack((x_test[-1][:,:], y_hat[-1][:,:]))),\n",
    "#                  columns=ACS_SCALED_DOMAIN))\n",
    "df_calc.append (pd.DataFrame(scaler.inverse_transform(np.column_stack((x_test[-1], y_hat[-1]))),\n",
    "                  columns=ACS_SCALED_DOMAIN))\n",
    "\n",
    "#df_truth.append(pd.DataFrame(scaler.inverse_transform(np.column_stack((x_test[-1][:,:], y_test[-1][:,:]))),\n",
    "#                  columns=ACS_SCALED_DOMAIN))\n",
    "df_truth.append (pd.DataFrame(scaler.inverse_transform(np.column_stack((x_test[-1], y_test[-1]))),\n",
    "                  columns=ACS_SCALED_DOMAIN))\n"
   ]
  },
  {
   "cell_type": "code",
   "execution_count": 23,
   "metadata": {},
   "outputs": [
    {
     "data": {
      "text/html": [
       "<div>\n",
       "<style scoped>\n",
       "    .dataframe tbody tr th:only-of-type {\n",
       "        vertical-align: middle;\n",
       "    }\n",
       "\n",
       "    .dataframe tbody tr th {\n",
       "        vertical-align: top;\n",
       "    }\n",
       "\n",
       "    .dataframe thead th {\n",
       "        text-align: right;\n",
       "    }\n",
       "</style>\n",
       "<table border=\"1\" class=\"dataframe\">\n",
       "  <thead>\n",
       "    <tr style=\"text-align: right;\">\n",
       "      <th></th>\n",
       "      <th>Temp(C)</th>\n",
       "      <th>Cond(S/m)</th>\n",
       "      <th>Sal(PSU)</th>\n",
       "      <th>a650__</th>\n",
       "      <th>a676__</th>\n",
       "      <th>a715__</th>\n",
       "      <th>c510__</th>\n",
       "      <th>c532__</th>\n",
       "      <th>c555__</th>\n",
       "      <th>a412__</th>\n",
       "      <th>...</th>\n",
       "      <th>BetaP(532)</th>\n",
       "      <th>bbP(532)</th>\n",
       "      <th>bb(532)</th>\n",
       "      <th>Beta(650)</th>\n",
       "      <th>BetaP(650)</th>\n",
       "      <th>bbP(650)</th>\n",
       "      <th>bb(650)</th>\n",
       "      <th>CHL(ug/l)</th>\n",
       "      <th>PE(ppb)</th>\n",
       "      <th>CDOM(ppb)</th>\n",
       "    </tr>\n",
       "  </thead>\n",
       "  <tbody>\n",
       "    <tr>\n",
       "      <th>0</th>\n",
       "      <td>21.0271</td>\n",
       "      <td>3.6385</td>\n",
       "      <td>25.1350</td>\n",
       "      <td>0.5301</td>\n",
       "      <td>0.6694</td>\n",
       "      <td>1.1268</td>\n",
       "      <td>4.2549</td>\n",
       "      <td>4.0372</td>\n",
       "      <td>3.8747</td>\n",
       "      <td>1.4695</td>\n",
       "      <td>...</td>\n",
       "      <td>0.0076</td>\n",
       "      <td>0.0524</td>\n",
       "      <td>0.0536</td>\n",
       "      <td>0.0076</td>\n",
       "      <td>0.0076</td>\n",
       "      <td>0.0524</td>\n",
       "      <td>0.0529</td>\n",
       "      <td>0.0000</td>\n",
       "      <td>7.6475</td>\n",
       "      <td>14.0000</td>\n",
       "    </tr>\n",
       "    <tr>\n",
       "      <th>1</th>\n",
       "      <td>19.5549</td>\n",
       "      <td>3.2630</td>\n",
       "      <td>23.0676</td>\n",
       "      <td>0.7606</td>\n",
       "      <td>0.9093</td>\n",
       "      <td>1.2960</td>\n",
       "      <td>9.1136</td>\n",
       "      <td>8.7391</td>\n",
       "      <td>8.3878</td>\n",
       "      <td>2.5182</td>\n",
       "      <td>...</td>\n",
       "      <td>0.0151</td>\n",
       "      <td>0.1047</td>\n",
       "      <td>0.1058</td>\n",
       "      <td>0.0134</td>\n",
       "      <td>0.0133</td>\n",
       "      <td>0.0919</td>\n",
       "      <td>0.0924</td>\n",
       "      <td>0.0130</td>\n",
       "      <td>10.7065</td>\n",
       "      <td>15.5000</td>\n",
       "    </tr>\n",
       "    <tr>\n",
       "      <th>2</th>\n",
       "      <td>20.4138</td>\n",
       "      <td>3.9992</td>\n",
       "      <td>28.3198</td>\n",
       "      <td>1.4599</td>\n",
       "      <td>1.5494</td>\n",
       "      <td>1.8203</td>\n",
       "      <td>21.1010</td>\n",
       "      <td>20.4857</td>\n",
       "      <td>19.9853</td>\n",
       "      <td>4.7426</td>\n",
       "      <td>...</td>\n",
       "      <td>0.0514</td>\n",
       "      <td>0.3551</td>\n",
       "      <td>0.3562</td>\n",
       "      <td>0.0134</td>\n",
       "      <td>0.0133</td>\n",
       "      <td>0.0919</td>\n",
       "      <td>0.0924</td>\n",
       "      <td>0.0910</td>\n",
       "      <td>11.2309</td>\n",
       "      <td>16.7500</td>\n",
       "    </tr>\n",
       "    <tr>\n",
       "      <th>3</th>\n",
       "      <td>20.5067</td>\n",
       "      <td>3.3037</td>\n",
       "      <td>22.8654</td>\n",
       "      <td>0.9536</td>\n",
       "      <td>1.0904</td>\n",
       "      <td>1.4356</td>\n",
       "      <td>12.6822</td>\n",
       "      <td>12.2320</td>\n",
       "      <td>11.7781</td>\n",
       "      <td>3.2128</td>\n",
       "      <td>...</td>\n",
       "      <td>0.0248</td>\n",
       "      <td>0.1717</td>\n",
       "      <td>0.1729</td>\n",
       "      <td>0.0134</td>\n",
       "      <td>0.0133</td>\n",
       "      <td>0.0919</td>\n",
       "      <td>0.0924</td>\n",
       "      <td>0.0780</td>\n",
       "      <td>12.1923</td>\n",
       "      <td>18.2500</td>\n",
       "    </tr>\n",
       "    <tr>\n",
       "      <th>4</th>\n",
       "      <td>21.2167</td>\n",
       "      <td>3.5893</td>\n",
       "      <td>24.6497</td>\n",
       "      <td>0.5065</td>\n",
       "      <td>0.6526</td>\n",
       "      <td>1.1074</td>\n",
       "      <td>3.3851</td>\n",
       "      <td>3.2328</td>\n",
       "      <td>3.1050</td>\n",
       "      <td>1.4047</td>\n",
       "      <td>...</td>\n",
       "      <td>0.0063</td>\n",
       "      <td>0.0436</td>\n",
       "      <td>0.0448</td>\n",
       "      <td>0.0066</td>\n",
       "      <td>0.0066</td>\n",
       "      <td>0.0455</td>\n",
       "      <td>0.0460</td>\n",
       "      <td>-0.0260</td>\n",
       "      <td>7.2542</td>\n",
       "      <td>11.7500</td>\n",
       "    </tr>\n",
       "    <tr>\n",
       "      <th>...</th>\n",
       "      <td>...</td>\n",
       "      <td>...</td>\n",
       "      <td>...</td>\n",
       "      <td>...</td>\n",
       "      <td>...</td>\n",
       "      <td>...</td>\n",
       "      <td>...</td>\n",
       "      <td>...</td>\n",
       "      <td>...</td>\n",
       "      <td>...</td>\n",
       "      <td>...</td>\n",
       "      <td>...</td>\n",
       "      <td>...</td>\n",
       "      <td>...</td>\n",
       "      <td>...</td>\n",
       "      <td>...</td>\n",
       "      <td>...</td>\n",
       "      <td>...</td>\n",
       "      <td>...</td>\n",
       "      <td>...</td>\n",
       "      <td>...</td>\n",
       "    </tr>\n",
       "    <tr>\n",
       "      <th>10840</th>\n",
       "      <td>20.5050</td>\n",
       "      <td>3.3088</td>\n",
       "      <td>22.9055</td>\n",
       "      <td>0.9772</td>\n",
       "      <td>1.1185</td>\n",
       "      <td>1.4437</td>\n",
       "      <td>13.3423</td>\n",
       "      <td>12.8756</td>\n",
       "      <td>12.4497</td>\n",
       "      <td>3.2900</td>\n",
       "      <td>...</td>\n",
       "      <td>0.0242</td>\n",
       "      <td>0.1676</td>\n",
       "      <td>0.1687</td>\n",
       "      <td>0.0134</td>\n",
       "      <td>0.0133</td>\n",
       "      <td>0.0919</td>\n",
       "      <td>0.0924</td>\n",
       "      <td>0.1170</td>\n",
       "      <td>12.3671</td>\n",
       "      <td>18.2500</td>\n",
       "    </tr>\n",
       "    <tr>\n",
       "      <th>10841</th>\n",
       "      <td>20.2290</td>\n",
       "      <td>3.0576</td>\n",
       "      <td>21.1318</td>\n",
       "      <td>0.5099</td>\n",
       "      <td>0.6395</td>\n",
       "      <td>1.1088</td>\n",
       "      <td>3.7457</td>\n",
       "      <td>3.5293</td>\n",
       "      <td>3.3745</td>\n",
       "      <td>1.5501</td>\n",
       "      <td>...</td>\n",
       "      <td>0.0063</td>\n",
       "      <td>0.0438</td>\n",
       "      <td>0.0449</td>\n",
       "      <td>0.0058</td>\n",
       "      <td>0.0058</td>\n",
       "      <td>0.0399</td>\n",
       "      <td>0.0404</td>\n",
       "      <td>0.0260</td>\n",
       "      <td>6.5550</td>\n",
       "      <td>12.5000</td>\n",
       "    </tr>\n",
       "    <tr>\n",
       "      <th>10842</th>\n",
       "      <td>21.1513</td>\n",
       "      <td>3.5943</td>\n",
       "      <td>24.7249</td>\n",
       "      <td>0.5076</td>\n",
       "      <td>0.6440</td>\n",
       "      <td>1.1173</td>\n",
       "      <td>3.5697</td>\n",
       "      <td>3.3829</td>\n",
       "      <td>3.2308</td>\n",
       "      <td>1.4361</td>\n",
       "      <td>...</td>\n",
       "      <td>0.0065</td>\n",
       "      <td>0.0448</td>\n",
       "      <td>0.0459</td>\n",
       "      <td>0.0063</td>\n",
       "      <td>0.0062</td>\n",
       "      <td>0.0429</td>\n",
       "      <td>0.0433</td>\n",
       "      <td>0.0390</td>\n",
       "      <td>6.8609</td>\n",
       "      <td>12.0000</td>\n",
       "    </tr>\n",
       "    <tr>\n",
       "      <th>10843</th>\n",
       "      <td>20.4799</td>\n",
       "      <td>3.3151</td>\n",
       "      <td>22.9675</td>\n",
       "      <td>1.8480</td>\n",
       "      <td>1.9063</td>\n",
       "      <td>2.1036</td>\n",
       "      <td>31.3936</td>\n",
       "      <td>30.5746</td>\n",
       "      <td>29.5433</td>\n",
       "      <td>6.8530</td>\n",
       "      <td>...</td>\n",
       "      <td>0.0575</td>\n",
       "      <td>0.3977</td>\n",
       "      <td>0.3988</td>\n",
       "      <td>0.0134</td>\n",
       "      <td>0.0133</td>\n",
       "      <td>0.0919</td>\n",
       "      <td>0.0924</td>\n",
       "      <td>0.1170</td>\n",
       "      <td>14.0714</td>\n",
       "      <td>27.5000</td>\n",
       "    </tr>\n",
       "    <tr>\n",
       "      <th>10844</th>\n",
       "      <td>20.2625</td>\n",
       "      <td>3.0783</td>\n",
       "      <td>21.2724</td>\n",
       "      <td>0.4960</td>\n",
       "      <td>0.6295</td>\n",
       "      <td>1.1014</td>\n",
       "      <td>3.4429</td>\n",
       "      <td>3.2421</td>\n",
       "      <td>3.0880</td>\n",
       "      <td>1.4616</td>\n",
       "      <td>...</td>\n",
       "      <td>0.0064</td>\n",
       "      <td>0.0442</td>\n",
       "      <td>0.0453</td>\n",
       "      <td>0.0060</td>\n",
       "      <td>0.0059</td>\n",
       "      <td>0.0408</td>\n",
       "      <td>0.0412</td>\n",
       "      <td>0.0520</td>\n",
       "      <td>6.8609</td>\n",
       "      <td>13.5000</td>\n",
       "    </tr>\n",
       "  </tbody>\n",
       "</table>\n",
       "<p>10845 rows × 36 columns</p>\n",
       "</div>"
      ],
      "text/plain": [
       "       Temp(C)  Cond(S/m)  Sal(PSU)  a650__  a676__  a715__  c510__  c532__  \\\n",
       "0      21.0271     3.6385   25.1350  0.5301  0.6694  1.1268  4.2549  4.0372   \n",
       "1      19.5549     3.2630   23.0676  0.7606  0.9093  1.2960  9.1136  8.7391   \n",
       "2      20.4138     3.9992   28.3198  1.4599  1.5494  1.8203 21.1010 20.4857   \n",
       "3      20.5067     3.3037   22.8654  0.9536  1.0904  1.4356 12.6822 12.2320   \n",
       "4      21.2167     3.5893   24.6497  0.5065  0.6526  1.1074  3.3851  3.2328   \n",
       "...        ...        ...       ...     ...     ...     ...     ...     ...   \n",
       "10840  20.5050     3.3088   22.9055  0.9772  1.1185  1.4437 13.3423 12.8756   \n",
       "10841  20.2290     3.0576   21.1318  0.5099  0.6395  1.1088  3.7457  3.5293   \n",
       "10842  21.1513     3.5943   24.7249  0.5076  0.6440  1.1173  3.5697  3.3829   \n",
       "10843  20.4799     3.3151   22.9675  1.8480  1.9063  2.1036 31.3936 30.5746   \n",
       "10844  20.2625     3.0783   21.2724  0.4960  0.6295  1.1014  3.4429  3.2421   \n",
       "\n",
       "       c555__  a412__  ...  BetaP(532)  bbP(532)  bb(532)  Beta(650)  \\\n",
       "0      3.8747  1.4695  ...      0.0076    0.0524   0.0536     0.0076   \n",
       "1      8.3878  2.5182  ...      0.0151    0.1047   0.1058     0.0134   \n",
       "2     19.9853  4.7426  ...      0.0514    0.3551   0.3562     0.0134   \n",
       "3     11.7781  3.2128  ...      0.0248    0.1717   0.1729     0.0134   \n",
       "4      3.1050  1.4047  ...      0.0063    0.0436   0.0448     0.0066   \n",
       "...       ...     ...  ...         ...       ...      ...        ...   \n",
       "10840 12.4497  3.2900  ...      0.0242    0.1676   0.1687     0.0134   \n",
       "10841  3.3745  1.5501  ...      0.0063    0.0438   0.0449     0.0058   \n",
       "10842  3.2308  1.4361  ...      0.0065    0.0448   0.0459     0.0063   \n",
       "10843 29.5433  6.8530  ...      0.0575    0.3977   0.3988     0.0134   \n",
       "10844  3.0880  1.4616  ...      0.0064    0.0442   0.0453     0.0060   \n",
       "\n",
       "       BetaP(650)  bbP(650)  bb(650)  CHL(ug/l)  PE(ppb)  CDOM(ppb)  \n",
       "0          0.0076    0.0524   0.0529     0.0000   7.6475    14.0000  \n",
       "1          0.0133    0.0919   0.0924     0.0130  10.7065    15.5000  \n",
       "2          0.0133    0.0919   0.0924     0.0910  11.2309    16.7500  \n",
       "3          0.0133    0.0919   0.0924     0.0780  12.1923    18.2500  \n",
       "4          0.0066    0.0455   0.0460    -0.0260   7.2542    11.7500  \n",
       "...           ...       ...      ...        ...      ...        ...  \n",
       "10840      0.0133    0.0919   0.0924     0.1170  12.3671    18.2500  \n",
       "10841      0.0058    0.0399   0.0404     0.0260   6.5550    12.5000  \n",
       "10842      0.0062    0.0429   0.0433     0.0390   6.8609    12.0000  \n",
       "10843      0.0133    0.0919   0.0924     0.1170  14.0714    27.5000  \n",
       "10844      0.0059    0.0408   0.0412     0.0520   6.8609    13.5000  \n",
       "\n",
       "[10845 rows x 36 columns]"
      ]
     },
     "execution_count": 23,
     "metadata": {},
     "output_type": "execute_result"
    }
   ],
   "source": [
    "# let's look at some sample output for df_truth (you should now see values you expect)\n",
    "df_truth[-1]"
   ]
  },
  {
   "cell_type": "markdown",
   "metadata": {},
   "source": [
    "## Look at the differences"
   ]
  },
  {
   "cell_type": "code",
   "execution_count": 24,
   "metadata": {},
   "outputs": [],
   "source": [
    "#######################################################################\n",
    "# compute the error between everything except the inputs. \n",
    "# The inputs will be 0.0 since they're not predictions.\n",
    "#######################################################################   \n",
    "df_diff=[]\n",
    "df_diff.append(pd.DataFrame(scaler.inverse_transform(np.column_stack((x_test[-1], y_hat[-1]))) - \n",
    "                            scaler.inverse_transform(np.column_stack((x_test[-1], y_test[-1]))),\n",
    "                            columns=ACS_SCALED_DOMAIN) )"
   ]
  },
  {
   "cell_type": "code",
   "execution_count": 25,
   "metadata": {},
   "outputs": [
    {
     "name": "stdout",
     "output_type": "stream",
     "text": [
      "[2022-09-12 13:28:53 CDT]   DEBUG: Lat,lon,A's and Temp should all be zero. \n",
      "[2022-09-12 13:28:53 CDT]   DEBUG: All Beam Absorption should be the delta between truth and prediction. \n",
      "[2022-09-12 13:28:53 CDT]   DEBUG: Only the CDOM(ppb), output variable should have a value. \n"
     ]
    },
    {
     "data": {
      "text/html": [
       "<div>\n",
       "<style scoped>\n",
       "    .dataframe tbody tr th:only-of-type {\n",
       "        vertical-align: middle;\n",
       "    }\n",
       "\n",
       "    .dataframe tbody tr th {\n",
       "        vertical-align: top;\n",
       "    }\n",
       "\n",
       "    .dataframe thead th {\n",
       "        text-align: right;\n",
       "    }\n",
       "</style>\n",
       "<table border=\"1\" class=\"dataframe\">\n",
       "  <thead>\n",
       "    <tr style=\"text-align: right;\">\n",
       "      <th></th>\n",
       "      <th>Temp(C)</th>\n",
       "      <th>Cond(S/m)</th>\n",
       "      <th>Sal(PSU)</th>\n",
       "      <th>a650__</th>\n",
       "      <th>a676__</th>\n",
       "      <th>a715__</th>\n",
       "      <th>c510__</th>\n",
       "      <th>c532__</th>\n",
       "      <th>c555__</th>\n",
       "      <th>a412__</th>\n",
       "      <th>...</th>\n",
       "      <th>BetaP(532)</th>\n",
       "      <th>bbP(532)</th>\n",
       "      <th>bb(532)</th>\n",
       "      <th>Beta(650)</th>\n",
       "      <th>BetaP(650)</th>\n",
       "      <th>bbP(650)</th>\n",
       "      <th>bb(650)</th>\n",
       "      <th>CHL(ug/l)</th>\n",
       "      <th>PE(ppb)</th>\n",
       "      <th>CDOM(ppb)</th>\n",
       "    </tr>\n",
       "  </thead>\n",
       "  <tbody>\n",
       "    <tr>\n",
       "      <th>0</th>\n",
       "      <td>0.0000</td>\n",
       "      <td>0.0000</td>\n",
       "      <td>0.0000</td>\n",
       "      <td>0.0000</td>\n",
       "      <td>0.0000</td>\n",
       "      <td>0.0000</td>\n",
       "      <td>0.0000</td>\n",
       "      <td>0.0000</td>\n",
       "      <td>0.0000</td>\n",
       "      <td>0.0000</td>\n",
       "      <td>...</td>\n",
       "      <td>0.0000</td>\n",
       "      <td>0.0000</td>\n",
       "      <td>0.0000</td>\n",
       "      <td>0.0000</td>\n",
       "      <td>0.0000</td>\n",
       "      <td>0.0000</td>\n",
       "      <td>0.0000</td>\n",
       "      <td>0.0000</td>\n",
       "      <td>0.0000</td>\n",
       "      <td>NaN</td>\n",
       "    </tr>\n",
       "    <tr>\n",
       "      <th>1</th>\n",
       "      <td>0.0000</td>\n",
       "      <td>0.0000</td>\n",
       "      <td>0.0000</td>\n",
       "      <td>0.0000</td>\n",
       "      <td>0.0000</td>\n",
       "      <td>0.0000</td>\n",
       "      <td>0.0000</td>\n",
       "      <td>0.0000</td>\n",
       "      <td>0.0000</td>\n",
       "      <td>0.0000</td>\n",
       "      <td>...</td>\n",
       "      <td>0.0000</td>\n",
       "      <td>0.0000</td>\n",
       "      <td>0.0000</td>\n",
       "      <td>0.0000</td>\n",
       "      <td>0.0000</td>\n",
       "      <td>0.0000</td>\n",
       "      <td>0.0000</td>\n",
       "      <td>0.0000</td>\n",
       "      <td>0.0000</td>\n",
       "      <td>NaN</td>\n",
       "    </tr>\n",
       "    <tr>\n",
       "      <th>2</th>\n",
       "      <td>0.0000</td>\n",
       "      <td>0.0000</td>\n",
       "      <td>0.0000</td>\n",
       "      <td>0.0000</td>\n",
       "      <td>0.0000</td>\n",
       "      <td>0.0000</td>\n",
       "      <td>0.0000</td>\n",
       "      <td>0.0000</td>\n",
       "      <td>0.0000</td>\n",
       "      <td>0.0000</td>\n",
       "      <td>...</td>\n",
       "      <td>0.0000</td>\n",
       "      <td>0.0000</td>\n",
       "      <td>0.0000</td>\n",
       "      <td>0.0000</td>\n",
       "      <td>0.0000</td>\n",
       "      <td>0.0000</td>\n",
       "      <td>0.0000</td>\n",
       "      <td>0.0000</td>\n",
       "      <td>0.0000</td>\n",
       "      <td>NaN</td>\n",
       "    </tr>\n",
       "    <tr>\n",
       "      <th>3</th>\n",
       "      <td>0.0000</td>\n",
       "      <td>0.0000</td>\n",
       "      <td>0.0000</td>\n",
       "      <td>0.0000</td>\n",
       "      <td>0.0000</td>\n",
       "      <td>0.0000</td>\n",
       "      <td>0.0000</td>\n",
       "      <td>0.0000</td>\n",
       "      <td>0.0000</td>\n",
       "      <td>0.0000</td>\n",
       "      <td>...</td>\n",
       "      <td>0.0000</td>\n",
       "      <td>0.0000</td>\n",
       "      <td>0.0000</td>\n",
       "      <td>0.0000</td>\n",
       "      <td>0.0000</td>\n",
       "      <td>0.0000</td>\n",
       "      <td>0.0000</td>\n",
       "      <td>0.0000</td>\n",
       "      <td>0.0000</td>\n",
       "      <td>NaN</td>\n",
       "    </tr>\n",
       "    <tr>\n",
       "      <th>4</th>\n",
       "      <td>0.0000</td>\n",
       "      <td>0.0000</td>\n",
       "      <td>0.0000</td>\n",
       "      <td>0.0000</td>\n",
       "      <td>0.0000</td>\n",
       "      <td>0.0000</td>\n",
       "      <td>0.0000</td>\n",
       "      <td>0.0000</td>\n",
       "      <td>0.0000</td>\n",
       "      <td>0.0000</td>\n",
       "      <td>...</td>\n",
       "      <td>0.0000</td>\n",
       "      <td>0.0000</td>\n",
       "      <td>0.0000</td>\n",
       "      <td>0.0000</td>\n",
       "      <td>0.0000</td>\n",
       "      <td>0.0000</td>\n",
       "      <td>0.0000</td>\n",
       "      <td>0.0000</td>\n",
       "      <td>0.0000</td>\n",
       "      <td>NaN</td>\n",
       "    </tr>\n",
       "    <tr>\n",
       "      <th>...</th>\n",
       "      <td>...</td>\n",
       "      <td>...</td>\n",
       "      <td>...</td>\n",
       "      <td>...</td>\n",
       "      <td>...</td>\n",
       "      <td>...</td>\n",
       "      <td>...</td>\n",
       "      <td>...</td>\n",
       "      <td>...</td>\n",
       "      <td>...</td>\n",
       "      <td>...</td>\n",
       "      <td>...</td>\n",
       "      <td>...</td>\n",
       "      <td>...</td>\n",
       "      <td>...</td>\n",
       "      <td>...</td>\n",
       "      <td>...</td>\n",
       "      <td>...</td>\n",
       "      <td>...</td>\n",
       "      <td>...</td>\n",
       "      <td>...</td>\n",
       "    </tr>\n",
       "    <tr>\n",
       "      <th>10840</th>\n",
       "      <td>0.0000</td>\n",
       "      <td>0.0000</td>\n",
       "      <td>0.0000</td>\n",
       "      <td>0.0000</td>\n",
       "      <td>0.0000</td>\n",
       "      <td>0.0000</td>\n",
       "      <td>0.0000</td>\n",
       "      <td>0.0000</td>\n",
       "      <td>0.0000</td>\n",
       "      <td>0.0000</td>\n",
       "      <td>...</td>\n",
       "      <td>0.0000</td>\n",
       "      <td>0.0000</td>\n",
       "      <td>0.0000</td>\n",
       "      <td>0.0000</td>\n",
       "      <td>0.0000</td>\n",
       "      <td>0.0000</td>\n",
       "      <td>0.0000</td>\n",
       "      <td>0.0000</td>\n",
       "      <td>0.0000</td>\n",
       "      <td>NaN</td>\n",
       "    </tr>\n",
       "    <tr>\n",
       "      <th>10841</th>\n",
       "      <td>0.0000</td>\n",
       "      <td>0.0000</td>\n",
       "      <td>0.0000</td>\n",
       "      <td>0.0000</td>\n",
       "      <td>0.0000</td>\n",
       "      <td>0.0000</td>\n",
       "      <td>0.0000</td>\n",
       "      <td>0.0000</td>\n",
       "      <td>0.0000</td>\n",
       "      <td>0.0000</td>\n",
       "      <td>...</td>\n",
       "      <td>0.0000</td>\n",
       "      <td>0.0000</td>\n",
       "      <td>0.0000</td>\n",
       "      <td>0.0000</td>\n",
       "      <td>0.0000</td>\n",
       "      <td>0.0000</td>\n",
       "      <td>0.0000</td>\n",
       "      <td>0.0000</td>\n",
       "      <td>0.0000</td>\n",
       "      <td>NaN</td>\n",
       "    </tr>\n",
       "    <tr>\n",
       "      <th>10842</th>\n",
       "      <td>0.0000</td>\n",
       "      <td>0.0000</td>\n",
       "      <td>0.0000</td>\n",
       "      <td>0.0000</td>\n",
       "      <td>0.0000</td>\n",
       "      <td>0.0000</td>\n",
       "      <td>0.0000</td>\n",
       "      <td>0.0000</td>\n",
       "      <td>0.0000</td>\n",
       "      <td>0.0000</td>\n",
       "      <td>...</td>\n",
       "      <td>0.0000</td>\n",
       "      <td>0.0000</td>\n",
       "      <td>0.0000</td>\n",
       "      <td>0.0000</td>\n",
       "      <td>0.0000</td>\n",
       "      <td>0.0000</td>\n",
       "      <td>0.0000</td>\n",
       "      <td>0.0000</td>\n",
       "      <td>0.0000</td>\n",
       "      <td>NaN</td>\n",
       "    </tr>\n",
       "    <tr>\n",
       "      <th>10843</th>\n",
       "      <td>0.0000</td>\n",
       "      <td>0.0000</td>\n",
       "      <td>0.0000</td>\n",
       "      <td>0.0000</td>\n",
       "      <td>0.0000</td>\n",
       "      <td>0.0000</td>\n",
       "      <td>0.0000</td>\n",
       "      <td>0.0000</td>\n",
       "      <td>0.0000</td>\n",
       "      <td>0.0000</td>\n",
       "      <td>...</td>\n",
       "      <td>0.0000</td>\n",
       "      <td>0.0000</td>\n",
       "      <td>0.0000</td>\n",
       "      <td>0.0000</td>\n",
       "      <td>0.0000</td>\n",
       "      <td>0.0000</td>\n",
       "      <td>0.0000</td>\n",
       "      <td>0.0000</td>\n",
       "      <td>0.0000</td>\n",
       "      <td>NaN</td>\n",
       "    </tr>\n",
       "    <tr>\n",
       "      <th>10844</th>\n",
       "      <td>0.0000</td>\n",
       "      <td>0.0000</td>\n",
       "      <td>0.0000</td>\n",
       "      <td>0.0000</td>\n",
       "      <td>0.0000</td>\n",
       "      <td>0.0000</td>\n",
       "      <td>0.0000</td>\n",
       "      <td>0.0000</td>\n",
       "      <td>0.0000</td>\n",
       "      <td>0.0000</td>\n",
       "      <td>...</td>\n",
       "      <td>0.0000</td>\n",
       "      <td>0.0000</td>\n",
       "      <td>0.0000</td>\n",
       "      <td>0.0000</td>\n",
       "      <td>0.0000</td>\n",
       "      <td>0.0000</td>\n",
       "      <td>0.0000</td>\n",
       "      <td>0.0000</td>\n",
       "      <td>0.0000</td>\n",
       "      <td>NaN</td>\n",
       "    </tr>\n",
       "  </tbody>\n",
       "</table>\n",
       "<p>10845 rows × 36 columns</p>\n",
       "</div>"
      ],
      "text/plain": [
       "       Temp(C)  Cond(S/m)  Sal(PSU)  a650__  a676__  a715__  c510__  c532__  \\\n",
       "0       0.0000     0.0000    0.0000  0.0000  0.0000  0.0000  0.0000  0.0000   \n",
       "1       0.0000     0.0000    0.0000  0.0000  0.0000  0.0000  0.0000  0.0000   \n",
       "2       0.0000     0.0000    0.0000  0.0000  0.0000  0.0000  0.0000  0.0000   \n",
       "3       0.0000     0.0000    0.0000  0.0000  0.0000  0.0000  0.0000  0.0000   \n",
       "4       0.0000     0.0000    0.0000  0.0000  0.0000  0.0000  0.0000  0.0000   \n",
       "...        ...        ...       ...     ...     ...     ...     ...     ...   \n",
       "10840   0.0000     0.0000    0.0000  0.0000  0.0000  0.0000  0.0000  0.0000   \n",
       "10841   0.0000     0.0000    0.0000  0.0000  0.0000  0.0000  0.0000  0.0000   \n",
       "10842   0.0000     0.0000    0.0000  0.0000  0.0000  0.0000  0.0000  0.0000   \n",
       "10843   0.0000     0.0000    0.0000  0.0000  0.0000  0.0000  0.0000  0.0000   \n",
       "10844   0.0000     0.0000    0.0000  0.0000  0.0000  0.0000  0.0000  0.0000   \n",
       "\n",
       "       c555__  a412__  ...  BetaP(532)  bbP(532)  bb(532)  Beta(650)  \\\n",
       "0      0.0000  0.0000  ...      0.0000    0.0000   0.0000     0.0000   \n",
       "1      0.0000  0.0000  ...      0.0000    0.0000   0.0000     0.0000   \n",
       "2      0.0000  0.0000  ...      0.0000    0.0000   0.0000     0.0000   \n",
       "3      0.0000  0.0000  ...      0.0000    0.0000   0.0000     0.0000   \n",
       "4      0.0000  0.0000  ...      0.0000    0.0000   0.0000     0.0000   \n",
       "...       ...     ...  ...         ...       ...      ...        ...   \n",
       "10840  0.0000  0.0000  ...      0.0000    0.0000   0.0000     0.0000   \n",
       "10841  0.0000  0.0000  ...      0.0000    0.0000   0.0000     0.0000   \n",
       "10842  0.0000  0.0000  ...      0.0000    0.0000   0.0000     0.0000   \n",
       "10843  0.0000  0.0000  ...      0.0000    0.0000   0.0000     0.0000   \n",
       "10844  0.0000  0.0000  ...      0.0000    0.0000   0.0000     0.0000   \n",
       "\n",
       "       BetaP(650)  bbP(650)  bb(650)  CHL(ug/l)  PE(ppb)  CDOM(ppb)  \n",
       "0          0.0000    0.0000   0.0000     0.0000   0.0000        NaN  \n",
       "1          0.0000    0.0000   0.0000     0.0000   0.0000        NaN  \n",
       "2          0.0000    0.0000   0.0000     0.0000   0.0000        NaN  \n",
       "3          0.0000    0.0000   0.0000     0.0000   0.0000        NaN  \n",
       "4          0.0000    0.0000   0.0000     0.0000   0.0000        NaN  \n",
       "...           ...       ...      ...        ...      ...        ...  \n",
       "10840      0.0000    0.0000   0.0000     0.0000   0.0000        NaN  \n",
       "10841      0.0000    0.0000   0.0000     0.0000   0.0000        NaN  \n",
       "10842      0.0000    0.0000   0.0000     0.0000   0.0000        NaN  \n",
       "10843      0.0000    0.0000   0.0000     0.0000   0.0000        NaN  \n",
       "10844      0.0000    0.0000   0.0000     0.0000   0.0000        NaN  \n",
       "\n",
       "[10845 rows x 36 columns]"
      ]
     },
     "execution_count": 25,
     "metadata": {},
     "output_type": "execute_result"
    }
   ],
   "source": [
    "# look at the results\n",
    "debug.msg_debug(\"Lat,lon,A's and Temp should all be zero.\")\n",
    "debug.msg_debug(\"All Beam Absorption should be the delta between truth and prediction.\")\n",
    "debug.msg_debug(\"Only the CDOM(ppb), output variable should have a value.\")\n",
    "df_diff[-1]"
   ]
  },
  {
   "cell_type": "markdown",
   "metadata": {},
   "source": [
    "## Show Results (graphically)\n",
    "Plot the number of iterations against the Mean Absolute Error (MAE) and Mean Squared Error (MSE).\n",
    "\n",
    "In statistics, mean absolute error (MAE) is a measure of difference between two continuous variables. Assume X and Y are variables of paired observations that express the same phenomenon. Examples of Y versus X include comparisons of predicted versus observed, subsequent time versus initial time, and one technique of measurement versus an alternative technique of measurement. Consider a scatter plot of n points, where point i has coordinates (xi, yi)... Mean Absolute Error (MAE) is the average vertical distance between each point and the identity line. MAE is also the average horizontal distance between each point and the identity line. \n",
    "\n",
    "In statistics, the mean squared error (MSE) or mean squared deviation (MSD) of an estimator (of a procedure for estimating an unobserved quantity) measures the average of the squares of the errors—that is, the average squared difference between the estimated values and what is estimated. MSE is a risk function, corresponding to the expected value of the squared error loss. The fact that MSE is almost always strictly positive (and not zero) is because of randomness or because the estimator does not account for information that could produce a more accurate estimate.[1]\n",
    "\n",
    "The MSE is a measure of the quality of an estimator—it is always non-negative, and values closer to zero are better.\n",
    "\n",
    "The MSE is the second moment (about the origin) of the error, and thus incorporates both the variance of the estimator (how widely spread the estimates are from one data sample to another) and its bias (how far off the average estimated value is from the truth). For an unbiased estimator, the MSE is the variance of the estimator. Like the variance, MSE has the same units of measurement as the square of the quantity being estimated. In an analogy to standard deviation, taking the square root of MSE yields the root-mean-square error or root-mean-square deviation (RMSE or RMSD), which has the same units as the quantity being estimated; for an unbiased estimator, the RMSE is the square root of the variance, known as the standard error. \n",
    "\n",
    "\n",
    "Train Loss: Value of the objective function you are minimizing. This value could be a positive or negative number, depending on the specific objective function.\n",
    "\n",
    "Train Error: Human interpretable metric of your model's performance. Usually means what % of training examples the model got incorrect. This is always a value between 0 and 1.\n",
    "\n",
    "Loss\n",
    "\n",
    "A measure of how far a model's predictions are from its label. Or, to phrase it more pessimistically, a measure of how bad the model is. To determine this value, a model must define a loss function. For example, linear regression models typically use mean squared error for a loss function, while logistic regression models use Log Loss."
   ]
  },
  {
   "cell_type": "code",
   "execution_count": 26,
   "metadata": {},
   "outputs": [
    {
     "data": {
      "image/png": "[encoded data removed]",
      "text/plain": [
       "<Figure size 432x288 with 1 Axes>"
      ]
     },
     "metadata": {
      "needs_background": "light"
     },
     "output_type": "display_data"
    },
    {
     "data": {
      "image/png": "[encoded data removed]",
      "text/plain": [
       "<Figure size 432x288 with 1 Axes>"
      ]
     },
     "metadata": {
      "needs_background": "light"
     },
     "output_type": "display_data"
    }
   ],
   "source": [
    "import matplotlib.pyplot as plt\n",
    "\n",
    "def plot_history(history):\n",
    "\n",
    "  hist = pd.DataFrame(history.history)\n",
    "  hist['epoch'] = history.epoch\n",
    "  fig=plt.figure()\n",
    "  fig.suptitle('model accuracy', fontsize=14)\n",
    "  plt.plot(history.history['accuracy'])\n",
    "  plt.plot(history.history['val_accuracy'])\n",
    "  plt.ylabel('accuracy')\n",
    "  plt.xlabel('epoch')\n",
    "  plt.legend(['train', 'test'], loc='upper left')\n",
    "  plt.show()\n",
    "  #plt.savefig(\"./\"+PROJECT_OUTPUT+\"_\"+str(ACTIVE_MONTH)+\"_depth_\" + str(daDepth) + \"_LossVsEpoch.png\")    \n",
    "  plt.close()\n",
    "    \n",
    "  # summarize history for loss\n",
    "  fig=plt.figure()\n",
    "  fig.suptitle('model loss', fontsize=14)\n",
    "  plt.plot(history.history['loss'])\n",
    "  plt.plot(history.history['val_loss'])\n",
    "  plt.ylabel('loss')\n",
    "  plt.xlabel('epoch')\n",
    "  plt.legend(['train', 'test'], loc='upper left')\n",
    "  plt.show()    \n",
    "  #plt.savefig(\"./\"+PROJECT_OUTPUT+\"_\"+str(ACTIVE_MONTH)+\"_depth_\" + str(daDepth) + \"_AccuracyVsEpoch.png\")\n",
    "  plt.close()\n",
    "\n",
    "hist=[]\n",
    "\n",
    "current_history = models[-1].history\n",
    "hist.append(pd.DataFrame(current_history.history))  \n",
    "hist[-1]['epoch']=current_history.epoch\n",
    "plot_history(current_history)"
   ]
  },
  {
   "cell_type": "markdown",
   "metadata": {},
   "source": [
    "## Show Test versus Trained results (graphically)\n",
    "Plot the original 20% of data pulled from the training set against the predicted values from the model / predictor."
   ]
  },
  {
   "cell_type": "code",
   "execution_count": 27,
   "metadata": {},
   "outputs": [
    {
     "name": "stdout",
     "output_type": "stream",
     "text": [
      "Processing c510__\n"
     ]
    },
    {
     "data": {
      "image/png": "[encoded data removed]",
      "text/plain": [
       "<Figure size 432x288 with 1 Axes>"
      ]
     },
     "metadata": {
      "needs_background": "light"
     },
     "output_type": "display_data"
    },
    {
     "name": "stdout",
     "output_type": "stream",
     "text": [
      "Processing c532__\n"
     ]
    },
    {
     "data": {
      "image/png": "[encoded data removed]",
      "text/plain": [
       "<Figure size 432x288 with 1 Axes>"
      ]
     },
     "metadata": {
      "needs_background": "light"
     },
     "output_type": "display_data"
    },
    {
     "name": "stdout",
     "output_type": "stream",
     "text": [
      "Processing c555__\n"
     ]
    },
    {
     "data": {
      "image/png": "[encoded data removed]",
      "text/plain": [
       "<Figure size 432x288 with 1 Axes>"
      ]
     },
     "metadata": {
      "needs_background": "light"
     },
     "output_type": "display_data"
    },
    {
     "name": "stdout",
     "output_type": "stream",
     "text": [
      "Processing c650__\n"
     ]
    },
    {
     "data": {
      "image/png": "[encoded data removed]",
      "text/plain": [
       "<Figure size 432x288 with 1 Axes>"
      ]
     },
     "metadata": {
      "needs_background": "light"
     },
     "output_type": "display_data"
    },
    {
     "name": "stdout",
     "output_type": "stream",
     "text": [
      "Processing c676__\n"
     ]
    },
    {
     "data": {
      "image/png": "[encoded data removed]",
      "text/plain": [
       "<Figure size 432x288 with 1 Axes>"
      ]
     },
     "metadata": {
      "needs_background": "light"
     },
     "output_type": "display_data"
    },
    {
     "name": "stdout",
     "output_type": "stream",
     "text": [
      "Processing c715__\n"
     ]
    },
    {
     "data": {
      "image/png": "[encoded data removed]",
      "text/plain": [
       "<Figure size 432x288 with 1 Axes>"
      ]
     },
     "metadata": {
      "needs_background": "light"
     },
     "output_type": "display_data"
    },
    {
     "name": "stdout",
     "output_type": "stream",
     "text": [
      "Processing c412__\n"
     ]
    },
    {
     "data": {
      "image/png": "[encoded data removed]",
      "text/plain": [
       "<Figure size 432x288 with 1 Axes>"
      ]
     },
     "metadata": {
      "needs_background": "light"
     },
     "output_type": "display_data"
    },
    {
     "name": "stdout",
     "output_type": "stream",
     "text": [
      "Processing c440__\n"
     ]
    },
    {
     "data": {
      "image/png": "[encoded data removed]",
      "text/plain": [
       "<Figure size 432x288 with 1 Axes>"
      ]
     },
     "metadata": {
      "needs_background": "light"
     },
     "output_type": "display_data"
    },
    {
     "name": "stdout",
     "output_type": "stream",
     "text": [
      "Processing c488__\n"
     ]
    },
    {
     "data": {
      "image/png": "[encoded data removed]",
      "text/plain": [
       "<Figure size 432x288 with 1 Axes>"
      ]
     },
     "metadata": {
      "needs_background": "light"
     },
     "output_type": "display_data"
    }
   ],
   "source": [
    "#test_predictions = model.predict(normed_test_data).flatten()\n",
    "plt_var_domain=[\"c510__\",\"c532__\",\"c555__\",\"c650__\",\"c676__\",\"c715__\",\"c412__\",\"c440__\",\"c488__\"]\n",
    "\n",
    "for col_name in plt_var_domain:  \n",
    "    print(\"Processing \" + str(col_name))\n",
    "    x_plot = df_calc[-1][col_name]\n",
    "    y_plot = df_truth[-1][col_name]\n",
    "    fig=plt.figure()\n",
    "    fig.suptitle(str(col_name), fontsize=14)\n",
    "    plt.scatter(x_plot, y_plot)\n",
    "    plt.xlabel('True Values')\n",
    "    plt.ylabel('Predictions')\n",
    "    plt.axis('equal')\n",
    "    plt.axis('square')\n",
    "    plt.xlim([0,plt.xlim()[1]])\n",
    "    plt.ylim([0,plt.ylim()[1]])\n",
    "    _ = plt.plot([-100, 100], [-100, 100])\n",
    "    plt.show()\n",
    "    #plt.savefig(\"./\"+PROJECT_OUTPUT+\"_\"+str(ACTIVE_MONTH)+\"_depth_\"+ str(daDepth) + \"_\" + str(col_name) + \"_PredVsTest.png\")\n",
    "    plt.close()"
   ]
  },
  {
   "cell_type": "markdown",
   "metadata": {},
   "source": [
    "## Display accuracy of prediction\n",
    "This histogram shows the prediction made minus the test labels (20% pulled from the original dataset).\n",
    "The results should be as close to zero as possible."
   ]
  },
  {
   "cell_type": "code",
   "execution_count": 28,
   "metadata": {},
   "outputs": [
    {
     "name": "stdout",
     "output_type": "stream",
     "text": [
      "Processing c510__\n"
     ]
    },
    {
     "data": {
      "image/png": "[encoded data removed]",
      "text/plain": [
       "<Figure size 432x288 with 1 Axes>"
      ]
     },
     "metadata": {
      "needs_background": "light"
     },
     "output_type": "display_data"
    },
    {
     "name": "stdout",
     "output_type": "stream",
     "text": [
      "Processing c532__\n"
     ]
    },
    {
     "data": {
      "image/png": "[encoded data removed]",
      "text/plain": [
       "<Figure size 432x288 with 1 Axes>"
      ]
     },
     "metadata": {
      "needs_background": "light"
     },
     "output_type": "display_data"
    },
    {
     "name": "stdout",
     "output_type": "stream",
     "text": [
      "Processing c555__\n"
     ]
    },
    {
     "data": {
      "image/png": "[encoded data removed]",
      "text/plain": [
       "<Figure size 432x288 with 1 Axes>"
      ]
     },
     "metadata": {
      "needs_background": "light"
     },
     "output_type": "display_data"
    },
    {
     "name": "stdout",
     "output_type": "stream",
     "text": [
      "Processing c650__\n"
     ]
    },
    {
     "data": {
      "image/png": "[encoded data removed]",
      "text/plain": [
       "<Figure size 432x288 with 1 Axes>"
      ]
     },
     "metadata": {
      "needs_background": "light"
     },
     "output_type": "display_data"
    },
    {
     "name": "stdout",
     "output_type": "stream",
     "text": [
      "Processing c676__\n"
     ]
    },
    {
     "data": {
      "image/png": "[encoded data removed]",
      "text/plain": [
       "<Figure size 432x288 with 1 Axes>"
      ]
     },
     "metadata": {
      "needs_background": "light"
     },
     "output_type": "display_data"
    },
    {
     "name": "stdout",
     "output_type": "stream",
     "text": [
      "Processing c715__\n"
     ]
    },
    {
     "data": {
      "image/png": "[encoded data removed]",
      "text/plain": [
       "<Figure size 432x288 with 1 Axes>"
      ]
     },
     "metadata": {
      "needs_background": "light"
     },
     "output_type": "display_data"
    },
    {
     "name": "stdout",
     "output_type": "stream",
     "text": [
      "Processing c412__\n"
     ]
    },
    {
     "data": {
      "image/png": "[encoded data removed]",
      "text/plain": [
       "<Figure size 432x288 with 1 Axes>"
      ]
     },
     "metadata": {
      "needs_background": "light"
     },
     "output_type": "display_data"
    },
    {
     "name": "stdout",
     "output_type": "stream",
     "text": [
      "Processing c440__\n"
     ]
    },
    {
     "data": {
      "image/png": "[encoded data removed]",
      "text/plain": [
       "<Figure size 432x288 with 1 Axes>"
      ]
     },
     "metadata": {
      "needs_background": "light"
     },
     "output_type": "display_data"
    },
    {
     "name": "stdout",
     "output_type": "stream",
     "text": [
      "Processing c488__\n"
     ]
    },
    {
     "data": {
      "image/png": "[encoded data removed]",
      "text/plain": [
       "<Figure size 432x288 with 1 Axes>"
      ]
     },
     "metadata": {
      "needs_background": "light"
     },
     "output_type": "display_data"
    }
   ],
   "source": [
    "plt_x_min = -0.1\n",
    "plt_x_max =  0.1\n",
    "\n",
    "for col_name in plt_var_domain:  \n",
    "    print(\"Processing \" + str(col_name))\n",
    "    fig=plt.figure()\n",
    "    fig.suptitle(str(col_name), fontsize=14)\n",
    "    plt.hist(df_diff[-1][col_name], bins = 25)\n",
    "    plt.xlabel(\"Prediction Error\")\n",
    "    _ = plt.ylabel(\"Count\")\n",
    "    plt.show()\n",
    "    #plt.savefig(\"./\"+PROJECT_OUTPUT+\"_\"+str(ACTIVE_MONTH)+\"_depth_\"+str(daDepth) + \"_\" + str(col_name) + \"_Histogram.png\")\n",
    "    plt.close()"
   ]
  }
 ],
 "metadata": {
  "kernelspec": {
   "display_name": "Python 3",
   "language": "python",
   "name": "python3"
  },
  "language_info": {
   "codemirror_mode": {
    "name": "ipython",
    "version": 3
   },
   "file_extension": ".py",
   "mimetype": "text/x-python",
   "name": "python",
   "nbconvert_exporter": "python",
   "pygments_lexer": "ipython3",
   "version": "3.7.10"
  }
 },
 "nbformat": 4,
 "nbformat_minor": 4
}
